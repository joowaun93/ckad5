{
 "cells": [
  {
   "cell_type": "markdown",
   "id": "78d15ef8",
   "metadata": {},
   "source": [
    "## 클래스\n",
    "클래스(class)란 똑같은 무엇인가를 계속해서 만들어 낼 수 있는 설계 도면이고(과자 틀), 객체(object)란 클래스로 만든 피조물(과자 틀을 사용해 만든 과자)을 뜻한다.\n",
    "과자 틀 → 클래스 (class)\n",
    "과자 틀에 의해서 만들어진 과자 → 객체 (object)\n",
    "\n",
    "- class : 함수 + 변수 모아놓은 것\n",
    "- 오브젝트(object) : 클래스를 써서 만든 것\n",
    "- 오브젝트(object) == 인스턴스(instance)\n",
    "- 클래스를 정의한 후, 그 클래스를 사용해서 데이터 객체(인스턴스)를 만들 수 있다.\n",
    "- 동일한 클래스에 의해 만들어진 각 객체들은 유사한 특징을 공유한다.\n",
    "- 모든 인스턴스에서 메소드(=코드)는 동일하지만, 속성(데이터)는 다르다.\n",
    " - 메소드 : 코드\n",
    " - 속성 : 데이터\n",
    " - 인스턴스 : 클래스에 의해 만들어진 데이터 객체\n",
    " - a = 클래스() 이렇게 만든 a는 객체이다. 그리고 a 객체는 클래스의 인스턴스이다. 즉 인스턴스라는 말은 특정 객체(a)가 어떤 클래스의 객체인지를 관계 위주로 설명할 때 사용\n"
   ]
  },
  {
   "cell_type": "code",
   "execution_count": null,
   "id": "68a67bad",
   "metadata": {},
   "outputs": [],
   "source": [
    "# [과제] 클래스의 정의 및 사용하는 방법을 설명\n",
    "\n",
    "- 붕어빵 틀(클래스)\n",
    "- 붕어빵(오브젝트)\n",
    "- 붕어빵 틀에 의해 만들어진 것(인스턴스)"
   ]
  },
  {
   "cell_type": "code",
   "execution_count": 7,
   "id": "7391c6a1",
   "metadata": {},
   "outputs": [
    {
     "name": "stdout",
     "output_type": "stream",
     "text": [
      "오주완\n",
      "30\n",
      "Plant_madicine\n"
     ]
    }
   ],
   "source": [
    "# 클래스 생성자(인자가 있는경우)\n",
    "\n",
    "class Cakd:\n",
    "    def __init__(self,name,age,major):\n",
    "        self.name = name\n",
    "        self.age = age\n",
    "        self.major = major\n",
    "#        print(f'{self,name}은 {self,age}세 이며 {self,major}을 전공했습니다')\n",
    "\n",
    "오주완 = Cakd('오주완', 30 , 'Plant_madicine')\n",
    "print(오주완.name)\n",
    "print(오주완.age)\n",
    "print(오주완.major)"
   ]
  },
  {
   "cell_type": "code",
   "execution_count": 9,
   "id": "a34d543b",
   "metadata": {},
   "outputs": [
    {
     "name": "stdout",
     "output_type": "stream",
     "text": [
      "Cakd 인스턴스 객체가 메모리에서 제거됩니다.\n"
     ]
    }
   ],
   "source": [
    "# 클래스 소멸자\n",
    "# 클래스 인스턴스 객체가 메모리에서 제거될 때 자동으로 호출되는 클래스 메소드\n",
    "\n",
    "class Cakd:\n",
    "    def __del__(self):\n",
    "        print('Cakd 인스턴스 객체가 메모리에서 제거됩니다.')\n",
    "        \n",
    "obj = Cakd()\n",
    "del obj"
   ]
  },
  {
   "cell_type": "markdown",
   "id": "0efa9e4f",
   "metadata": {},
   "source": [
    "## 클래스 멤버, 클래스 메소드\n",
    "- 클래스를 구성하는 주요 요소는 클래스 멤버(변수)와 클래스 메소드(함수)로 클래스 공간내에서 정의\n",
    "- 클래스 멤버는 클래스 메소드내에서 정의되는 지역변수나 인스턴스 멤버와는 다름\n",
    "- 클래스 메소드는 첫번째 인자가 반드시 self로 시작\n",
    "- self는 이 클래스의 인스턴스 객체를 가리키는 참조자\n",
    "- 인스턴스 객체에서 클래스 메소드를 호출 시 첫번째 인자인 self를 생략"
   ]
  },
  {
   "cell_type": "code",
   "execution_count": 10,
   "id": "b2e016b5",
   "metadata": {},
   "outputs": [
    {
     "name": "stdout",
     "output_type": "stream",
     "text": [
      "안녕하세요\n",
      "안녕하세요\n"
     ]
    }
   ],
   "source": [
    "class Myclass:\n",
    "    var = '안녕하세요' #클래스 멤버(클래스 변수)\n",
    "    def sayHello(self): # 클래스 메소드\n",
    "        return self.var\n",
    "    \n",
    "obj = Myclass()\n",
    "print(obj.var)\n",
    "print(obj.sayHello())"
   ]
  },
  {
   "cell_type": "code",
   "execution_count": 14,
   "id": "6868944e",
   "metadata": {},
   "outputs": [
    {
     "name": "stdout",
     "output_type": "stream",
     "text": [
      "안녕하세요\n",
      "안녕\n",
      "안녕하세요\n"
     ]
    }
   ],
   "source": [
    "# 클래스 멤버와 인스턴스 멤버\n",
    "# 클래스 멤버는 클래스 메소드 바깥에서 선언되고 인스턴스 멤버는 클래스 메소드 안에서 self와 함께 선언\n",
    "\n",
    "class Myclass:\n",
    "    var = '안녕하세요' # 클래스 멤버\n",
    "    def sayHello(self):  # 클래스 메소드\n",
    "        param1 = '안녕'    # 지역변수\n",
    "        self.param2 = '하이'    #인스턴스 멤버\n",
    "        print(param1)\n",
    "        print(self.var)\n",
    "        \n",
    "obj = Myclass()\n",
    "print(obj.var)\n",
    "obj.sayHello()"
   ]
  },
  {
   "cell_type": "code",
   "execution_count": 15,
   "id": "d59eff68",
   "metadata": {},
   "outputs": [
    {
     "name": "stdout",
     "output_type": "stream",
     "text": [
      "안녕하세요\n",
      "kevin! 다음에 보자\n"
     ]
    }
   ],
   "source": [
    "# 클래스 메소드\n",
    "# 클래스내에서 정의되는 클래스 메소드는 첫번째 인자가 반드시 self여야 한다.\n",
    "\n",
    "class Myclass:\n",
    "    def sayHello(self):\n",
    "        print('안녕하세요')\n",
    "    def sayBye(self,name):\n",
    "        print(f'{name}! 다음에 보자')\n",
    "        \n",
    "obj = Myclass()\n",
    "obj.sayHello()\n",
    "obj.sayBye('kevin')"
   ]
  },
  {
   "cell_type": "markdown",
   "id": "db5f9674",
   "metadata": {},
   "source": [
    "## 객체 지향 프로그래밍(Object-Oriented programming)\n",
    "- 클래스 인스턴스는 객체(Object)라고도 하며 이렇게 클래스를 정의하고 객체를 만드는 패턴을 객체 지향 프로그래밍(OOP)이라고 함.\n",
    "- 인스턴스를 불러온다는 것은 클래스를 가져와 객체로 바꿔준다는 것인데 type() 함수를 사용하는 것은 그 반대\n",
    "- 객체의 type을 확인해 보면 해당 객체가 어떤 클래스의 인스턴스인지를 확인\n",
    "- 파이썬에서 main은 \"현재 실행중인 파일\"을 의미"
   ]
  },
  {
   "cell_type": "code",
   "execution_count": 17,
   "id": "e3b4686f",
   "metadata": {},
   "outputs": [
    {
     "name": "stdout",
     "output_type": "stream",
     "text": [
      "<class '__main__.test'>\n"
     ]
    }
   ],
   "source": [
    "# 임의의 클래스를 작성한 후 인스턴스를 생성하고 그것의 타입을 확인\n",
    "class test:\n",
    "    pass\n",
    "test = test()\n",
    "print(type(test))"
   ]
  },
  {
   "cell_type": "markdown",
   "id": "36d194b7",
   "metadata": {},
   "source": [
    "## 클래스 상속\n",
    "- 어떤 클래스가 가지고 있는 모든 멤버나 메소드에 대해서 상속받는 클래스가 모두 사용할 수 있도록 해주는 것\n",
    "- 상속을 해주는 클래스가 부모클래스(슈퍼), 상속을 받는 클래스가 자식클래스(서브)라 함. class 자식클래스명(부모클래스명)\n",
    "- 자식 클래스는 여러 부모클래스로부터 상속받을 수 있으면 다중상속이라함. class 자식클래스명(부모클래스1,부모클래스2....)"
   ]
  },
  {
   "cell_type": "code",
   "execution_count": 18,
   "id": "4f568ad8",
   "metadata": {},
   "outputs": [
    {
     "name": "stdout",
     "output_type": "stream",
     "text": [
      "3\n",
      "6\n",
      "2\n"
     ]
    }
   ],
   "source": [
    "class Sum:\n",
    "    def sum(self,n1,n2):\n",
    "        return n1 + n2\n",
    "    \n",
    "class Mul:\n",
    "    def mul(self,n1,n2):\n",
    "        return n1 * n2\n",
    "\n",
    "class Cal(Sum,Mul):\n",
    "    def sub(self,n1,n2):\n",
    "        return n1 - n2\n",
    "    \n",
    "obj = Cal()\n",
    "print(obj.sum(1,2))\n",
    "print(obj.mul(3,2))\n",
    "print(obj.sub(5,3))"
   ]
  },
  {
   "cell_type": "code",
   "execution_count": 23,
   "id": "1080e763",
   "metadata": {},
   "outputs": [
    {
     "name": "stdout",
     "output_type": "stream",
     "text": [
      "JW, 안녕하세요\n",
      "JW!, 다음에 보자\n"
     ]
    }
   ],
   "source": [
    "# Q. 클래스 Myclass 를 작성하고 객체를 생성하여 아래와 같이 출력하세요(생성자 사용)\n",
    "# JW, 안녕하세요\n",
    "# JW! 다음에 보자\n",
    "class MyClass:\n",
    "    def __init__(self,name):\n",
    "        self.name=name\n",
    "    def sayHello(self):\n",
    "        print(f'{self.name}, 안녕하세요')\n",
    "    def sayBye(self):\n",
    "        print(f'{self.name}!, 다음에 보자')\n",
    "obj=MyClass('JW')\n",
    "obj.sayHello()\n",
    "obj.sayBye()\n"
   ]
  },
  {
   "cell_type": "code",
   "execution_count": 24,
   "id": "53fe4e18",
   "metadata": {},
   "outputs": [
    {
     "name": "stdout",
     "output_type": "stream",
     "text": [
      "jW, 안녕하세요\n",
      "jW! 다음에 보자\n"
     ]
    }
   ],
   "source": [
    "# 생성자 안쓰고 만드는법\n",
    "class MyClass:\n",
    "    def sayHello(self,name):\n",
    "        print(f'{name}, 안녕하세요')\n",
    "    def sayBye(self,name):\n",
    "        print(f'{name}! 다음에 보자')\n",
    "        \n",
    "obj = MyClass()\n",
    "obj.sayHello('jW')\n",
    "obj.sayBye('jW')\n"
   ]
  },
  {
   "cell_type": "code",
   "execution_count": null,
   "id": "d50820b7",
   "metadata": {},
   "outputs": [],
   "source": [
    "#[과제] 사용자 함수를 작성하여 기본가격 1000원에 입력받은 값을 추가한 가격을 산출하세요(지역변수,전역변수 2가지방법)"
   ]
  },
  {
   "cell_type": "code",
   "execution_count": 4,
   "id": "540aa70e",
   "metadata": {},
   "outputs": [
    {
     "name": "stdout",
     "output_type": "stream",
     "text": [
      "추가 가격을 입력해주세요> 100\n",
      "가격: 1100원\n"
     ]
    }
   ],
   "source": [
    "p = int(input('추가 가격을 입력해주세요> '))\n",
    "def price(p):\n",
    "    b = 1000  # 지역변수\n",
    "    b += p\n",
    "    return b\n",
    "print(f'가격: {price(p)}원')"
   ]
  },
  {
   "cell_type": "code",
   "execution_count": 3,
   "id": "9a51ba80",
   "metadata": {},
   "outputs": [
    {
     "data": {
      "text/plain": [
       "3000"
      ]
     },
     "execution_count": 3,
     "metadata": {},
     "output_type": "execute_result"
    }
   ],
   "source": [
    "# 전역변수 (return 을 사용해서 받음)\n",
    "a = 1000 \n",
    "\n",
    "class Price:\n",
    "    def cal(self,price):\n",
    "        return a+price\n",
    "\n",
    "\n",
    "obj = Price()\n",
    "obj.cal(2000)"
   ]
  },
  {
   "cell_type": "code",
   "execution_count": 5,
   "id": "84ded887",
   "metadata": {},
   "outputs": [
    {
     "name": "stdout",
     "output_type": "stream",
     "text": [
      "추가 가격을 입력해 주세요 > 100\n",
      "가격 : 1100원\n"
     ]
    }
   ],
   "source": [
    "# global 변수 사용 (전역 변수)\n",
    "b = 1000\n",
    "def price():\n",
    "    global b\n",
    "    p = int(input('추가 가격을 입력해 주세요 > '))\n",
    "    b += p\n",
    "    return b\n",
    "print(f'가격 : {price()}원')"
   ]
  },
  {
   "cell_type": "code",
   "execution_count": null,
   "id": "6d3c1fd5",
   "metadata": {},
   "outputs": [
    {
     "name": "stdout",
     "output_type": "stream",
     "text": [
      "숫자 개수: 4\n",
      "계산하실 숫자를 순서에 맞게 입력>> 1234\n"
     ]
    }
   ],
   "source": [
    "#[과제] 4칙 연산 기능을 포함한 Cal4클래스(생성자 이용)을 작성하고 이 클래스를 이용하여\n",
    "#Cal 계산기 객체를 만든 후 적절히 수를 적용하여 사칙연산 수행결과를 출력하세요.\n",
    "count = int(input('숫자 개수: '))\n",
    "nums=[]\n",
    "for i in range(count):\n",
    "    re = int(input('계산하실 숫자를 순서에 맞게 입력>> '))\n",
    "    nums.append(re)\n",
    "\n",
    "class Cal4:\n",
    "    def __init__(self,numberlist):\n",
    "        self.numberlist = numberlist\n",
    "    def sum(self):\n",
    "        result = 0\n",
    "        for num in self.numberlist:\n",
    "            result +=num\n",
    "        return result\n",
    "    def sub(self):\n",
    "        result = 0\n",
    "        for num in self.numberlist:\n",
    "            result -=num\n",
    "        return result\n",
    "    def mul(self):\n",
    "        return \n",
    "    def avg(self):\n",
    "        total = self.sum()\n",
    "        return total/len(self.numberlist)\n",
    "    \n",
    "cal1 = Cal4([1,2,3,4,5])\n",
    "print(cal1.sum())\n",
    "print(cal1.avg())\n",
    "\n",
    "cal2 = Cal4([6,7,8,9,10])\n",
    "print(cal2.sum())\n",
    "print(cal2.avg())"
   ]
  },
  {
   "cell_type": "code",
   "execution_count": 1,
   "id": "06cb2003",
   "metadata": {},
   "outputs": [
    {
     "name": "stdout",
     "output_type": "stream",
     "text": [
      "3\n",
      "7\n",
      "3\n",
      "10\n"
     ]
    }
   ],
   "source": [
    "class Calculator:\n",
    "    def __init__(self):\n",
    "        self.result = 0\n",
    "\n",
    "    def add(self, num):\n",
    "        self.result += num\n",
    "        return self.result\n",
    "\n",
    "cal1 = Calculator()\n",
    "cal2 = Calculator()\n",
    "\n",
    "print(cal1.add(3))\n",
    "print(cal1.add(4))\n",
    "print(cal2.add(3))\n",
    "print(cal2.add(7))"
   ]
  },
  {
   "cell_type": "code",
   "execution_count": 7,
   "id": "8f5b6883",
   "metadata": {},
   "outputs": [
    {
     "name": "stdout",
     "output_type": "stream",
     "text": [
      "첫번째 정수 입력>1000\n",
      "두번째 정수 입력>1000\n",
      "add : 2000, sub : 0, mul : 1000000, div : 1.0\n"
     ]
    }
   ],
   "source": [
    "# 0 일 경우 처리불가\n",
    "class Cal4:\n",
    "    def __init__(self,num1,num2):\n",
    "        self.num1=num1\n",
    "        self.num2=num2\n",
    "    def add(self):\n",
    "        return self.num1+self.num2\n",
    "    def sub(self):\n",
    "        return self.num1-self.num2\n",
    "    def mul(self):\n",
    "        return self.num1*self.num2\n",
    "    def div(self):\n",
    "        return round(self.num1/self.num2,2)\n",
    "while 1:\n",
    "    try:\n",
    "        num1=int(input(\"첫번째 정수 입력>\"))\n",
    "        num2=int(input(\"두번째 정수 입력>\"))\n",
    "        break\n",
    "    except:\n",
    "        print(\"올바른 값을 입력하세요.\")\n",
    "cal=Cal4(num1,num2)\n",
    "print(f'add : {cal.add()}, sub : {cal.sub()}, mul : {cal.mul()}, div : {cal.div()}')\n"
   ]
  },
  {
   "cell_type": "code",
   "execution_count": 1,
   "id": "a4647d76",
   "metadata": {},
   "outputs": [
    {
     "name": "stdout",
     "output_type": "stream",
     "text": [
      "첫 번째 숫자 입력: 1000\n",
      "두 번째 숫자 입력: 0\n",
      "약수로 0을 사용할 순 없습니다. 다시 입력해주세요.\n",
      "\n",
      "첫 번째 숫자 입력: 0\n",
      "두 번째 숫자 입력: 0\n",
      "약수로 0을 사용할 순 없습니다. 다시 입력해주세요.\n",
      "\n",
      "첫 번째 숫자 입력: 1000\n",
      "두 번째 숫자 입력: 100\n",
      "\n",
      "1000 + 100 = 1100\n",
      "1000 - 100 = 900\n",
      "1000 * 100 = 100000\n",
      "1000 / 100 = 10.0\n"
     ]
    }
   ],
   "source": [
    "class Cal():\n",
    "    def __init__(cal, x, y):\n",
    "        cal.x=x\n",
    "        cal.y=y\n",
    "        \n",
    "    def getSum(cal):\n",
    "        print(f'{cal.x} + {cal.y} = {cal.x+cal.y}')\n",
    "    def getSub(cal):\n",
    "        print(f'{cal.x} - {cal.y} = {cal.x-cal.y}')\n",
    "    def getMul(cal):\n",
    "        print(f'{cal.x} * {cal.y} = {cal.x*cal.y}')\n",
    "    def getDiv(cal):\n",
    "        try:\n",
    "            print(f'{cal.x} / {cal.y} = {cal.x/cal.y}')\n",
    "        except:\n",
    "            print(f'{cal.x} / {cal.y} 계산 불가!')\n",
    "            \n",
    "    def getAll(cal):\n",
    "        cal.getSum()\n",
    "        cal.getSub()\n",
    "        cal.getMul()\n",
    "        cal.getDiv()     \n",
    "while 1:\n",
    "    try:         \n",
    "        x=int(input(\"첫 번째 숫자 입력: \"))\n",
    "        y=int(input(\"두 번째 숫자 입력: \"))\n",
    "        if y==0:\n",
    "            print(\"약수로 0을 사용할 순 없습니다. 다시 입력해주세요.\")\n",
    "            print()\n",
    "            continue\n",
    "    except ValueError:\n",
    "        print(\"숫자를 입력해주세요.\")\n",
    "        print()\n",
    "    else:\n",
    "        print()\n",
    "        cal=Cal(x, y)\n",
    "        cal.getAll()\n",
    "        break\n"
   ]
  },
  {
   "cell_type": "code",
   "execution_count": 2,
   "id": "a51f4046",
   "metadata": {},
   "outputs": [
    {
     "name": "stdout",
     "output_type": "stream",
     "text": [
      "첫 번째 숫자 입력: 0\n",
      "두 번째 숫자 입력: 0\n",
      "0아닌 수를 입력하세요\n",
      "첫 번째 숫자 입력: 1000\n",
      "두 번째 숫자 입력: 100\n",
      "1000 + 100 = 1100\n",
      "1000 - 100 = 900\n",
      "1000 * 100 = 100000\n",
      "1000 / 100 = 10.0\n"
     ]
    }
   ],
   "source": [
    "class Cal():\n",
    "    def __init__(cal, x, y):\n",
    "        cal.x=x\n",
    "        cal.y=y\n",
    "        \n",
    "    def getSum(cal):\n",
    "        print(f'{cal.x} + {cal.y} = {cal.x+cal.y}')\n",
    "    def getSub(cal):\n",
    "        print(f'{cal.x} - {cal.y} = {cal.x-cal.y}')\n",
    "    def getMul(cal):\n",
    "        print(f'{cal.x} * {cal.y} = {cal.x*cal.y}')\n",
    "    def getDiv(cal):\n",
    "        try:\n",
    "            print(f'{cal.x} / {cal.y} = {cal.x/cal.y}')\n",
    "        except:\n",
    "            print(f'{cal.x} / {cal.y} 계산 불가!')\n",
    "            \n",
    "    def getAll(cal):\n",
    "        cal.getSum()\n",
    "        cal.getSub()\n",
    "        cal.getMul()\n",
    "        cal.getDiv() \n",
    "while 1:\n",
    "    x=int(input(\"첫 번째 숫자 입력: \"))\n",
    "    y=int(input(\"두 번째 숫자 입력: \"))\n",
    "    if x == 0 or y == 0:\n",
    "        print('0아닌 수를 입력하세요')\n",
    "    else:\n",
    "        cal = Cal(x,y)\n",
    "        cal.getAll()\n",
    "        break"
   ]
  },
  {
   "cell_type": "code",
   "execution_count": null,
   "id": "f1dc4c15",
   "metadata": {},
   "outputs": [],
   "source": [
    "# [과제] 관심 주제에 대하여 100~200 라인정도의 프로그램을 구조치향적(함수위주)으로 작성하신 후\n",
    "# 클래스를 이용한 객체지향 프로그래밍으로 수정하세요(필요시 상속이용)"
   ]
  },
  {
   "cell_type": "code",
   "execution_count": 6,
   "id": "adffe961",
   "metadata": {},
   "outputs": [
    {
     "name": "stdout",
     "output_type": "stream",
     "text": [
      "2000\n",
      "3000\n",
      "4000\n"
     ]
    }
   ],
   "source": [
    "# Q. 기본가격 1000원인 3개의 상품에 대하여 임의의 추가 가격을 인수로 대입 시 더한 가격을 산출하세요.(클래스를 이용)\n",
    "\n",
    "class Order:\n",
    "    def __init__(self):\n",
    "        self.p = 1000\n",
    "    def order(self,price):\n",
    "        \n",
    "        self.p += price\n",
    "        return self.p\n",
    "    \n",
    "    \n",
    "pd1 = Order()\n",
    "pd2 = Order()\n",
    "pd3 = Order()\n",
    "\n",
    "print(pd1.order(1000))\n",
    "print(pd2.order(2000))\n",
    "print(pd3.order(3000))"
   ]
  },
  {
   "cell_type": "code",
   "execution_count": 9,
   "id": "e6f5bbdc",
   "metadata": {},
   "outputs": [
    {
     "name": "stdout",
     "output_type": "stream",
     "text": [
      "2000\n",
      "1800\n"
     ]
    }
   ],
   "source": [
    "# Q. 기본가격 1000원인 2개의 상품에 대하여 임의의 추가가격을 입력시 아래 두개의 방식으로 산출하세요.(class 이용)\n",
    "# price1: 기본가격 + 추가가격\n",
    "# price2: (기본가격+추가가격)*90%\n",
    "class order:\n",
    "    def __init__(self):\n",
    "        self.basic=1000\n",
    "    def hund(self,alpha):\n",
    "        return self.basic+alpha\n",
    "    def nine(self,alpha):\n",
    "        return round((self.basic+alpha)*0.9)\n",
    "\n",
    "a=order()\n",
    "b=order()\n",
    "\n",
    "print(a.hund(1000))\n",
    "print(b.nine(1000))\n",
    "# 객체.메소드 로 출력하는 방법이 있고 메소드자체에 변수를 넣어서 출력하는 방법이있다"
   ]
  },
  {
   "cell_type": "code",
   "execution_count": null,
   "id": "8b120840",
   "metadata": {},
   "outputs": [],
   "source": [
    "#[과제] 업무미팅이 2시임을 알려주는 자동 이메일은 클래스 AutoEmail을 작성하여 아래와 같이 출력하세요.\n",
    "# 안녕하세요. Kevin님, 업무미팅은 2시입니다."
   ]
  },
  {
   "cell_type": "code",
   "execution_count": 12,
   "id": "e9ed8630",
   "metadata": {},
   "outputs": [
    {
     "name": "stdout",
     "output_type": "stream",
     "text": [
      "1000\n",
      "1000원\n"
     ]
    }
   ],
   "source": [
    "# 오버라이딩(덮어쓰기)\n",
    "# Q. Order 클래스를 상속받아 ExtraOrder 클래스에서 메소드 오버라이딩하여 출력가격이 원이 추가되도록 출력하세요.\n",
    "class Order:\n",
    "    def __init__(self,name):\n",
    "        self.customer = 0\n",
    "        self.name = name\n",
    "    def order(self,price):\n",
    "        self.customer += price\n",
    "        return self.customer\n",
    "    \n",
    "class ExtraOrder(Order): # ()안에 클래스 이름이 넣어줘서 상속을 받음\n",
    "    def order(self,price):\n",
    "        self.customer += price\n",
    "        return str(self.customer)+'원'\n",
    "    \n",
    "order = Order('kevin')\n",
    "print(order.order(1000))\n",
    "    \n",
    "extraCustomer = ExtraOrder('kevin')\n",
    "print(extraCustomer.order(1000))"
   ]
  },
  {
   "cell_type": "code",
   "execution_count": 14,
   "id": "e94c173b",
   "metadata": {},
   "outputs": [
    {
     "data": {
      "text/plain": [
       "2"
      ]
     },
     "execution_count": 14,
     "metadata": {},
     "output_type": "execute_result"
    }
   ],
   "source": [
    "# 인터프리터에서 마지막 실행결과 값을 가지는 변수로 사용\n",
    "1+1\n",
    "_"
   ]
  },
  {
   "cell_type": "code",
   "execution_count": 17,
   "id": "53bcb905",
   "metadata": {},
   "outputs": [
    {
     "name": "stdout",
     "output_type": "stream",
     "text": [
      "hello world!\n",
      "hello world!\n",
      "hello world!\n",
      "hello world!\n",
      "hello world!\n",
      "\n",
      "0\n",
      "1\n",
      "2\n",
      "\n",
      "1 2\n"
     ]
    }
   ],
   "source": [
    "# 변수 값을 굳이 사용할 필요가 없는 경우\n",
    "\n",
    "for _ in range(5):\n",
    "    print('hello world!')\n",
    "print()    \n",
    "for _ in range(3):\n",
    "    print(_)\n",
    "print()\n",
    "def values():\n",
    "    return(1,2,3,4)  # 퓨플을 반환\n",
    "\n",
    "a, b, _, _ = values()  # 반환된 튜플 값중 2개만 필요\n",
    "print(a,b)"
   ]
  },
  {
   "cell_type": "code",
   "execution_count": 21,
   "id": "f4f4ed07",
   "metadata": {},
   "outputs": [
    {
     "name": "stdout",
     "output_type": "stream",
     "text": [
      "<class '__main__.Order'>\n"
     ]
    }
   ],
   "source": [
    "# 예약어를 변수명으로 사용할 수 없는 경우 (_를 사용해서 예약어를 변수로 설정가능)\n",
    "class Order:\n",
    "    def __init__(self):\n",
    "        self.coffee = 'Americano'\n",
    "        self.price = 3000\n",
    "    \n",
    "def printClassName(class_):  # class는 예약어\n",
    "        print(class_)\n",
    "        \n",
    "order = Order()\n",
    "printClassName(order.__class__)"
   ]
  },
  {
   "cell_type": "markdown",
   "id": "6b35bd49",
   "metadata": {},
   "source": [
    "### 파이썬에서 _사용법\n",
    "https://ebbnflow.tistory.com/255 \n"
   ]
  },
  {
   "cell_type": "code",
   "execution_count": 22,
   "id": "ba140c3e",
   "metadata": {},
   "outputs": [
    {
     "name": "stdout",
     "output_type": "stream",
     "text": [
      "abc\n"
     ]
    }
   ],
   "source": [
    "# 클래스 변수 : 인스턴스 변수와 달리 모든 인스턴스 사이에 공유된 값을 가진 변수\n",
    "\n",
    "class MyClass:\n",
    "    value = 'abc' # 클래스 변수를 선언\n",
    "    \n",
    "if __name__ == \"__main__\":\n",
    "    print(MyClass.value)"
   ]
  },
  {
   "cell_type": "code",
   "execution_count": 26,
   "id": "416485ef",
   "metadata": {},
   "outputs": [
    {
     "name": "stdout",
     "output_type": "stream",
     "text": [
      "1\n",
      "2\n",
      "3\n"
     ]
    }
   ],
   "source": [
    "# 인스턴스를 생성할 때마다 클래스 변수 value 를 +1\n",
    "class MyClass:\n",
    "    value = 0\n",
    "    def __init__(self):\n",
    "        MyClass.value += 1\n",
    "        \n",
    "if __name__ == \"__main__\":\n",
    "    a = MyClass()  # 인스턴스 a 생성\n",
    "    print(MyClass.value)\n",
    "    b = MyClass()  # 인스턴스 b 생성\n",
    "    print(MyClass.value)\n",
    "    c = MyClass()  # 인스턴스 c 생성\n",
    "    print(MyClass.value)"
   ]
  },
  {
   "cell_type": "code",
   "execution_count": 35,
   "id": "9eee396f",
   "metadata": {},
   "outputs": [
    {
     "name": "stdout",
     "output_type": "stream",
     "text": [
      "1 honux\n",
      "2 crong\n"
     ]
    }
   ],
   "source": [
    "# 인스턴스 변수\n",
    "class User:\n",
    "    num_users = 0   # 클래스 변수\n",
    "    def __init__(self,name):\n",
    "        self.name = name  # 인스턴스 변수\n",
    "        User.num_users += 1\n",
    "        \n",
    "u = User('honux')\n",
    "print(User.num_users, u.name)\n",
    "\n",
    "u2 = User('crong')\n",
    "print(User.num_users,u2.name)"
   ]
  },
  {
   "cell_type": "code",
   "execution_count": 30,
   "id": "27300a03",
   "metadata": {},
   "outputs": [
    {
     "name": "stdout",
     "output_type": "stream",
     "text": [
      "i am a Rockstar!\n"
     ]
    }
   ],
   "source": [
    "# 메소드 : 메소드는 클래스 안에서 정의된 함수/ 첫번째 인수를 항상 self로 지정\n",
    "\n",
    "class Musician:\n",
    "    title = 'Rockstar' # 클래스변수\n",
    "    def explanation(self): # 메소드 생성\n",
    "        print(f'i am a {self.title}!')  \n",
    "\n",
    "drummer = Musician()\n",
    "drummer.explanation()"
   ]
  },
  {
   "cell_type": "code",
   "execution_count": 34,
   "id": "33d193fb",
   "metadata": {},
   "outputs": [
    {
     "name": "stdout",
     "output_type": "stream",
     "text": [
      "113.04\n",
      "1017.36\n"
     ]
    }
   ],
   "source": [
    "# 다른 인수가 있는 메소드\n",
    "class Circle():\n",
    "    pi = 3.14\n",
    "    def area(self,radius):\n",
    "        return self.pi * radius ** 2\n",
    "    \n",
    "circle = Circle()\n",
    "pizza_area = circle.area(6)\n",
    "table_area = circle.area(18)\n",
    "print(pizza_area)\n",
    "print(table_area)"
   ]
  },
  {
   "cell_type": "code",
   "execution_count": 36,
   "id": "e6dafdac",
   "metadata": {},
   "outputs": [
    {
     "name": "stdout",
     "output_type": "stream",
     "text": [
      "Hello?!\n"
     ]
    }
   ],
   "source": [
    "# 생성자(Constructor)\n",
    "# 클래스를 호출할 때 자동으로 어떤 함수를 실행하거나 값을 호출하고 싶은 경우.__init__을 사용\n",
    "#  Shouter 라는 클래스를 객체로 불러올 때마다 \"Hello?!\" 라는 문자열을 출력\n",
    "\n",
    "class Shouter:\n",
    "    def __init__(self):\n",
    "        print('Hello?!')\n",
    "shout = Shouter()"
   ]
  },
  {
   "cell_type": "code",
   "execution_count": 7,
   "id": "7c396e97",
   "metadata": {},
   "outputs": [
    {
     "name": "stdout",
     "output_type": "stream",
     "text": [
      "입력 >> 5\n",
      "['김기현', '박종석', '오주완', '조경윤', '어정호']\n"
     ]
    }
   ],
   "source": [
    "# Q. 발표할 인원을 입력하면 랜덤으로 발표자를 리스트로 출력해 주는 프로그램을 작성하세요.(중복 허용하지 않음)\n",
    "import random\n",
    "\n",
    "li = []\n",
    "num = int(input('입력 >> '))\n",
    "\n",
    "for i in range(num):\n",
    "    p = random.randint(0,29)\n",
    "    while p in li:\n",
    "        p = random.randint(0,29)\n",
    "    li.append(p)\n",
    "    \n",
    "alist = []\n",
    "name = ['권혁종', '김기연', '김기현', '김민성', '김영수', '김재경', '김정수', '김태형', '마경수', '문성윤',\n",
    "       '박광민','박종석','손창효','어정호','예지우','오주완','용지영','이동연','이용준','이재우',\n",
    "       '이재호','이현정','임재곤','장종호','정현우','조경윤','조남현','최종원','최지원']\n",
    "for i in li:\n",
    "    a = name[i]\n",
    "    alist.append(a)\n",
    "print(alist)"
   ]
  },
  {
   "cell_type": "code",
   "execution_count": null,
   "id": "20814793",
   "metadata": {},
   "outputs": [],
   "source": [
    "import random\n",
    "\n",
    "name = ['권혁종', '김기연', '김기현', '김민성', '김영수', '김재경', '김정수', '김태형', '마경수', '문성윤',\n",
    "       '박광민','박종석','손창효','어정호','예지우','오주완','용지영','이동연','이용준','이재우',\n",
    "       '이재호','이현정','임재곤','장종호','정현우','조경윤','조남현','최종원','최지원']\n",
    "try:\n",
    "    num = int(input('발표할 인원 수를 입력하세요. >> '))\n",
    "except num>29 or num<1:\n",
    "    raise ArithmeticError\n",
    "except ValueError:\n",
    "    print('※ 숫자 형태의 번호만 입력 가능합니다.')\n",
    "except:\n",
    "    print('※ 1 29 사이의 번호를 입력해 주세요.')\n",
    "else:\n",
    "    print(random.sample(name,num))\n"
   ]
  },
  {
   "cell_type": "code",
   "execution_count": 5,
   "id": "3ba33904",
   "metadata": {},
   "outputs": [
    {
     "name": "stdout",
     "output_type": "stream",
     "text": [
      "발표할 인원을 입력하세요 : 5\n",
      "['김태형', '임재곤', '김민성', '어정호', '이재호']\n"
     ]
    }
   ],
   "source": [
    "from random import shuffle\n",
    "name = ['권혁종', '김기연', '김기현', '김민성', '김영수', '김재경', '김정수', '김태형', '마경수', '문성윤',\n",
    "       '박광민','박종석','손창효','어정호','예지우','오주완','용지영','이동연','이용준','이재우',\n",
    "       '이재호','이현정','임재곤','장종호','정현우','조경윤','조남현','최종원','최지원']\n",
    "member=[]\n",
    "shuffle(name)\n",
    "num=int(input('발표할 인원을 입력하세요 : '))\n",
    "for i in range(num):\n",
    "    member.append(name[i])\n",
    "    \n",
    "print(member)\n"
   ]
  },
  {
   "cell_type": "code",
   "execution_count": 6,
   "id": "c5b37d49",
   "metadata": {},
   "outputs": [
    {
     "name": "stdout",
     "output_type": "stream",
     "text": [
      "발표한 인원 : 5\n",
      "['용지영', '이재호', '최종원', '예지우', '조남현']\n"
     ]
    }
   ],
   "source": [
    "import random\n",
    "li = ['권혁종', '김기연', '김기현', '김민성', '김영수', '김재경', '김정수', '김태형', '마경수', '문성윤',\n",
    "       '박광민','박종석','손창효','어정호','예지우','오주완','용지영','이동연','이용준','이재우',\n",
    "       '이재호','이현정','임재곤','장종호','정현우','조경윤','조남현','최종원','최지원']\n",
    "li2=[]\n",
    "n = int(input('발표한 인원 : '))\n",
    "num = random.sample(range(len(li)),n)\n",
    "for i in num:\n",
    "    li2.append(li[i])\n",
    "print(li2)\n"
   ]
  },
  {
   "cell_type": "code",
   "execution_count": null,
   "id": "00524a1f",
   "metadata": {},
   "outputs": [],
   "source": [
    "# **** 사칙연산 수행하는 클래스 만들기 : 시험문제\n",
    "# 매개변수 설정하고 인수 입력해서 값 출력하기\n",
    "# 날짜 수 계산하기\n",
    "# 출생아 수 출력"
   ]
  }
 ],
 "metadata": {
  "kernelspec": {
   "display_name": "Python 3 (ipykernel)",
   "language": "python",
   "name": "python3"
  },
  "language_info": {
   "codemirror_mode": {
    "name": "ipython",
    "version": 3
   },
   "file_extension": ".py",
   "mimetype": "text/x-python",
   "name": "python",
   "nbconvert_exporter": "python",
   "pygments_lexer": "ipython3",
   "version": "3.8.12"
  }
 },
 "nbformat": 4,
 "nbformat_minor": 5
}
