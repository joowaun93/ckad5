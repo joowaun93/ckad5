{
 "cells": [
  {
   "cell_type": "code",
   "execution_count": 1,
   "id": "78f772b6",
   "metadata": {},
   "outputs": [],
   "source": [
    "import numpy as np"
   ]
  },
  {
   "cell_type": "code",
   "execution_count": 2,
   "id": "03e1008e",
   "metadata": {},
   "outputs": [
    {
     "data": {
      "text/plain": [
       "array([[8, 5, 2, 1, 3],\n",
       "       [1, 4, 2, 9, 6],\n",
       "       [8, 6, 5, 4, 5],\n",
       "       [5, 3, 5, 7, 6],\n",
       "       [8, 1, 2, 4, 2]])"
      ]
     },
     "execution_count": 2,
     "metadata": {},
     "output_type": "execute_result"
    }
   ],
   "source": [
    "arr = np.random.randint(1,10, size=(5,5))\n",
    "arr"
   ]
  },
  {
   "cell_type": "code",
   "execution_count": 3,
   "id": "408a9d9d",
   "metadata": {},
   "outputs": [
    {
     "data": {
      "text/plain": [
       "array([[8, 1, 8, 5, 8],\n",
       "       [5, 4, 6, 3, 1],\n",
       "       [2, 2, 5, 5, 2],\n",
       "       [1, 9, 4, 7, 4],\n",
       "       [3, 6, 5, 6, 2]])"
      ]
     },
     "execution_count": 3,
     "metadata": {},
     "output_type": "execute_result"
    }
   ],
   "source": [
    "# 전치\n",
    "arr.T"
   ]
  },
  {
   "cell_type": "code",
   "execution_count": 4,
   "id": "9796210f",
   "metadata": {},
   "outputs": [
    {
     "data": {
      "text/plain": [
       "array([[8, 1, 8, 5, 8],\n",
       "       [5, 4, 6, 3, 1],\n",
       "       [2, 2, 5, 5, 2],\n",
       "       [1, 9, 4, 7, 4],\n",
       "       [3, 6, 5, 6, 2]])"
      ]
     },
     "execution_count": 4,
     "metadata": {},
     "output_type": "execute_result"
    }
   ],
   "source": [
    "np.transpose(arr)"
   ]
  },
  {
   "cell_type": "code",
   "execution_count": 5,
   "id": "83043884",
   "metadata": {},
   "outputs": [
    {
     "data": {
      "text/plain": [
       "array([[218, 115,  99, 116, 116],\n",
       "       [115,  87,  65,  90,  89],\n",
       "       [ 99,  65,  62,  83,  77],\n",
       "       [116,  90,  83, 163, 127],\n",
       "       [116,  89,  77, 127, 110]])"
      ]
     },
     "execution_count": 5,
     "metadata": {},
     "output_type": "execute_result"
    }
   ],
   "source": [
    "# 행렬곱, 내적\n",
    "np.dot(arr.T, arr)"
   ]
  },
  {
   "cell_type": "code",
   "execution_count": 15,
   "id": "c5bc923f",
   "metadata": {},
   "outputs": [
    {
     "name": "stdout",
     "output_type": "stream",
     "text": [
      "[[0 1 2]\n",
      " [3 4 5]] \n",
      "\n",
      "[[0 3]\n",
      " [1 4]\n",
      " [2 5]] \n",
      "\n",
      "[[0 3]\n",
      " [1 4]\n",
      " [2 5]]\n"
     ]
    }
   ],
   "source": [
    "a = np.arange(6).reshape(2,3)\n",
    "print(a,'\\n')\n",
    "\n",
    "y = np.swapaxes(a, 0,1)   # 0은 2차원(열), 1은 1차원(행)\n",
    "print(y,'\\n')\n",
    "\n",
    "y= a.T\n",
    "y= np.transpose(a)\n",
    "print(y)"
   ]
  },
  {
   "cell_type": "code",
   "execution_count": null,
   "id": "6bcf1f04",
   "metadata": {},
   "outputs": [],
   "source": [
    "# 1~100을 아래와 같이 출력하세요.\n",
    "\n",
    "[[  1   2   3   4   5   6   7   8   9  10]\n",
    " [ 20  19  18  17  16  15  14  13  12  11]\n",
    " [ 21  22  23  24  25  26  27  28  29  30]\n",
    " [ 40  39  38  37  36  35  34  33  32  31]\n",
    " [ 41  42  43  44  45  46  47  48  49  50]\n",
    " [ 60  59  58  57  56  55  54  53  52  51]\n",
    " [ 61  62  63  64  65  66  67  68  69  70]\n",
    " [ 80  79  78  77  76  75  74  73  72  71]\n",
    " [ 81  82  83  84  85  86  87  88  89  90]\n",
    " [100  99  98  97  96  95  94  93  92  91]] <class 'numpy.ndarray'>\n"
   ]
  },
  {
   "cell_type": "code",
   "execution_count": 36,
   "id": "ebc4d1f9",
   "metadata": {},
   "outputs": [
    {
     "name": "stdout",
     "output_type": "stream",
     "text": [
      "[[  1   2   3   4   5   6   7   8   9  10]\n",
      " [ 20  19  18  17  16  15  14  13  12  11]\n",
      " [ 21  22  23  24  25  26  27  28  29  30]\n",
      " [ 40  39  38  37  36  35  34  33  32  31]\n",
      " [ 41  42  43  44  45  46  47  48  49  50]\n",
      " [ 60  59  58  57  56  55  54  53  52  51]\n",
      " [ 61  62  63  64  65  66  67  68  69  70]\n",
      " [ 80  79  78  77  76  75  74  73  72  71]\n",
      " [ 81  82  83  84  85  86  87  88  89  90]\n",
      " [100  99  98  97  96  95  94  93  92  91]]\n"
     ]
    }
   ],
   "source": [
    "arr = np.arange(1,101).reshape(10,10)\n",
    "arr[[1,3,5,7,9]] = arr[[1,3,5,7,9]][:,[9,8,7,6,5,4,3,2,1,0]]\n",
    "print(arr)"
   ]
  },
  {
   "cell_type": "code",
   "execution_count": 37,
   "id": "740b8191",
   "metadata": {},
   "outputs": [
    {
     "name": "stdout",
     "output_type": "stream",
     "text": [
      "[[  1   2   3   4   5   6   7   8   9  10]\n",
      " [ 20  19  18  17  16  15  14  13  12  11]\n",
      " [ 21  22  23  24  25  26  27  28  29  30]\n",
      " [ 40  39  38  37  36  35  34  33  32  31]\n",
      " [ 41  42  43  44  45  46  47  48  49  50]\n",
      " [ 60  59  58  57  56  55  54  53  52  51]\n",
      " [ 61  62  63  64  65  66  67  68  69  70]\n",
      " [ 80  79  78  77  76  75  74  73  72  71]\n",
      " [ 81  82  83  84  85  86  87  88  89  90]\n",
      " [100  99  98  97  96  95  94  93  92  91]]\n"
     ]
    }
   ],
   "source": [
    "a = np.arange(1, 101).reshape((10, -1))\n",
    "\n",
    "for i in range(10):\n",
    "    if i % 2 == 1:\n",
    "        a[i] = a[i][::-1]\n",
    "\n",
    "print(a)\n"
   ]
  },
  {
   "cell_type": "code",
   "execution_count": 39,
   "id": "2a044830",
   "metadata": {},
   "outputs": [
    {
     "name": "stdout",
     "output_type": "stream",
     "text": [
      "[[[0 1 2]\n",
      "  [3 4 5]]] (1, 2, 3) \n",
      "\n",
      "[[[0 1 2]]\n",
      "\n",
      " [[3 4 5]]] (2, 1, 3) \n",
      "\n"
     ]
    }
   ],
   "source": [
    "# (0,1,2)\n",
    "# 3차원과 2차원을 바꾸는 경우 : (1,2,3) -> (2,1,3)\n",
    "a = np.arange(6).reshape(1,2,3)\n",
    "print(a,a.shape,'\\n')\n",
    "\n",
    "y = np.transpose(a,(1,0,2))\n",
    "print(y,y.shape,'\\n')"
   ]
  },
  {
   "cell_type": "code",
   "execution_count": 40,
   "id": "97a56925",
   "metadata": {},
   "outputs": [
    {
     "name": "stdout",
     "output_type": "stream",
     "text": [
      "[[[0 1 2]\n",
      "  [3 4 5]]] (1, 2, 3) \n",
      "\n",
      "[[[0]\n",
      "  [1]\n",
      "  [2]]\n",
      "\n",
      " [[3]\n",
      "  [4]\n",
      "  [5]]] (2, 3, 1) \n",
      "\n"
     ]
    }
   ],
   "source": [
    "# (1,2,3) -> (2,3,1)\n",
    "a = np.arange(6).reshape(1,2,3)\n",
    "print(a,a.shape,'\\n')\n",
    "y = np.transpose(a,(1,2,0))\n",
    "print(y,y.shape,'\\n')"
   ]
  },
  {
   "cell_type": "code",
   "execution_count": 5,
   "id": "49cf8fe3",
   "metadata": {},
   "outputs": [
    {
     "name": "stdout",
     "output_type": "stream",
     "text": [
      "[[[ 0  1  2  3]\n",
      "  [ 4  5  6  7]]\n",
      "\n",
      " [[ 8  9 10 11]\n",
      "  [12 13 14 15]]] (2, 2, 4) \n",
      "\n",
      "[[[ 0  1  2  3]\n",
      "  [ 8  9 10 11]]\n",
      "\n",
      " [[ 4  5  6  7]\n",
      "  [12 13 14 15]]] (2, 2, 4) \n",
      "\n"
     ]
    }
   ],
   "source": [
    "#[과제] 아래배열에서 3차원과 2차원을 변경하여 출력하세요(shape확인)\n",
    "arr = np.arange(16).reshape(2,2,4)\n",
    "print(arr,arr.shape,'\\n')\n",
    "\n",
    "y = np.transpose(arr,(1,0,2))\n",
    "print(y,y.shape,'\\n')"
   ]
  },
  {
   "cell_type": "code",
   "execution_count": null,
   "id": "da3d0771",
   "metadata": {},
   "outputs": [],
   "source": [
    "#[과제] 상기 과제의 arr에서 2차원과 1차원을 변경하여 출력하세요."
   ]
  },
  {
   "cell_type": "code",
   "execution_count": 8,
   "id": "e64a97e5",
   "metadata": {},
   "outputs": [
    {
     "name": "stdout",
     "output_type": "stream",
     "text": [
      "[[[ 0  1  2  3]\n",
      "  [ 4  5  6  7]]\n",
      "\n",
      " [[ 8  9 10 11]\n",
      "  [12 13 14 15]]] (2, 2, 4) \n",
      "\n",
      "[[[ 0  4]\n",
      "  [ 1  5]\n",
      "  [ 2  6]\n",
      "  [ 3  7]]\n",
      "\n",
      " [[ 8 12]\n",
      "  [ 9 13]\n",
      "  [10 14]\n",
      "  [11 15]]] (2, 4, 2) \n",
      "\n"
     ]
    }
   ],
   "source": [
    "arr = np.arange(16).reshape(2,2,4)\n",
    "print(arr,arr.shape,'\\n')\n",
    "\n",
    "y = np.transpose(arr,(0,2,1))\n",
    "print(y,y.shape,'\\n')"
   ]
  },
  {
   "cell_type": "code",
   "execution_count": 2,
   "id": "b0992312",
   "metadata": {},
   "outputs": [
    {
     "name": "stdout",
     "output_type": "stream",
     "text": [
      "[[[ 0  1  2  3]\n",
      "  [ 4  5  6  7]]\n",
      "\n",
      " [[ 8  9 10 11]\n",
      "  [12 13 14 15]]] (2, 2, 4) \n",
      "\n"
     ]
    },
    {
     "ename": "NameError",
     "evalue": "name 'swapaxes' is not defined",
     "output_type": "error",
     "traceback": [
      "\u001b[1;31m---------------------------------------------------------------------------\u001b[0m",
      "\u001b[1;31mNameError\u001b[0m                                 Traceback (most recent call last)",
      "\u001b[1;32m~\\AppData\\Local\\Temp/ipykernel_7128/740653538.py\u001b[0m in \u001b[0;36m<module>\u001b[1;34m\u001b[0m\n\u001b[0;32m      2\u001b[0m \u001b[0marr\u001b[0m \u001b[1;33m=\u001b[0m \u001b[0mnp\u001b[0m\u001b[1;33m.\u001b[0m\u001b[0marange\u001b[0m\u001b[1;33m(\u001b[0m\u001b[1;36m16\u001b[0m\u001b[1;33m)\u001b[0m\u001b[1;33m.\u001b[0m\u001b[0mreshape\u001b[0m\u001b[1;33m(\u001b[0m\u001b[1;36m2\u001b[0m\u001b[1;33m,\u001b[0m\u001b[1;36m2\u001b[0m\u001b[1;33m,\u001b[0m\u001b[1;36m4\u001b[0m\u001b[1;33m)\u001b[0m\u001b[1;33m\u001b[0m\u001b[1;33m\u001b[0m\u001b[0m\n\u001b[0;32m      3\u001b[0m \u001b[0mprint\u001b[0m\u001b[1;33m(\u001b[0m\u001b[0marr\u001b[0m\u001b[1;33m,\u001b[0m\u001b[0marr\u001b[0m\u001b[1;33m.\u001b[0m\u001b[0mshape\u001b[0m\u001b[1;33m,\u001b[0m\u001b[1;34m'\\n'\u001b[0m\u001b[1;33m)\u001b[0m\u001b[1;33m\u001b[0m\u001b[1;33m\u001b[0m\u001b[0m\n\u001b[1;32m----> 4\u001b[1;33m \u001b[0marrs\u001b[0m \u001b[1;33m=\u001b[0m \u001b[0mswapaxes\u001b[0m\u001b[1;33m(\u001b[0m\u001b[1;36m1\u001b[0m\u001b[1;33m,\u001b[0m\u001b[1;36m2\u001b[0m\u001b[1;33m)\u001b[0m\u001b[1;33m\u001b[0m\u001b[1;33m\u001b[0m\u001b[0m\n\u001b[0m\u001b[0;32m      5\u001b[0m \u001b[0mprint\u001b[0m\u001b[1;33m(\u001b[0m\u001b[0marr\u001b[0m\u001b[1;33m.\u001b[0m\u001b[0mswapaxes\u001b[0m\u001b[1;33m(\u001b[0m\u001b[1;36m1\u001b[0m\u001b[1;33m,\u001b[0m\u001b[1;36m2\u001b[0m\u001b[1;33m)\u001b[0m\u001b[1;33m,\u001b[0m\u001b[0marr\u001b[0m\u001b[1;33m.\u001b[0m\u001b[0mshape\u001b[0m\u001b[1;33m)\u001b[0m\u001b[1;33m\u001b[0m\u001b[1;33m\u001b[0m\u001b[0m\n",
      "\u001b[1;31mNameError\u001b[0m: name 'swapaxes' is not defined"
     ]
    }
   ],
   "source": [
    "import numpy as np\n",
    "arr = np.arange(16).reshape(2,2,4)\n",
    "print(arr,arr.shape,'\\n')\n",
    "arrs = swapaxes(1,2)\n",
    "print(arr.swapaxes(1,2),arr.shape)"
   ]
  },
  {
   "cell_type": "code",
   "execution_count": 46,
   "id": "22284118",
   "metadata": {},
   "outputs": [
    {
     "name": "stdout",
     "output_type": "stream",
     "text": [
      "[1 2 0]\n",
      "[1 2 0]\n"
     ]
    }
   ],
   "source": [
    "# 나머지를 구할 경우 사용하는 함수\n",
    "value1 = np.array([15,30,45])\n",
    "value2 = np.array([2,7,9])\n",
    "print(np.mod(value1,value2))\n",
    "print(np.remainder(value1,value2))"
   ]
  },
  {
   "cell_type": "code",
   "execution_count": 48,
   "id": "2d8507f6",
   "metadata": {},
   "outputs": [
    {
     "name": "stdout",
     "output_type": "stream",
     "text": [
      "[1.17647059 0.54054054 1.         0.01      ] \n",
      "\n",
      "[100] \n",
      "\n",
      "[0.01]\n"
     ]
    }
   ],
   "source": [
    "# 각 수의 역수를 구해주는 함수\n",
    "value = np.array([0.85,1.85,1,100])\n",
    "print(np.reciprocal(value),'\\n')\n",
    "\n",
    "value1 = np.array([100],dtype = int)\n",
    "print(value1,'\\n')\n",
    "print(np.reciprocal(value1,dtype=float))"
   ]
  },
  {
   "cell_type": "code",
   "execution_count": 49,
   "id": "9afb8303",
   "metadata": {},
   "outputs": [
    {
     "name": "stdout",
     "output_type": "stream",
     "text": [
      "[  4 100 225] \n",
      "\n",
      "[   2  100 3375]\n"
     ]
    }
   ],
   "source": [
    "# 승수의 결과 값을 표시해주는 함수\n",
    "value1 = np.array([2,10,15])\n",
    "value2 = np.array([1,2,3])\n",
    "\n",
    "print(np.power(value1,2),'\\n')\n",
    "print(np.power(value1,value2))"
   ]
  },
  {
   "cell_type": "code",
   "execution_count": 52,
   "id": "f8b73c62",
   "metadata": {},
   "outputs": [
    {
     "name": "stdout",
     "output_type": "stream",
     "text": [
      "-0.001020677417742351 \n",
      "\n",
      "1.00016753720425\n"
     ]
    }
   ],
   "source": [
    "arr = np.random.randn(1000000)\n",
    "print(arr.mean(),'\\n')\n",
    "print(arr.std())"
   ]
  },
  {
   "cell_type": "code",
   "execution_count": 54,
   "id": "c693190b",
   "metadata": {},
   "outputs": [
    {
     "data": {
      "text/plain": [
       "array([-0.26175558,  0.40093554,  0.08373583,  0.98491198,  0.76025667,\n",
       "       -0.49258731, -1.84812812,  0.3911196 ,  0.6202226 ,  0.82435994])"
      ]
     },
     "execution_count": 54,
     "metadata": {},
     "output_type": "execute_result"
    }
   ],
   "source": [
    "arr = np.random.randn(10)\n",
    "arr"
   ]
  },
  {
   "cell_type": "code",
   "execution_count": 55,
   "id": "374501e7",
   "metadata": {},
   "outputs": [
    {
     "data": {
      "text/plain": [
       "7"
      ]
     },
     "execution_count": 55,
     "metadata": {},
     "output_type": "execute_result"
    }
   ],
   "source": [
    "# 양수인 원소의 개수\n",
    "(arr>0).sum()"
   ]
  },
  {
   "cell_type": "code",
   "execution_count": 56,
   "id": "a878c35f",
   "metadata": {},
   "outputs": [
    {
     "data": {
      "text/plain": [
       "True"
      ]
     },
     "execution_count": 56,
     "metadata": {},
     "output_type": "execute_result"
    }
   ],
   "source": [
    "# 하나 이상의 값이 True인지 검사\n",
    "bools = np.array([False,False,True,True])\n",
    "bools.any()"
   ]
  },
  {
   "cell_type": "code",
   "execution_count": 57,
   "id": "89831791",
   "metadata": {},
   "outputs": [
    {
     "data": {
      "text/plain": [
       "False"
      ]
     },
     "execution_count": 57,
     "metadata": {},
     "output_type": "execute_result"
    }
   ],
   "source": [
    "# 모든 원소가 True인지 검사\n",
    "bools.all()"
   ]
  },
  {
   "cell_type": "code",
   "execution_count": 59,
   "id": "ae44f415",
   "metadata": {},
   "outputs": [
    {
     "name": "stdout",
     "output_type": "stream",
     "text": [
      "[[ 0.12981537 -0.3959195  -0.95540156 -0.2888514 ]\n",
      " [-0.88841045  1.01362381  1.97851525 -2.03047077]\n",
      " [-0.03564859 -0.49736515 -0.05814732 -0.74115496]\n",
      " [ 0.44486119 -0.38548915 -0.37989729  0.95231109]] \n",
      "\n"
     ]
    },
    {
     "data": {
      "text/plain": [
       "array([[ 2, -2, -2, -2],\n",
       "       [-2,  2,  2, -2],\n",
       "       [-2, -2, -2, -2],\n",
       "       [ 2, -2, -2,  2]])"
      ]
     },
     "execution_count": 59,
     "metadata": {},
     "output_type": "execute_result"
    }
   ],
   "source": [
    "# 삼항식의 벡터화 버전\n",
    "arr = np.random.randn(4,4)\n",
    "print(arr,'\\n')\n",
    "np.where(arr > 0, 2, -2) # 0보다 크면 2 아니면 뒤에꺼"
   ]
  },
  {
   "cell_type": "code",
   "execution_count": 60,
   "id": "aa49334b",
   "metadata": {},
   "outputs": [
    {
     "data": {
      "text/plain": [
       "array([[ 2.        , -0.3959195 , -0.95540156, -0.2888514 ],\n",
       "       [-0.88841045,  2.        ,  2.        , -2.03047077],\n",
       "       [-0.03564859, -0.49736515, -0.05814732, -0.74115496],\n",
       "       [ 2.        , -0.38548915, -0.37989729,  2.        ]])"
      ]
     },
     "execution_count": 60,
     "metadata": {},
     "output_type": "execute_result"
    }
   ],
   "source": [
    "# arr 의 모든 양수를 2로 바꿀 경우\n",
    "np.where(arr > 0, 2, arr)"
   ]
  },
  {
   "cell_type": "code",
   "execution_count": 62,
   "id": "83c34c2a",
   "metadata": {},
   "outputs": [
    {
     "name": "stdout",
     "output_type": "stream",
     "text": [
      "[[1 2 3]\n",
      " [1 2 3]\n",
      " [1 2 3]] \n",
      "\n",
      "[[1 1 1]\n",
      " [2 2 2]\n",
      " [3 3 3]]\n"
     ]
    }
   ],
   "source": [
    "# 두개의 1차원 배열을 받아서 가능한 모든(x,y) 짝을 만들 수 있는 2차원 배열 2개반환\n",
    "x = np.arange(1,4)\n",
    "y = np.arange(1,4)\n",
    "xs,ys = np.meshgrid(x,y)\n",
    "print(xs,'\\n')\n",
    "print(ys)"
   ]
  },
  {
   "cell_type": "code",
   "execution_count": 65,
   "id": "b08a3b73",
   "metadata": {},
   "outputs": [
    {
     "name": "stdout",
     "output_type": "stream",
     "text": [
      "[45 48 65 68 68 10 84 22 37 88] \n",
      "\n",
      "[10 22 37 45 48 65 68 68 84 88] \n",
      "\n",
      "[45 48 65 68 68 10 84 22 37 88]\n"
     ]
    }
   ],
   "source": [
    "# np.sort() 원본반영 안됨\n",
    "np.random.seed(0)\n",
    "arr = np.random.randint(1,100, size = 10)\n",
    "print(arr,'\\n')\n",
    "print(np.sort(arr),'\\n')\n",
    "print(arr)"
   ]
  },
  {
   "cell_type": "code",
   "execution_count": 66,
   "id": "2e98f7fc",
   "metadata": {},
   "outputs": [
    {
     "name": "stdout",
     "output_type": "stream",
     "text": [
      "[10 22 37 45 48 65 68 68 84 88]\n"
     ]
    }
   ],
   "source": [
    "# 원본을 유지하지 않으면 sorted에 저장을 하고 출력을 해주어야한다.\n",
    "sorted = np.sort(arr)\n",
    "print(sorted)"
   ]
  },
  {
   "cell_type": "code",
   "execution_count": 68,
   "id": "ab9534e0",
   "metadata": {},
   "outputs": [
    {
     "name": "stdout",
     "output_type": "stream",
     "text": [
      "[[ 8 12]\n",
      " [ 7  1]] \n",
      "\n",
      "[[ 7  1]\n",
      " [ 8 12]] \n",
      "\n",
      "[[ 8 12]\n",
      " [ 1  7]] \n",
      "\n"
     ]
    }
   ],
   "source": [
    "# 행렬이 2차원 이상일 때 axis 축 값 설정을 통해 행, 열 방향으로 정렬 수행\n",
    "arr2d = np.array([[8,12],[7,1]])\n",
    "print(arr2d,'\\n')\n",
    "sort_ar2d_axis0 = np.sort(arr2d, axis = 0) # 행방향\n",
    "print(sort_ar2d_axis0,'\\n')\n",
    "sort_ar2d_axis1 = np.sort(arr2d, axis = 1) # 열방향\n",
    "print(sort_ar2d_axis1,'\\n')"
   ]
  },
  {
   "cell_type": "code",
   "execution_count": 75,
   "id": "c5021d89",
   "metadata": {},
   "outputs": [
    {
     "name": "stdout",
     "output_type": "stream",
     "text": [
      "[6 1 4 4 8 4 6 3 5 8] \n",
      "\n",
      "[1 3 4 4 4 5 6 6 8 8]\n"
     ]
    }
   ],
   "source": [
    "# ndarray.sort(): 원본 반영\n",
    "np.random.seed(0)\n",
    "arr = np.random.randint(1,10,size=10)\n",
    "print(arr,'\\n')\n",
    "arr.sort()\n",
    "print(arr)"
   ]
  },
  {
   "cell_type": "code",
   "execution_count": 79,
   "id": "ab718dee",
   "metadata": {},
   "outputs": [
    {
     "name": "stdout",
     "output_type": "stream",
     "text": [
      "[[6 1 4]\n",
      " [4 8 4]\n",
      " [6 3 5]\n",
      " [8 7 9]\n",
      " [9 2 7]] \n",
      "\n",
      "[[1 4 6]\n",
      " [4 4 8]\n",
      " [3 5 6]\n",
      " [7 8 9]\n",
      " [2 7 9]]\n"
     ]
    }
   ],
   "source": [
    "# 다차원 배열의 정렬은 sort 메소드에 넘긴 축에 따라 1차원 부분을 정렬\n",
    "# 열방향 정렬, default( 1or0 을 입력안했을때 1로 처리)\n",
    "np.random.seed(0)\n",
    "arr = np.random.randint(1,10,size=(5,3))\n",
    "print(arr,'\\n')\n",
    "arr.sort(1)\n",
    "print(arr)"
   ]
  },
  {
   "cell_type": "code",
   "execution_count": 82,
   "id": "9d8b015d",
   "metadata": {},
   "outputs": [
    {
     "name": "stdout",
     "output_type": "stream",
     "text": [
      "[[6 1 4]\n",
      " [4 8 4]\n",
      " [6 3 5]\n",
      " [8 7 9]\n",
      " [9 2 7]] \n",
      "\n",
      "[[4 1 4]\n",
      " [6 2 4]\n",
      " [6 3 5]\n",
      " [8 7 7]\n",
      " [9 8 9]]\n"
     ]
    }
   ],
   "source": [
    "# 행방향 정렬\n",
    "np.random.seed(0)\n",
    "arr = np.random.randint(1,10,size=(5,3))\n",
    "print(arr,'\\n')\n",
    "arr.sort(0)\n",
    "print(arr)"
   ]
  },
  {
   "cell_type": "code",
   "execution_count": 83,
   "id": "ab0a7413",
   "metadata": {},
   "outputs": [
    {
     "name": "stdout",
     "output_type": "stream",
     "text": [
      "[3 1 9 5]\n",
      "<class 'numpy.ndarray'>\n"
     ]
    },
    {
     "data": {
      "text/plain": [
       "array([1, 0, 3, 2], dtype=int64)"
      ]
     },
     "execution_count": 83,
     "metadata": {},
     "output_type": "execute_result"
    }
   ],
   "source": [
    "# 정렬된 행렬의 인덱스 반환: 기존 원본 행렬의 원소에 대한 인덱스를 필요로 할 때\n",
    "org_array = np.array([3,1,9,5])\n",
    "sort_indices = np.argsort(org_array)\n",
    "print(org_array)\n",
    "print(type(sort_indices))\n",
    "sort_indices"
   ]
  },
  {
   "cell_type": "code",
   "execution_count": 99,
   "id": "f5d67792",
   "metadata": {},
   "outputs": [
    {
     "data": {
      "text/plain": [
       "0.05332290103658159"
      ]
     },
     "execution_count": 99,
     "metadata": {},
     "output_type": "execute_result"
    }
   ],
   "source": [
    "# 배열에서 정렬한 후 50%에 해당하는 원소만 출력\n",
    "large_arr = np.random.randn(1000)\n",
    "large_arr.sort()\n",
    "large_arr[int(0.5*len(large_arr))]"
   ]
  },
  {
   "cell_type": "code",
   "execution_count": 100,
   "id": "e9d0e4dc",
   "metadata": {},
   "outputs": [
    {
     "data": {
      "text/plain": [
       "array(['Bob', 'Joe', 'Will'], dtype='<U4')"
      ]
     },
     "execution_count": 100,
     "metadata": {},
     "output_type": "execute_result"
    }
   ],
   "source": [
    "# 배열 집합 연산\n",
    "names = np.array(['Bob','Joe','Will','Joe','Joe'])\n",
    "np.unique(names)"
   ]
  },
  {
   "cell_type": "code",
   "execution_count": 4,
   "id": "80026854",
   "metadata": {},
   "outputs": [
    {
     "data": {
      "text/plain": [
       "['Bob', 'Joe', 'Will']"
      ]
     },
     "execution_count": 4,
     "metadata": {},
     "output_type": "execute_result"
    }
   ],
   "source": [
    "import numpy as np\n",
    "names = np.array(['Bob','Joe','Will','Joe','Joe'])\n",
    "sorted(set(names))"
   ]
  },
  {
   "cell_type": "code",
   "execution_count": 5,
   "id": "d7fdf2a6",
   "metadata": {},
   "outputs": [
    {
     "data": {
      "text/plain": [
       "array([ True, False, False,  True,  True, False,  True])"
      ]
     },
     "execution_count": 5,
     "metadata": {},
     "output_type": "execute_result"
    }
   ],
   "source": [
    "# 첫번째 배열의 원소가 두번째 배열의 원소를 포함하는지 알려주는 불리언 배열을 반환\n",
    "values = np.array([6,0,0,3,2,5,6])\n",
    "np.in1d(values,[2,3,6])"
   ]
  },
  {
   "cell_type": "code",
   "execution_count": 6,
   "id": "ecfd0515",
   "metadata": {},
   "outputs": [],
   "source": [
    "# 배열 데이터의 입출력\n",
    "# np.save, np.load는 바이너리 형식, .npy 파일로 저장\n",
    "\n",
    "arr = np.arange(10)\n",
    "np.save('some_array',arr)"
   ]
  },
  {
   "cell_type": "code",
   "execution_count": 8,
   "id": "ba1c8d3f",
   "metadata": {},
   "outputs": [
    {
     "data": {
      "text/plain": [
       "array([0, 1, 2, 3, 4, 5, 6, 7, 8, 9])"
      ]
     },
     "execution_count": 8,
     "metadata": {},
     "output_type": "execute_result"
    }
   ],
   "source": [
    "np.load('some_array.npy')"
   ]
  },
  {
   "cell_type": "code",
   "execution_count": 9,
   "id": "f7ce8e3f",
   "metadata": {},
   "outputs": [],
   "source": [
    "# np.savez : 여러개의 배열을 압축된 형식으로 저장\n",
    "np.savez('array_archive.npz',a=arr,b=arr)"
   ]
  },
  {
   "cell_type": "code",
   "execution_count": 11,
   "id": "edced7b5",
   "metadata": {},
   "outputs": [
    {
     "data": {
      "text/plain": [
       "array([0, 1, 2, 3, 4, 5, 6, 7, 8, 9])"
      ]
     },
     "execution_count": 11,
     "metadata": {},
     "output_type": "execute_result"
    }
   ],
   "source": [
    "arch = np.load('array_archive.npz')\n",
    "arch['a']"
   ]
  },
  {
   "cell_type": "code",
   "execution_count": 18,
   "id": "0f88c47e",
   "metadata": {},
   "outputs": [
    {
     "data": {
      "text/plain": [
       "array([1, 0, 1, 0, 1, 0, 1, 0, 1, 0])"
      ]
     },
     "execution_count": 18,
     "metadata": {},
     "output_type": "execute_result"
    }
   ],
   "source": [
    "# Q. 인덱싱을 사용하여 [1 0 1 0 1 0 1 0 1 0] 을 출력하세요.\n",
    "a = np.ones(10, dtype = int)\n",
    "a\n",
    "a[1]=0;a[3]=0;a[5]=0;a[7]=0;a[9]=0\n",
    "a"
   ]
  },
  {
   "cell_type": "code",
   "execution_count": 39,
   "id": "dec95ebb",
   "metadata": {},
   "outputs": [
    {
     "name": "stdout",
     "output_type": "stream",
     "text": [
      "[1 0 1 0 1 0 1 0 1 0]\n"
     ]
    }
   ],
   "source": [
    "a = np.ones(10).astype(int)\n",
    "a[[1,3,5,7,9]] = 0\n",
    "print(a)"
   ]
  },
  {
   "cell_type": "code",
   "execution_count": 31,
   "id": "4ba13607",
   "metadata": {},
   "outputs": [
    {
     "data": {
      "text/plain": [
       "array([6, 7, 8, 9])"
      ]
     },
     "execution_count": 31,
     "metadata": {},
     "output_type": "execute_result"
    }
   ],
   "source": [
    "# Q. a = np.arange(10)에서 [6,7,8,9] 출력\n",
    "a= np.arange(10)\n",
    "a1 = a[a>5]\n",
    "a1"
   ]
  },
  {
   "cell_type": "code",
   "execution_count": 33,
   "id": "283d2e69",
   "metadata": {},
   "outputs": [
    {
     "name": "stdout",
     "output_type": "stream",
     "text": [
      "최댓값: 8\n",
      "최솟값: 0\n"
     ]
    }
   ],
   "source": [
    "# Q. a에서 최대값, 최소값의 인덱스 출력\n",
    "a = np.arange(1,10)\n",
    "print(f'최댓값: {np.argmax(a)}\\n최솟값: {np.argmin(a)}')"
   ]
  },
  {
   "cell_type": "code",
   "execution_count": 36,
   "id": "28c15701",
   "metadata": {},
   "outputs": [
    {
     "data": {
      "text/plain": [
       "array([8, 7, 6, 5, 4, 3, 2, 1, 0], dtype=int64)"
      ]
     },
     "execution_count": 36,
     "metadata": {},
     "output_type": "execute_result"
    }
   ],
   "source": [
    "# Q. a에서 인덱스 배열을 역순으로 출력하세요\n",
    "a = np.arange(1,10)\n",
    "np.argsort(a)[::-1]"
   ]
  },
  {
   "cell_type": "code",
   "execution_count": null,
   "id": "31938359",
   "metadata": {},
   "outputs": [],
   "source": [
    "# Q. np.ones((10,10))을 아래와 같이 출력하세요.\n",
    "\n",
    "array([[1., 1., 1., 1., 1., 1., 1., 1., 1., 1.],\n",
    "       [1., 0., 0., 0., 0., 0., 0., 0., 0., 1.],\n",
    "       [1., 0., 0., 0., 0., 0., 0., 0., 0., 1.],\n",
    "       [1., 0., 0., 0., 0., 0., 0., 0., 0., 1.],\n",
    "       [1., 0., 0., 0., 0., 0., 0., 0., 0., 1.],\n",
    "       [1., 0., 0., 0., 0., 0., 0., 0., 0., 1.],\n",
    "       [1., 0., 0., 0., 0., 0., 0., 0., 0., 1.],\n",
    "       [1., 0., 0., 0., 0., 0., 0., 0., 0., 1.],\n",
    "       [1., 0., 0., 0., 0., 0., 0., 0., 0., 1.],\n",
    "       [1., 1., 1., 1., 1., 1., 1., 1., 1., 1.]])\n"
   ]
  },
  {
   "cell_type": "code",
   "execution_count": 37,
   "id": "3468afd7",
   "metadata": {},
   "outputs": [
    {
     "data": {
      "text/plain": [
       "array([[1., 1., 1., 1., 1., 1., 1., 1., 1., 1.],\n",
       "       [1., 0., 0., 0., 0., 0., 0., 0., 0., 1.],\n",
       "       [1., 0., 0., 0., 0., 0., 0., 0., 0., 1.],\n",
       "       [1., 0., 0., 0., 0., 0., 0., 0., 0., 1.],\n",
       "       [1., 0., 0., 0., 0., 0., 0., 0., 0., 1.],\n",
       "       [1., 0., 0., 0., 0., 0., 0., 0., 0., 1.],\n",
       "       [1., 0., 0., 0., 0., 0., 0., 0., 0., 1.],\n",
       "       [1., 0., 0., 0., 0., 0., 0., 0., 0., 1.],\n",
       "       [1., 0., 0., 0., 0., 0., 0., 0., 0., 1.],\n",
       "       [1., 1., 1., 1., 1., 1., 1., 1., 1., 1.]])"
      ]
     },
     "execution_count": 37,
     "metadata": {},
     "output_type": "execute_result"
    }
   ],
   "source": [
    "b=np.ones((10,10))\n",
    "b[1:9,1:9]=0\n",
    "b"
   ]
  },
  {
   "cell_type": "code",
   "execution_count": null,
   "id": "e4e15046",
   "metadata": {},
   "outputs": [],
   "source": [
    "#[과제] np.ones((5,5))을 아래와 같이 출력하세요.\n",
    "\n",
    "array([[0., 0., 0., 0., 0., 0., 0., 0., 0.],\n",
    "       [0., 0., 0., 0., 0., 0., 0., 0., 0.],\n",
    "       [0., 0., 1., 1., 1., 1., 1., 0., 0.],\n",
    "       [0., 0., 1., 1., 1., 1., 1., 0., 0.],\n",
    "       [0., 0., 1., 1., 1., 1., 1., 0., 0.],\n",
    "       [0., 0., 1., 1., 1., 1., 1., 0., 0.],\n",
    "       [0., 0., 1., 1., 1., 1., 1., 0., 0.],\n",
    "       [0., 0., 0., 0., 0., 0., 0., 0., 0.],\n",
    "       [0., 0., 0., 0., 0., 0., 0., 0., 0.]]\n"
   ]
  },
  {
   "cell_type": "code",
   "execution_count": 11,
   "id": "41737099",
   "metadata": {},
   "outputs": [
    {
     "name": "stdout",
     "output_type": "stream",
     "text": [
      "[[0. 0. 0. 0. 0. 0. 0. 0. 0. 0.]\n",
      " [0. 0. 0. 0. 0. 0. 0. 0. 0. 0.]\n",
      " [0. 0. 1. 1. 1. 1. 1. 1. 0. 0.]\n",
      " [0. 0. 1. 1. 1. 1. 1. 1. 0. 0.]\n",
      " [0. 0. 1. 1. 1. 1. 1. 1. 0. 0.]\n",
      " [0. 0. 1. 1. 1. 1. 1. 1. 0. 0.]\n",
      " [0. 0. 1. 1. 1. 1. 1. 1. 0. 0.]\n",
      " [0. 0. 1. 1. 1. 1. 1. 1. 0. 0.]\n",
      " [0. 0. 0. 0. 0. 0. 0. 0. 0. 0.]\n",
      " [0. 0. 0. 0. 0. 0. 0. 0. 0. 0.]]\n"
     ]
    }
   ],
   "source": [
    "ar=np.ones((10,10))\n",
    "ar[[0,1,8,9]]=0\n",
    "ar[:,[0,1,8,9]]=0\n",
    "print(ar)"
   ]
  },
  {
   "cell_type": "code",
   "execution_count": 116,
   "id": "6296c5ee",
   "metadata": {},
   "outputs": [
    {
     "name": "stdout",
     "output_type": "stream",
     "text": [
      "[[0. 0. 0. 0. 0. 0. 0. 0. 0.]\n",
      " [0. 0. 0. 0. 0. 0. 0. 0. 0.]\n",
      " [0. 0. 1. 1. 1. 1. 1. 0. 0.]\n",
      " [0. 0. 1. 1. 1. 1. 1. 0. 0.]\n",
      " [0. 0. 1. 1. 1. 1. 1. 0. 0.]\n",
      " [0. 0. 1. 1. 1. 1. 1. 0. 0.]\n",
      " [0. 0. 1. 1. 1. 1. 1. 0. 0.]\n",
      " [0. 0. 0. 0. 0. 0. 0. 0. 0.]\n",
      " [0. 0. 0. 0. 0. 0. 0. 0. 0.]]\n"
     ]
    }
   ],
   "source": [
    "a = np.ones((5,5))\n",
    "a = np.pad(a, pad_width=2, mode='constant', constant_values=0)\n",
    "print(a)"
   ]
  },
  {
   "cell_type": "code",
   "execution_count": null,
   "id": "4e0f4b68",
   "metadata": {},
   "outputs": [],
   "source": [
    "#[과제] np.zeros((8,8))을 이용해서 아래와 같이 출력하세요.(두가지방식:인덱싱,tile함수)\n",
    "\n",
    "array([[0, 1, 0, 1, 0, 1, 0, 1],\n",
    "       [1, 0, 1, 0, 1, 0, 1, 0],\n",
    "       [0, 1, 0, 1, 0, 1, 0, 1],\n",
    "       [1, 0, 1, 0, 1, 0, 1, 0],\n",
    "       [0, 1, 0, 1, 0, 1, 0, 1],\n",
    "       [1, 0, 1, 0, 1, 0, 1, 0],\n",
    "       [0, 1, 0, 1, 0, 1, 0, 1],\n",
    "       [1, 0, 1, 0, 1, 0, 1, 0]])\n"
   ]
  },
  {
   "cell_type": "code",
   "execution_count": 110,
   "id": "8aed7c27",
   "metadata": {},
   "outputs": [
    {
     "name": "stdout",
     "output_type": "stream",
     "text": [
      "[[0 1 0 1 0 1 0 1]\n",
      " [1 0 1 0 1 0 1 0]\n",
      " [0 1 0 1 0 1 0 1]\n",
      " [1 0 1 0 1 0 1 0]\n",
      " [0 1 0 1 0 1 0 1]\n",
      " [1 0 1 0 1 0 1 0]\n",
      " [0 1 0 1 0 1 0 1]\n",
      " [1 0 1 0 1 0 1 0]]\n"
     ]
    }
   ],
   "source": [
    "a = np.tile(np.array([[0,1],[1,0]]),(4,4))\n",
    "print(a)"
   ]
  },
  {
   "cell_type": "code",
   "execution_count": 2,
   "id": "a6f9eea8",
   "metadata": {},
   "outputs": [
    {
     "name": "stdout",
     "output_type": "stream",
     "text": [
      "[[0. 1. 0. 1. 0. 1. 0. 1.]\n",
      " [1. 0. 1. 0. 1. 0. 1. 0.]\n",
      " [0. 1. 0. 1. 0. 1. 0. 1.]\n",
      " [1. 0. 1. 0. 1. 0. 1. 0.]\n",
      " [0. 1. 0. 1. 0. 1. 0. 1.]\n",
      " [1. 0. 1. 0. 1. 0. 1. 0.]\n",
      " [0. 1. 0. 1. 0. 1. 0. 1.]\n",
      " [1. 0. 1. 0. 1. 0. 1. 0.]]\n"
     ]
    }
   ],
   "source": [
    "import numpy as np\n",
    "a = np.zeros((8,8))\n",
    "a[::2, 1::2] = 1\n",
    "a[1::2, ::2] = 1\n",
    "print(a)"
   ]
  },
  {
   "cell_type": "code",
   "execution_count": null,
   "id": "e0b83c5a",
   "metadata": {},
   "outputs": [],
   "source": [
    "#[도전과제] np.arange(336).reshape(6,7,8)에서 100번째 요소의 인덱스를 구하세요."
   ]
  },
  {
   "cell_type": "code",
   "execution_count": 13,
   "id": "56df5a81",
   "metadata": {},
   "outputs": [
    {
     "name": "stdout",
     "output_type": "stream",
     "text": [
      "(array([1], dtype=int64), array([5], dtype=int64), array([3], dtype=int64))\n"
     ]
    }
   ],
   "source": [
    "a = np.arange(336).reshape(6, 7, 8)\n",
    "print(np.where(a == 99))"
   ]
  },
  {
   "cell_type": "code",
   "execution_count": 16,
   "id": "a6cbe711",
   "metadata": {},
   "outputs": [
    {
     "name": "stdout",
     "output_type": "stream",
     "text": [
      "(1, 5, 3)\n"
     ]
    }
   ],
   "source": [
    "arr = np.arange(336).reshape(6,7,8)\n",
    "# print(arr)\n",
    "print(np.unravel_index(99,(6,7,8)))"
   ]
  },
  {
   "cell_type": "code",
   "execution_count": null,
   "id": "2ea47b90",
   "metadata": {},
   "outputs": [],
   "source": [
    "#[도전과제] np.arange(4)를 이용해서 아래와 같이 출력하세요.\n",
    "\n",
    "array([[0, 0, 0, 0, 0],\n",
    "       [1, 0, 0, 0, 0],\n",
    "       [0, 2, 0, 0, 0],\n",
    "       [0, 0, 3, 0, 0],\n",
    "       [0, 0, 0, 4, 0]])\n"
   ]
  },
  {
   "cell_type": "code",
   "execution_count": 115,
   "id": "15330a87",
   "metadata": {},
   "outputs": [
    {
     "name": "stdout",
     "output_type": "stream",
     "text": [
      "[[0 0 0 0 0]\n",
      " [1 0 0 0 0]\n",
      " [0 2 0 0 0]\n",
      " [0 0 3 0 0]\n",
      " [0 0 0 4 0]]\n"
     ]
    }
   ],
   "source": [
    "a = np.diag(1+np.arange(4), k=-1)\n",
    "print(a)"
   ]
  },
  {
   "cell_type": "code",
   "execution_count": 17,
   "id": "833b8f27",
   "metadata": {},
   "outputs": [
    {
     "name": "stdout",
     "output_type": "stream",
     "text": [
      "[[0. 0. 0. 0. 0.]\n",
      " [1. 0. 0. 0. 0.]\n",
      " [0. 2. 0. 0. 0.]\n",
      " [0. 0. 3. 0. 0.]\n",
      " [0. 0. 0. 4. 0.]]\n"
     ]
    }
   ],
   "source": [
    "zero = np.zeros((5, 5))\n",
    "a = np.arange(4)\n",
    "\n",
    "for i in range(4):\n",
    "    zero[i + 1, i] = a[i] + 1\n",
    "    \n",
    "print(zero)\n"
   ]
  },
  {
   "cell_type": "markdown",
   "id": "d1d4a5d2",
   "metadata": {},
   "source": [
    "[파이썬 random 함수]"
   ]
  },
  {
   "cell_type": "code",
   "execution_count": 56,
   "id": "6c5b67ae",
   "metadata": {},
   "outputs": [
    {
     "name": "stdout",
     "output_type": "stream",
     "text": [
      "0.12480808159201484 \n",
      "\n",
      "3 \n",
      "\n",
      "16.82467682520344 \n",
      "\n",
      "8 \n",
      "\n",
      "3 \n",
      "\n",
      "[4, 3, 1] \n",
      "\n",
      "[1, 3, 2, 4, 5]\n"
     ]
    }
   ],
   "source": [
    "import random\n",
    "print(random.random(),'\\n') # 0.0 <= x < 1.0 사이의 숫자를 랜덤하게 출력\n",
    "print(random.randint(1,10),'\\n') # 1~10 사이의 정수중에서 난수 값 리턴\n",
    "print(random.uniform(10,20),'\\n') # min(10) max(20)사이 float를 리턴\n",
    "print(random.randrange(10),'\\n') # 0~10 지정범위 int 리턴\n",
    "print(random.choice([1,2,3,4,5]),'\\n') # 리스트 내부에 있는 요소를 랜덤하게 선택\n",
    "li = [1,2,3,4,5]\n",
    "print(random.sample(li,3),'\\n') # 리스트 요소를 중복이 안되게 리턴\n",
    "random.shuffle(li) # 리스트 요소를 다시 섞어서 리턴\n",
    "print(li)"
   ]
  },
  {
   "cell_type": "markdown",
   "id": "223bb058",
   "metadata": {},
   "source": [
    "[numpy random 함수]\n",
    "\n",
    "- np.random.seed : seed를 통한 난수 생성(고정)\n",
    "- np.random.randint : 정수 난수 1개 생성\n",
    "- np.random.rand : 0부터 1사이의 균일분포에서 난수 매트릭스 배열 생성\n",
    "- np.random.randn: 가우시안 표준 정규분포에서 난수 매트릭스 배열 생성\n",
    "- np.random.shuffle : 기존의 데이터의 순서 바꾸기\n",
    "- np.random.choice : 기존 데이터에서 sampling"
   ]
  },
  {
   "cell_type": "code",
   "execution_count": 57,
   "id": "5c65df7f",
   "metadata": {},
   "outputs": [
    {
     "name": "stdout",
     "output_type": "stream",
     "text": [
      "5 \n",
      "\n",
      "19 \n",
      "\n",
      "[7 1 6 7 8 2 6 9 2 9] \n",
      "\n",
      "[16 11 18 14 19 15 13 15 17 19] \n",
      "\n",
      "[[16 14 14 10 14]\n",
      " [13 16 16 14 10]\n",
      " [18 11 14 10 14]] \n",
      "\n"
     ]
    }
   ],
   "source": [
    "print(np.random.randint(6),'\\n') # 0~5까지 정수인 난수 1개\n",
    "print(np.random.randint(1,20),'\\n') # 1~19까지 정수인 난수 1개\n",
    "print(np.random.randint(10, size=10),'\\n') # 0~9까지 정수인 난수 10개\n",
    "print(np.random.randint(10,20, size=10),'\\n') # 10~19까지 정수인 난수 10개\n",
    "print(np.random.randint(10,20, size=(3,5)),'\\n') # 10~19까지 정수인 난수로 3행5열 배열 생성\n"
   ]
  },
  {
   "cell_type": "code",
   "execution_count": 60,
   "id": "179213ca",
   "metadata": {},
   "outputs": [
    {
     "name": "stdout",
     "output_type": "stream",
     "text": [
      "[0.43143041 0.53161341 0.61798164 0.61709918 0.02950351 0.57110294] \n",
      "\n"
     ]
    },
    {
     "data": {
      "text/plain": [
       "0.4664551808795441"
      ]
     },
     "execution_count": 60,
     "metadata": {},
     "output_type": "execute_result"
    }
   ],
   "source": [
    "r = np.random.rand(6) # 0 ~ 1사이의 균일분포\n",
    "print(r,'\\n')\n",
    "r.mean()"
   ]
  },
  {
   "cell_type": "code",
   "execution_count": 97,
   "id": "4e732306",
   "metadata": {},
   "outputs": [
    {
     "name": "stdout",
     "output_type": "stream",
     "text": [
      "[-1.12656493 -0.11345815  1.29016045 ... -0.46821381 -1.25828623\n",
      "  0.48083494] \n",
      "\n"
     ]
    },
    {
     "data": {
      "text/plain": [
       "0.003174667272669413"
      ]
     },
     "execution_count": 97,
     "metadata": {},
     "output_type": "execute_result"
    }
   ],
   "source": [
    "# 표준 정규분포\n",
    "r = np.random.randn(10000)\n",
    "print(r,'\\n')\n",
    "r.mean()"
   ]
  },
  {
   "cell_type": "code",
   "execution_count": 63,
   "id": "600f11a4",
   "metadata": {},
   "outputs": [
    {
     "name": "stdout",
     "output_type": "stream",
     "text": [
      "[1 2 3 4 5] \n",
      "\n"
     ]
    },
    {
     "data": {
      "text/plain": [
       "array([2, 3, 4, 5, 1])"
      ]
     },
     "execution_count": 63,
     "metadata": {},
     "output_type": "execute_result"
    }
   ],
   "source": [
    "list = np.arange(1,6)\n",
    "print(list,'\\n')\n",
    "np.random.shuffle(list)\n",
    "list"
   ]
  },
  {
   "cell_type": "code",
   "execution_count": 64,
   "id": "f66a8443",
   "metadata": {},
   "outputs": [
    {
     "data": {
      "text/plain": [
       "3"
      ]
     },
     "execution_count": 64,
     "metadata": {},
     "output_type": "execute_result"
    }
   ],
   "source": [
    "np.random.choice(list)"
   ]
  },
  {
   "cell_type": "code",
   "execution_count": 65,
   "id": "d02ff57c",
   "metadata": {},
   "outputs": [
    {
     "name": "stdout",
     "output_type": "stream",
     "text": [
      "[ 2  3  7 11]\n",
      "[3 2 1 2]\n"
     ]
    }
   ],
   "source": [
    "a = np.array([11,11,3,3,2,2,2,7])\n",
    "index,count = np.unique(a,return_counts=True)\n",
    "print(index)\n",
    "print(count)"
   ]
  },
  {
   "cell_type": "code",
   "execution_count": 99,
   "id": "555bc2e7",
   "metadata": {},
   "outputs": [
    {
     "data": {
      "text/plain": [
       "array([1.50731302, 1.40582505, 1.7328443 , 1.25353258, 1.45146885,\n",
       "       1.24235749, 1.53911978, 1.26541049, 1.98894195, 1.31437696])"
      ]
     },
     "execution_count": 99,
     "metadata": {},
     "output_type": "execute_result"
    }
   ],
   "source": [
    "np.random.uniform(1.0,2.0,10)"
   ]
  },
  {
   "cell_type": "code",
   "execution_count": 70,
   "id": "3a423c1f",
   "metadata": {},
   "outputs": [
    {
     "name": "stdout",
     "output_type": "stream",
     "text": [
      "[[0.3729091  0.51399105 0.83520513]\n",
      " [0.721808   0.23185749 0.46865291]]\n"
     ]
    }
   ],
   "source": [
    "print(np.random.uniform(0,1,(2,3)))"
   ]
  },
  {
   "cell_type": "code",
   "execution_count": 68,
   "id": "70abdfa5",
   "metadata": {},
   "outputs": [
    {
     "data": {
      "text/plain": [
       "array([[0.17390619, 0.12478354, 0.00636601],\n",
       "       [0.20284729, 0.56859815, 0.80548658]])"
      ]
     },
     "execution_count": 68,
     "metadata": {},
     "output_type": "execute_result"
    }
   ],
   "source": [
    "# 0 ~ 1 사이의 난수 실수값으로 행렬 생성\n",
    "# uniform함수의 최소값, 최대값을 각각 0,1로 지정한 것과 같음\n",
    "np.random.random_sample((2,3))"
   ]
  },
  {
   "cell_type": "code",
   "execution_count": 71,
   "id": "3285aa0e",
   "metadata": {},
   "outputs": [
    {
     "name": "stdout",
     "output_type": "stream",
     "text": [
      "Requirement already satisfied: pandas in c:\\sw\\anaconda3\\envs\\cakd5\\lib\\site-packages (1.3.4)\n",
      "Requirement already satisfied: pytz>=2017.3 in c:\\sw\\anaconda3\\envs\\cakd5\\lib\\site-packages (from pandas) (2021.3)\n",
      "Requirement already satisfied: python-dateutil>=2.7.3 in c:\\sw\\anaconda3\\envs\\cakd5\\lib\\site-packages (from pandas) (2.8.2)\n",
      "Requirement already satisfied: numpy>=1.17.3 in c:\\sw\\anaconda3\\envs\\cakd5\\lib\\site-packages (from pandas) (1.21.2)\n",
      "Requirement already satisfied: six>=1.5 in c:\\sw\\anaconda3\\envs\\cakd5\\lib\\site-packages (from python-dateutil>=2.7.3->pandas) (1.16.0)\n"
     ]
    }
   ],
   "source": [
    "!pip install pandas"
   ]
  },
  {
   "cell_type": "code",
   "execution_count": 73,
   "id": "6d58c5a8",
   "metadata": {},
   "outputs": [
    {
     "data": {
      "text/plain": [
       "array([[0.83543831, 0.49988699, 0.01972655, 0.57722549, 0.7690136 ,\n",
       "        0.74259662, 0.85757704, 0.18628527],\n",
       "       [0.96912481, 0.00323098, 0.71216114, 0.72659833, 0.46344827,\n",
       "        0.56978756, 0.07806791, 0.51850037],\n",
       "       [0.26616282, 0.07275875, 0.46539223, 0.31326641, 0.2433147 ,\n",
       "        0.87860691, 0.35090545, 0.29138563],\n",
       "       [0.3132006 , 0.80887465, 0.29867142, 0.02421544, 0.65196394,\n",
       "        0.96536559, 0.40311895, 0.12133035]])"
      ]
     },
     "execution_count": 73,
     "metadata": {},
     "output_type": "execute_result"
    }
   ],
   "source": [
    "ar = np.random.rand(4,8)\n",
    "ar"
   ]
  },
  {
   "cell_type": "code",
   "execution_count": 77,
   "id": "e768884f",
   "metadata": {},
   "outputs": [
    {
     "name": "stdout",
     "output_type": "stream",
     "text": [
      "          0         1         2         3         4         5         6  \\\n",
      "0  0.835438  0.499887  0.019727  0.577225  0.769014  0.742597  0.857577   \n",
      "1  0.969125  0.003231  0.712161  0.726598  0.463448  0.569788  0.078068   \n",
      "2  0.266163  0.072759  0.465392  0.313266  0.243315  0.878607  0.350905   \n",
      "3  0.313201  0.808875  0.298671  0.024215  0.651964  0.965366  0.403119   \n",
      "\n",
      "          7  \n",
      "0  0.186285  \n",
      "1  0.518500  \n",
      "2  0.291386  \n",
      "3  0.121330   <class 'pandas.core.frame.DataFrame'>\n"
     ]
    }
   ],
   "source": [
    "# 배열을 데이터프레임으로 변환\n",
    "import pandas as pd\n",
    "df = pd.DataFrame(ar)\n",
    "print(df,type(df))"
   ]
  },
  {
   "cell_type": "code",
   "execution_count": 81,
   "id": "6297fca8",
   "metadata": {},
   "outputs": [
    {
     "data": {
      "text/html": [
       "<div>\n",
       "<style scoped>\n",
       "    .dataframe tbody tr th:only-of-type {\n",
       "        vertical-align: middle;\n",
       "    }\n",
       "\n",
       "    .dataframe tbody tr th {\n",
       "        vertical-align: top;\n",
       "    }\n",
       "\n",
       "    .dataframe thead th {\n",
       "        text-align: right;\n",
       "    }\n",
       "</style>\n",
       "<table border=\"1\" class=\"dataframe\">\n",
       "  <thead>\n",
       "    <tr style=\"text-align: right;\">\n",
       "      <th></th>\n",
       "      <th>id</th>\n",
       "      <th>gender</th>\n",
       "      <th>age</th>\n",
       "      <th>region</th>\n",
       "      <th>product</th>\n",
       "      <th>price</th>\n",
       "      <th>qty</th>\n",
       "      <th>time</th>\n",
       "    </tr>\n",
       "  </thead>\n",
       "  <tbody>\n",
       "    <tr>\n",
       "      <th>0</th>\n",
       "      <td>0.835438</td>\n",
       "      <td>0.499887</td>\n",
       "      <td>0.019727</td>\n",
       "      <td>0.577225</td>\n",
       "      <td>0.769014</td>\n",
       "      <td>0.742597</td>\n",
       "      <td>0.857577</td>\n",
       "      <td>0.186285</td>\n",
       "    </tr>\n",
       "    <tr>\n",
       "      <th>1</th>\n",
       "      <td>0.969125</td>\n",
       "      <td>0.003231</td>\n",
       "      <td>0.712161</td>\n",
       "      <td>0.726598</td>\n",
       "      <td>0.463448</td>\n",
       "      <td>0.569788</td>\n",
       "      <td>0.078068</td>\n",
       "      <td>0.518500</td>\n",
       "    </tr>\n",
       "    <tr>\n",
       "      <th>2</th>\n",
       "      <td>0.266163</td>\n",
       "      <td>0.072759</td>\n",
       "      <td>0.465392</td>\n",
       "      <td>0.313266</td>\n",
       "      <td>0.243315</td>\n",
       "      <td>0.878607</td>\n",
       "      <td>0.350905</td>\n",
       "      <td>0.291386</td>\n",
       "    </tr>\n",
       "    <tr>\n",
       "      <th>3</th>\n",
       "      <td>0.313201</td>\n",
       "      <td>0.808875</td>\n",
       "      <td>0.298671</td>\n",
       "      <td>0.024215</td>\n",
       "      <td>0.651964</td>\n",
       "      <td>0.965366</td>\n",
       "      <td>0.403119</td>\n",
       "      <td>0.121330</td>\n",
       "    </tr>\n",
       "  </tbody>\n",
       "</table>\n",
       "</div>"
      ],
      "text/plain": [
       "         id    gender       age    region   product     price       qty  \\\n",
       "0  0.835438  0.499887  0.019727  0.577225  0.769014  0.742597  0.857577   \n",
       "1  0.969125  0.003231  0.712161  0.726598  0.463448  0.569788  0.078068   \n",
       "2  0.266163  0.072759  0.465392  0.313266  0.243315  0.878607  0.350905   \n",
       "3  0.313201  0.808875  0.298671  0.024215  0.651964  0.965366  0.403119   \n",
       "\n",
       "       time  \n",
       "0  0.186285  \n",
       "1  0.518500  \n",
       "2  0.291386  \n",
       "3  0.121330  "
      ]
     },
     "execution_count": 81,
     "metadata": {},
     "output_type": "execute_result"
    }
   ],
   "source": [
    "columns = ['id','gender','age','region','product','price','qty','time']\n",
    "index = [np.arange(4)]\n",
    "df = pd.DataFrame(ar,index,columns=columns)\n",
    "df"
   ]
  },
  {
   "cell_type": "code",
   "execution_count": null,
   "id": "8a1de2b2",
   "metadata": {},
   "outputs": [],
   "source": [
    "# Q. id, gender, age 컬럼에 대하여 의미있는 값으로 변환하여 3개의 컬럼으로 구성된 df를 출력하세요."
   ]
  },
  {
   "cell_type": "code",
   "execution_count": 83,
   "id": "ca679dae",
   "metadata": {},
   "outputs": [
    {
     "data": {
      "text/html": [
       "<div>\n",
       "<style scoped>\n",
       "    .dataframe tbody tr th:only-of-type {\n",
       "        vertical-align: middle;\n",
       "    }\n",
       "\n",
       "    .dataframe tbody tr th {\n",
       "        vertical-align: top;\n",
       "    }\n",
       "\n",
       "    .dataframe thead th {\n",
       "        text-align: right;\n",
       "    }\n",
       "</style>\n",
       "<table border=\"1\" class=\"dataframe\">\n",
       "  <thead>\n",
       "    <tr style=\"text-align: right;\">\n",
       "      <th></th>\n",
       "      <th>ID</th>\n",
       "      <th>Gender</th>\n",
       "      <th>Age</th>\n",
       "    </tr>\n",
       "  </thead>\n",
       "  <tbody>\n",
       "    <tr>\n",
       "      <th>1</th>\n",
       "      <td>7786</td>\n",
       "      <td>M</td>\n",
       "      <td>32</td>\n",
       "    </tr>\n",
       "    <tr>\n",
       "      <th>2</th>\n",
       "      <td>5924</td>\n",
       "      <td>F</td>\n",
       "      <td>14</td>\n",
       "    </tr>\n",
       "    <tr>\n",
       "      <th>3</th>\n",
       "      <td>5525</td>\n",
       "      <td>M</td>\n",
       "      <td>28</td>\n",
       "    </tr>\n",
       "  </tbody>\n",
       "</table>\n",
       "</div>"
      ],
      "text/plain": [
       "     ID Gender Age\n",
       "1  7786      M  32\n",
       "2  5924      F  14\n",
       "3  5525      M  28"
      ]
     },
     "execution_count": 83,
     "metadata": {},
     "output_type": "execute_result"
    }
   ],
   "source": [
    "ID = np.random.randint(1000,10000,3)\n",
    "gen = np.random.choice(['M','F'],3)\n",
    "age = np.random.randint(10,40,3)\n",
    "\n",
    "data = np.array([ID,gen,age]).reshape(3,3).transpose()\n",
    "df=pd.DataFrame(data,np.arange(1,4),['ID','Gender','Age'])\n",
    "df\n"
   ]
  },
  {
   "cell_type": "code",
   "execution_count": 117,
   "id": "b6c21f10",
   "metadata": {},
   "outputs": [
    {
     "data": {
      "text/html": [
       "<div>\n",
       "<style scoped>\n",
       "    .dataframe tbody tr th:only-of-type {\n",
       "        vertical-align: middle;\n",
       "    }\n",
       "\n",
       "    .dataframe tbody tr th {\n",
       "        vertical-align: top;\n",
       "    }\n",
       "\n",
       "    .dataframe thead th {\n",
       "        text-align: right;\n",
       "    }\n",
       "</style>\n",
       "<table border=\"1\" class=\"dataframe\">\n",
       "  <thead>\n",
       "    <tr style=\"text-align: right;\">\n",
       "      <th></th>\n",
       "      <th>id</th>\n",
       "      <th>gender</th>\n",
       "      <th>age</th>\n",
       "    </tr>\n",
       "  </thead>\n",
       "  <tbody>\n",
       "    <tr>\n",
       "      <th>0</th>\n",
       "      <td>1</td>\n",
       "      <td>0</td>\n",
       "      <td>10</td>\n",
       "    </tr>\n",
       "    <tr>\n",
       "      <th>1</th>\n",
       "      <td>2</td>\n",
       "      <td>1</td>\n",
       "      <td>20</td>\n",
       "    </tr>\n",
       "    <tr>\n",
       "      <th>2</th>\n",
       "      <td>3</td>\n",
       "      <td>1</td>\n",
       "      <td>30</td>\n",
       "    </tr>\n",
       "    <tr>\n",
       "      <th>3</th>\n",
       "      <td>4</td>\n",
       "      <td>0</td>\n",
       "      <td>40</td>\n",
       "    </tr>\n",
       "  </tbody>\n",
       "</table>\n",
       "</div>"
      ],
      "text/plain": [
       "   id  gender  age\n",
       "0   1       0   10\n",
       "1   2       1   20\n",
       "2   3       1   30\n",
       "3   4       0   40"
      ]
     },
     "execution_count": 117,
     "metadata": {},
     "output_type": "execute_result"
    }
   ],
   "source": [
    "ar = np.zeros((4,3))\n",
    "columns = ['id','gender','age']\n",
    "index = [np.arange(4)]\n",
    "df = pd.DataFrame(ar,index,columns=columns)\n",
    "#df.id = np.array([1,2,3,4])\n",
    "df.id = np.arange(1,5)\n",
    "#df.gender = np.array([0,1,0,1])\n",
    "np.random.seed(0)\n",
    "df.gender = np.random.randint(2, size=4)\n",
    "#df.age = np.array([20,30,40,50])\n",
    "df.age = np.arange(1,5) * 10\n",
    "df"
   ]
  },
  {
   "cell_type": "markdown",
   "id": "e1cc7034",
   "metadata": {},
   "source": [
    "[과제] 아래 가이드를 따라서 고객 구매데이터를 생성하고 데이터프레임으로 변환하여 출력하세요.(관측치 1000개)\n",
    "\n",
    "- id : 1~1000번 일련번호\n",
    "- gender : 0,1정수 난수 생성\n",
    "- age : 0~80사이 정수 난수 생성\n",
    "- region : 1 ~ 10사이 정수 난수 생성 \n",
    "- product : 제품코드 11111 - 99999\n",
    "- price_19 : 1000~50000 사이 실수 난수 생성\n",
    "- price_20 : 1000~50000 사이 실수 난수 생성\n",
    "- quantity_19 : 1 ~ 100 사이 정수 난수 생성\n",
    "- quantity_20 : 1 ~ 100 사이 정수 난수 생성\n",
    "- time_19 : 01~24사이 정수 난수 생성\n",
    "- time_20 : 01~24사이 정수 난수 생성\n",
    "- amount_19 : price_19 * quantity_19\n",
    "- amount_20 : price_20 * quantity_20\n",
    "- sales : 19년 대비 20년구매금액이 증가면 1, 감소면 0"
   ]
  },
  {
   "cell_type": "code",
   "execution_count": 32,
   "id": "9a437d1f",
   "metadata": {},
   "outputs": [
    {
     "data": {
      "text/html": [
       "<div>\n",
       "<style scoped>\n",
       "    .dataframe tbody tr th:only-of-type {\n",
       "        vertical-align: middle;\n",
       "    }\n",
       "\n",
       "    .dataframe tbody tr th {\n",
       "        vertical-align: top;\n",
       "    }\n",
       "\n",
       "    .dataframe thead th {\n",
       "        text-align: right;\n",
       "    }\n",
       "</style>\n",
       "<table border=\"1\" class=\"dataframe\">\n",
       "  <thead>\n",
       "    <tr style=\"text-align: right;\">\n",
       "      <th></th>\n",
       "      <th>id</th>\n",
       "      <th>gender</th>\n",
       "      <th>age</th>\n",
       "      <th>region</th>\n",
       "      <th>product_19</th>\n",
       "      <th>product_20</th>\n",
       "      <th>price_19</th>\n",
       "      <th>price_20</th>\n",
       "      <th>quantity_19</th>\n",
       "      <th>quantity_20</th>\n",
       "      <th>time_19</th>\n",
       "      <th>time_20</th>\n",
       "      <th>amount_19</th>\n",
       "      <th>amount_20</th>\n",
       "      <th>sales</th>\n",
       "    </tr>\n",
       "  </thead>\n",
       "  <tbody>\n",
       "    <tr>\n",
       "      <th>0</th>\n",
       "      <td>1</td>\n",
       "      <td>1</td>\n",
       "      <td>73</td>\n",
       "      <td>10</td>\n",
       "      <td>97283</td>\n",
       "      <td>17892</td>\n",
       "      <td>47844.619486</td>\n",
       "      <td>13800.699158</td>\n",
       "      <td>36</td>\n",
       "      <td>99</td>\n",
       "      <td>10</td>\n",
       "      <td>5</td>\n",
       "      <td>1.722406e+06</td>\n",
       "      <td>1.366269e+06</td>\n",
       "      <td>0</td>\n",
       "    </tr>\n",
       "    <tr>\n",
       "      <th>1</th>\n",
       "      <td>2</td>\n",
       "      <td>0</td>\n",
       "      <td>25</td>\n",
       "      <td>10</td>\n",
       "      <td>50740</td>\n",
       "      <td>36932</td>\n",
       "      <td>47559.037971</td>\n",
       "      <td>22077.262976</td>\n",
       "      <td>92</td>\n",
       "      <td>67</td>\n",
       "      <td>16</td>\n",
       "      <td>2</td>\n",
       "      <td>4.375431e+06</td>\n",
       "      <td>1.479177e+06</td>\n",
       "      <td>0</td>\n",
       "    </tr>\n",
       "    <tr>\n",
       "      <th>2</th>\n",
       "      <td>3</td>\n",
       "      <td>0</td>\n",
       "      <td>46</td>\n",
       "      <td>4</td>\n",
       "      <td>18236</td>\n",
       "      <td>15399</td>\n",
       "      <td>5431.643217</td>\n",
       "      <td>21388.371463</td>\n",
       "      <td>31</td>\n",
       "      <td>10</td>\n",
       "      <td>6</td>\n",
       "      <td>10</td>\n",
       "      <td>1.683809e+05</td>\n",
       "      <td>2.138837e+05</td>\n",
       "      <td>1</td>\n",
       "    </tr>\n",
       "    <tr>\n",
       "      <th>3</th>\n",
       "      <td>4</td>\n",
       "      <td>1</td>\n",
       "      <td>76</td>\n",
       "      <td>2</td>\n",
       "      <td>43717</td>\n",
       "      <td>65118</td>\n",
       "      <td>46606.625048</td>\n",
       "      <td>4251.956933</td>\n",
       "      <td>82</td>\n",
       "      <td>57</td>\n",
       "      <td>4</td>\n",
       "      <td>10</td>\n",
       "      <td>3.821743e+06</td>\n",
       "      <td>2.423615e+05</td>\n",
       "      <td>0</td>\n",
       "    </tr>\n",
       "    <tr>\n",
       "      <th>4</th>\n",
       "      <td>5</td>\n",
       "      <td>0</td>\n",
       "      <td>1</td>\n",
       "      <td>7</td>\n",
       "      <td>81186</td>\n",
       "      <td>32301</td>\n",
       "      <td>33025.001839</td>\n",
       "      <td>16585.087012</td>\n",
       "      <td>39</td>\n",
       "      <td>55</td>\n",
       "      <td>5</td>\n",
       "      <td>9</td>\n",
       "      <td>1.287975e+06</td>\n",
       "      <td>9.121798e+05</td>\n",
       "      <td>0</td>\n",
       "    </tr>\n",
       "    <tr>\n",
       "      <th>...</th>\n",
       "      <td>...</td>\n",
       "      <td>...</td>\n",
       "      <td>...</td>\n",
       "      <td>...</td>\n",
       "      <td>...</td>\n",
       "      <td>...</td>\n",
       "      <td>...</td>\n",
       "      <td>...</td>\n",
       "      <td>...</td>\n",
       "      <td>...</td>\n",
       "      <td>...</td>\n",
       "      <td>...</td>\n",
       "      <td>...</td>\n",
       "      <td>...</td>\n",
       "      <td>...</td>\n",
       "    </tr>\n",
       "    <tr>\n",
       "      <th>995</th>\n",
       "      <td>996</td>\n",
       "      <td>0</td>\n",
       "      <td>57</td>\n",
       "      <td>4</td>\n",
       "      <td>62076</td>\n",
       "      <td>45744</td>\n",
       "      <td>33772.222516</td>\n",
       "      <td>38274.946486</td>\n",
       "      <td>54</td>\n",
       "      <td>93</td>\n",
       "      <td>15</td>\n",
       "      <td>9</td>\n",
       "      <td>1.823700e+06</td>\n",
       "      <td>3.559570e+06</td>\n",
       "      <td>1</td>\n",
       "    </tr>\n",
       "    <tr>\n",
       "      <th>996</th>\n",
       "      <td>997</td>\n",
       "      <td>1</td>\n",
       "      <td>59</td>\n",
       "      <td>6</td>\n",
       "      <td>72602</td>\n",
       "      <td>83082</td>\n",
       "      <td>4137.188093</td>\n",
       "      <td>21403.198285</td>\n",
       "      <td>30</td>\n",
       "      <td>46</td>\n",
       "      <td>3</td>\n",
       "      <td>3</td>\n",
       "      <td>1.241156e+05</td>\n",
       "      <td>9.845471e+05</td>\n",
       "      <td>1</td>\n",
       "    </tr>\n",
       "    <tr>\n",
       "      <th>997</th>\n",
       "      <td>998</td>\n",
       "      <td>1</td>\n",
       "      <td>22</td>\n",
       "      <td>4</td>\n",
       "      <td>90260</td>\n",
       "      <td>52053</td>\n",
       "      <td>17861.498069</td>\n",
       "      <td>12722.615101</td>\n",
       "      <td>20</td>\n",
       "      <td>59</td>\n",
       "      <td>3</td>\n",
       "      <td>3</td>\n",
       "      <td>3.572300e+05</td>\n",
       "      <td>7.506343e+05</td>\n",
       "      <td>1</td>\n",
       "    </tr>\n",
       "    <tr>\n",
       "      <th>998</th>\n",
       "      <td>999</td>\n",
       "      <td>1</td>\n",
       "      <td>7</td>\n",
       "      <td>10</td>\n",
       "      <td>97347</td>\n",
       "      <td>9090</td>\n",
       "      <td>43211.966369</td>\n",
       "      <td>7980.364337</td>\n",
       "      <td>34</td>\n",
       "      <td>51</td>\n",
       "      <td>16</td>\n",
       "      <td>11</td>\n",
       "      <td>1.469207e+06</td>\n",
       "      <td>4.069986e+05</td>\n",
       "      <td>0</td>\n",
       "    </tr>\n",
       "    <tr>\n",
       "      <th>999</th>\n",
       "      <td>1000</td>\n",
       "      <td>0</td>\n",
       "      <td>56</td>\n",
       "      <td>10</td>\n",
       "      <td>60038</td>\n",
       "      <td>66595</td>\n",
       "      <td>30188.220096</td>\n",
       "      <td>36018.678514</td>\n",
       "      <td>47</td>\n",
       "      <td>64</td>\n",
       "      <td>7</td>\n",
       "      <td>1</td>\n",
       "      <td>1.418846e+06</td>\n",
       "      <td>2.305195e+06</td>\n",
       "      <td>1</td>\n",
       "    </tr>\n",
       "  </tbody>\n",
       "</table>\n",
       "<p>1000 rows × 15 columns</p>\n",
       "</div>"
      ],
      "text/plain": [
       "       id  gender  age  region  product_19  product_20      price_19  \\\n",
       "0       1       1   73      10       97283       17892  47844.619486   \n",
       "1       2       0   25      10       50740       36932  47559.037971   \n",
       "2       3       0   46       4       18236       15399   5431.643217   \n",
       "3       4       1   76       2       43717       65118  46606.625048   \n",
       "4       5       0    1       7       81186       32301  33025.001839   \n",
       "..    ...     ...  ...     ...         ...         ...           ...   \n",
       "995   996       0   57       4       62076       45744  33772.222516   \n",
       "996   997       1   59       6       72602       83082   4137.188093   \n",
       "997   998       1   22       4       90260       52053  17861.498069   \n",
       "998   999       1    7      10       97347        9090  43211.966369   \n",
       "999  1000       0   56      10       60038       66595  30188.220096   \n",
       "\n",
       "         price_20  quantity_19  quantity_20  time_19  time_20     amount_19  \\\n",
       "0    13800.699158           36           99       10        5  1.722406e+06   \n",
       "1    22077.262976           92           67       16        2  4.375431e+06   \n",
       "2    21388.371463           31           10        6       10  1.683809e+05   \n",
       "3     4251.956933           82           57        4       10  3.821743e+06   \n",
       "4    16585.087012           39           55        5        9  1.287975e+06   \n",
       "..            ...          ...          ...      ...      ...           ...   \n",
       "995  38274.946486           54           93       15        9  1.823700e+06   \n",
       "996  21403.198285           30           46        3        3  1.241156e+05   \n",
       "997  12722.615101           20           59        3        3  3.572300e+05   \n",
       "998   7980.364337           34           51       16       11  1.469207e+06   \n",
       "999  36018.678514           47           64        7        1  1.418846e+06   \n",
       "\n",
       "        amount_20  sales  \n",
       "0    1.366269e+06      0  \n",
       "1    1.479177e+06      0  \n",
       "2    2.138837e+05      1  \n",
       "3    2.423615e+05      0  \n",
       "4    9.121798e+05      0  \n",
       "..            ...    ...  \n",
       "995  3.559570e+06      1  \n",
       "996  9.845471e+05      1  \n",
       "997  7.506343e+05      1  \n",
       "998  4.069986e+05      0  \n",
       "999  2.305195e+06      1  \n",
       "\n",
       "[1000 rows x 15 columns]"
      ]
     },
     "execution_count": 32,
     "metadata": {},
     "output_type": "execute_result"
    }
   ],
   "source": [
    "ar=np.zeros((1000,15))\n",
    "columns = ['id','gender','age','region','product_19','product_20','price_19','price_20','quantity_19','quantity_20','time_19','time_20','amount_19','amount_20','sales']\n",
    "index = [np.arange(1000)]\n",
    "df = pd.DataFrame(ar,index,columns=columns)\n",
    "df.id = np.arange(1,1001)\n",
    "df.gender = np.random.randint(2,size=1000)\n",
    "df.age = np.random.randint(0,81,size=1000)\n",
    "df.region = np.random.randint(1,11,size=1000)\n",
    "df.product_19 = np.random.randint(1111,100000,size=1000)\n",
    "df.product_20 = np.random.randint(1111,100000,size=1000)\n",
    "df.price_19 = np.random.uniform(1000,50001,size=1000)\n",
    "df.price_20 = np.random.uniform(1000,50001,size=1000)\n",
    "df.quantity_19 = np.random.randint(1,101,size=1000)\n",
    "df.quantity_20 = np.random.randint(1,101,size=1000)\n",
    "df.time_19 = np.random.randint(1,25, size=1000)\n",
    "df.time_20 = np.random.randint(1,25, size=1000)\n",
    "df.amount_19 = (df.price_19*df.quantity_19)\n",
    "df.amount_20 = (df.price_20*df.quantity_20)\n",
    "df.sales = np.where(df.amount_20>df.amount_19,1,0)\n",
    "df"
   ]
  },
  {
   "cell_type": "code",
   "execution_count": 20,
   "id": "97fd44fb",
   "metadata": {},
   "outputs": [
    {
     "data": {
      "text/html": [
       "<div>\n",
       "<style scoped>\n",
       "    .dataframe tbody tr th:only-of-type {\n",
       "        vertical-align: middle;\n",
       "    }\n",
       "\n",
       "    .dataframe tbody tr th {\n",
       "        vertical-align: top;\n",
       "    }\n",
       "\n",
       "    .dataframe thead th {\n",
       "        text-align: right;\n",
       "    }\n",
       "</style>\n",
       "<table border=\"1\" class=\"dataframe\">\n",
       "  <thead>\n",
       "    <tr style=\"text-align: right;\">\n",
       "      <th></th>\n",
       "      <th>id</th>\n",
       "      <th>gender</th>\n",
       "      <th>age</th>\n",
       "      <th>region</th>\n",
       "      <th>product_19</th>\n",
       "      <th>product_20</th>\n",
       "      <th>price_19</th>\n",
       "      <th>price_20</th>\n",
       "      <th>quantity_19</th>\n",
       "      <th>quantity_20</th>\n",
       "      <th>time_19</th>\n",
       "      <th>time_20</th>\n",
       "      <th>amount_19</th>\n",
       "      <th>amount_20</th>\n",
       "      <th>sales</th>\n",
       "    </tr>\n",
       "  </thead>\n",
       "  <tbody>\n",
       "    <tr>\n",
       "      <th>0</th>\n",
       "      <td>752</td>\n",
       "      <td>여</td>\n",
       "      <td>73</td>\n",
       "      <td>3</td>\n",
       "      <td>WL791</td>\n",
       "      <td>UJ673</td>\n",
       "      <td>358664.76</td>\n",
       "      <td>296794.36</td>\n",
       "      <td>77</td>\n",
       "      <td>48</td>\n",
       "      <td>24</td>\n",
       "      <td>21</td>\n",
       "      <td>27617186.42</td>\n",
       "      <td>14246129.11</td>\n",
       "      <td>0.00</td>\n",
       "    </tr>\n",
       "    <tr>\n",
       "      <th>1</th>\n",
       "      <td>792</td>\n",
       "      <td>남</td>\n",
       "      <td>66</td>\n",
       "      <td>6</td>\n",
       "      <td>VY658</td>\n",
       "      <td>NG697</td>\n",
       "      <td>184589.70</td>\n",
       "      <td>298987.79</td>\n",
       "      <td>42</td>\n",
       "      <td>52</td>\n",
       "      <td>17</td>\n",
       "      <td>09</td>\n",
       "      <td>7752767.34</td>\n",
       "      <td>15547364.94</td>\n",
       "      <td>1.00</td>\n",
       "    </tr>\n",
       "    <tr>\n",
       "      <th>2</th>\n",
       "      <td>95</td>\n",
       "      <td>여</td>\n",
       "      <td>3</td>\n",
       "      <td>3</td>\n",
       "      <td>SM832</td>\n",
       "      <td>YI430</td>\n",
       "      <td>475285.53</td>\n",
       "      <td>470930.05</td>\n",
       "      <td>58</td>\n",
       "      <td>8</td>\n",
       "      <td>02</td>\n",
       "      <td>21</td>\n",
       "      <td>27566561.01</td>\n",
       "      <td>3767440.37</td>\n",
       "      <td>0.00</td>\n",
       "    </tr>\n",
       "    <tr>\n",
       "      <th>3</th>\n",
       "      <td>611</td>\n",
       "      <td>남</td>\n",
       "      <td>12</td>\n",
       "      <td>7</td>\n",
       "      <td>MD500</td>\n",
       "      <td>II882</td>\n",
       "      <td>464317.40</td>\n",
       "      <td>367861.73</td>\n",
       "      <td>6</td>\n",
       "      <td>89</td>\n",
       "      <td>24</td>\n",
       "      <td>16</td>\n",
       "      <td>2785904.43</td>\n",
       "      <td>32739694.04</td>\n",
       "      <td>1.00</td>\n",
       "    </tr>\n",
       "    <tr>\n",
       "      <th>4</th>\n",
       "      <td>514</td>\n",
       "      <td>여</td>\n",
       "      <td>40</td>\n",
       "      <td>1</td>\n",
       "      <td>QK572</td>\n",
       "      <td>IU803</td>\n",
       "      <td>241857.46</td>\n",
       "      <td>78096.12</td>\n",
       "      <td>29</td>\n",
       "      <td>36</td>\n",
       "      <td>21</td>\n",
       "      <td>13</td>\n",
       "      <td>7013866.27</td>\n",
       "      <td>2811460.15</td>\n",
       "      <td>0.00</td>\n",
       "    </tr>\n",
       "    <tr>\n",
       "      <th>...</th>\n",
       "      <td>...</td>\n",
       "      <td>...</td>\n",
       "      <td>...</td>\n",
       "      <td>...</td>\n",
       "      <td>...</td>\n",
       "      <td>...</td>\n",
       "      <td>...</td>\n",
       "      <td>...</td>\n",
       "      <td>...</td>\n",
       "      <td>...</td>\n",
       "      <td>...</td>\n",
       "      <td>...</td>\n",
       "      <td>...</td>\n",
       "      <td>...</td>\n",
       "      <td>...</td>\n",
       "    </tr>\n",
       "    <tr>\n",
       "      <th>995</th>\n",
       "      <td>16</td>\n",
       "      <td>남</td>\n",
       "      <td>60</td>\n",
       "      <td>3</td>\n",
       "      <td>MP499</td>\n",
       "      <td>OF690</td>\n",
       "      <td>16137.72</td>\n",
       "      <td>275142.80</td>\n",
       "      <td>74</td>\n",
       "      <td>78</td>\n",
       "      <td>23</td>\n",
       "      <td>03</td>\n",
       "      <td>1194191.52</td>\n",
       "      <td>21461138.65</td>\n",
       "      <td>1.00</td>\n",
       "    </tr>\n",
       "    <tr>\n",
       "      <th>996</th>\n",
       "      <td>971</td>\n",
       "      <td>남</td>\n",
       "      <td>63</td>\n",
       "      <td>7</td>\n",
       "      <td>JR656</td>\n",
       "      <td>UQ028</td>\n",
       "      <td>330007.07</td>\n",
       "      <td>22952.79</td>\n",
       "      <td>40</td>\n",
       "      <td>44</td>\n",
       "      <td>19</td>\n",
       "      <td>22</td>\n",
       "      <td>13200282.61</td>\n",
       "      <td>1009922.80</td>\n",
       "      <td>0.00</td>\n",
       "    </tr>\n",
       "    <tr>\n",
       "      <th>997</th>\n",
       "      <td>540</td>\n",
       "      <td>여</td>\n",
       "      <td>48</td>\n",
       "      <td>5</td>\n",
       "      <td>RG011</td>\n",
       "      <td>YR431</td>\n",
       "      <td>486852.98</td>\n",
       "      <td>484727.15</td>\n",
       "      <td>31</td>\n",
       "      <td>74</td>\n",
       "      <td>01</td>\n",
       "      <td>17</td>\n",
       "      <td>15092442.52</td>\n",
       "      <td>35869809.02</td>\n",
       "      <td>1.00</td>\n",
       "    </tr>\n",
       "    <tr>\n",
       "      <th>998</th>\n",
       "      <td>165</td>\n",
       "      <td>여</td>\n",
       "      <td>52</td>\n",
       "      <td>6</td>\n",
       "      <td>VG245</td>\n",
       "      <td>GL131</td>\n",
       "      <td>300435.48</td>\n",
       "      <td>369698.38</td>\n",
       "      <td>90</td>\n",
       "      <td>34</td>\n",
       "      <td>18</td>\n",
       "      <td>01</td>\n",
       "      <td>27039193.64</td>\n",
       "      <td>12569744.91</td>\n",
       "      <td>0.00</td>\n",
       "    </tr>\n",
       "    <tr>\n",
       "      <th>999</th>\n",
       "      <td>403</td>\n",
       "      <td>여</td>\n",
       "      <td>55</td>\n",
       "      <td>0</td>\n",
       "      <td>TF690</td>\n",
       "      <td>LN431</td>\n",
       "      <td>150499.02</td>\n",
       "      <td>429602.91</td>\n",
       "      <td>12</td>\n",
       "      <td>26</td>\n",
       "      <td>16</td>\n",
       "      <td>15</td>\n",
       "      <td>1805988.28</td>\n",
       "      <td>11169675.55</td>\n",
       "      <td>1.00</td>\n",
       "    </tr>\n",
       "  </tbody>\n",
       "</table>\n",
       "<p>1000 rows × 15 columns</p>\n",
       "</div>"
      ],
      "text/plain": [
       "      id gender  age  region product_19 product_20  price_19  price_20  \\\n",
       "0    752      여   73       3      WL791      UJ673 358664.76 296794.36   \n",
       "1    792      남   66       6      VY658      NG697 184589.70 298987.79   \n",
       "2     95      여    3       3      SM832      YI430 475285.53 470930.05   \n",
       "3    611      남   12       7      MD500      II882 464317.40 367861.73   \n",
       "4    514      여   40       1      QK572      IU803 241857.46  78096.12   \n",
       "..   ...    ...  ...     ...        ...        ...       ...       ...   \n",
       "995   16      남   60       3      MP499      OF690  16137.72 275142.80   \n",
       "996  971      남   63       7      JR656      UQ028 330007.07  22952.79   \n",
       "997  540      여   48       5      RG011      YR431 486852.98 484727.15   \n",
       "998  165      여   52       6      VG245      GL131 300435.48 369698.38   \n",
       "999  403      여   55       0      TF690      LN431 150499.02 429602.91   \n",
       "\n",
       "     quantity_19  quantity_20 time_19 time_20   amount_19   amount_20  sales  \n",
       "0             77           48      24      21 27617186.42 14246129.11   0.00  \n",
       "1             42           52      17      09  7752767.34 15547364.94   1.00  \n",
       "2             58            8      02      21 27566561.01  3767440.37   0.00  \n",
       "3              6           89      24      16  2785904.43 32739694.04   1.00  \n",
       "4             29           36      21      13  7013866.27  2811460.15   0.00  \n",
       "..           ...          ...     ...     ...         ...         ...    ...  \n",
       "995           74           78      23      03  1194191.52 21461138.65   1.00  \n",
       "996           40           44      19      22 13200282.61  1009922.80   0.00  \n",
       "997           31           74      01      17 15092442.52 35869809.02   1.00  \n",
       "998           90           34      18      01 27039193.64 12569744.91   0.00  \n",
       "999           12           26      16      15  1805988.28 11169675.55   1.00  \n",
       "\n",
       "[1000 rows x 15 columns]"
      ]
     },
     "execution_count": 20,
     "metadata": {},
     "output_type": "execute_result"
    }
   ],
   "source": [
    "import string\n",
    "import warnings\n",
    "warnings.filterwarnings('ignore')\n",
    "\n",
    "arr = np.zeros((1000,15))\n",
    "columns = ['id','gender','age','region','product_19','product_20','price_19','price_20','quantity_19','quantity_20','time_19','time_20','amount_19','amount_20','sales']\n",
    "index = [np.arange(1000)]\n",
    "df = pd.DataFrame(arr,index,columns = columns)\n",
    "\n",
    "id_arr = np.arange(1,1001) ; np.random.shuffle(id_arr) ; df.id = id_arr\n",
    "gender_ar = np.array(['남','여']) ; df.gender = np.array(np.random.choice(gender_ar) for _ in range(1000))\n",
    "df.age = np.random.randint(80,size = 1000)\n",
    "df.region = np.random.randint(10,size = 1000)\n",
    "def code(a):\n",
    "    li = []\n",
    "    for _ in range(a):\n",
    "        result = \"\"\n",
    "        for _ in range(2):\n",
    "            result += random.choice(string.ascii_uppercase)\n",
    "        for _ in range(3):\n",
    "            result += random.choice(string.digits)\n",
    "        li.append(result)\n",
    "    return np.array(li)\n",
    "df.product_19 = code(1000)\n",
    "df.product_20 = code(1000)\n",
    "df.price_19 = np.random.rand(1000)*499000+1000\n",
    "df.price_20 = np.random.rand(1000)*499000+1000\n",
    "df.quantity_19 = np.random.randint(1,101,size=1000)\n",
    "df.quantity_20 = np.random.randint(1,101,size=1000)\n",
    "time_ar = []\n",
    "for _ in range(1,25):                   # df.time_19 = np.random.randint(1,25,size=1000).astype(str)       # 이 방식 안돼..\n",
    "    time_ar.append(f'{_}'.zfill(2))     # df.time_19 = df.time_19.str.zfill(2)\n",
    "np.array(time_ar)\n",
    "df.time_19 = np.array(np.random.choice(time_ar) for _ in range(1000))\n",
    "df.time_20 = np.array(np.random.choice(time_ar) for _ in range(1000))\n",
    "# df.time_19 = np.random.randint(1,25,size=1000)\n",
    "# df.time_20 = np.random.randint(1,25,size=1000)\n",
    "df.amount_19 = df.price_19 * df.quantity_19\n",
    "df.amount_20 = df.price_20 * df.quantity_20\n",
    "for _ in range(1000):\n",
    "    if df.amount_19[_] <= df.amount_20[_]:\n",
    "        df.sales[_] = 1\n",
    "    else:\n",
    "        df.sales[_] = 0\n",
    "#pd.Series(df.sales).astype(int)\n",
    "pd.options.display.float_format = '{:.2f}'.format\n",
    "df"
   ]
  },
  {
   "cell_type": "code",
   "execution_count": 27,
   "id": "fec1f060",
   "metadata": {},
   "outputs": [
    {
     "data": {
      "text/html": [
       "<div>\n",
       "<style scoped>\n",
       "    .dataframe tbody tr th:only-of-type {\n",
       "        vertical-align: middle;\n",
       "    }\n",
       "\n",
       "    .dataframe tbody tr th {\n",
       "        vertical-align: top;\n",
       "    }\n",
       "\n",
       "    .dataframe thead th {\n",
       "        text-align: right;\n",
       "    }\n",
       "</style>\n",
       "<table border=\"1\" class=\"dataframe\">\n",
       "  <thead>\n",
       "    <tr style=\"text-align: right;\">\n",
       "      <th></th>\n",
       "      <th>id</th>\n",
       "      <th>gender</th>\n",
       "      <th>age</th>\n",
       "      <th>product_19</th>\n",
       "      <th>product_20</th>\n",
       "      <th>price_19</th>\n",
       "      <th>price_20</th>\n",
       "      <th>quantity_19</th>\n",
       "      <th>quantity_20</th>\n",
       "      <th>time_19</th>\n",
       "      <th>time_20</th>\n",
       "      <th>amount_19</th>\n",
       "      <th>amount_20</th>\n",
       "      <th>sales</th>\n",
       "    </tr>\n",
       "  </thead>\n",
       "  <tbody>\n",
       "    <tr>\n",
       "      <th>1</th>\n",
       "      <td>1</td>\n",
       "      <td>M</td>\n",
       "      <td>40</td>\n",
       "      <td>220</td>\n",
       "      <td>150</td>\n",
       "      <td>30900</td>\n",
       "      <td>31800</td>\n",
       "      <td>81</td>\n",
       "      <td>71</td>\n",
       "      <td>14</td>\n",
       "      <td>5</td>\n",
       "      <td>2502900</td>\n",
       "      <td>2257800</td>\n",
       "      <td>0</td>\n",
       "    </tr>\n",
       "    <tr>\n",
       "      <th>2</th>\n",
       "      <td>2</td>\n",
       "      <td>F</td>\n",
       "      <td>29</td>\n",
       "      <td>171</td>\n",
       "      <td>123</td>\n",
       "      <td>38300</td>\n",
       "      <td>24600</td>\n",
       "      <td>18</td>\n",
       "      <td>83</td>\n",
       "      <td>19</td>\n",
       "      <td>1</td>\n",
       "      <td>689400</td>\n",
       "      <td>2041800</td>\n",
       "      <td>1</td>\n",
       "    </tr>\n",
       "    <tr>\n",
       "      <th>3</th>\n",
       "      <td>3</td>\n",
       "      <td>F</td>\n",
       "      <td>25</td>\n",
       "      <td>158</td>\n",
       "      <td>195</td>\n",
       "      <td>26600</td>\n",
       "      <td>40800</td>\n",
       "      <td>41</td>\n",
       "      <td>34</td>\n",
       "      <td>19</td>\n",
       "      <td>5</td>\n",
       "      <td>1090600</td>\n",
       "      <td>1387200</td>\n",
       "      <td>1</td>\n",
       "    </tr>\n",
       "    <tr>\n",
       "      <th>4</th>\n",
       "      <td>4</td>\n",
       "      <td>M</td>\n",
       "      <td>19</td>\n",
       "      <td>126</td>\n",
       "      <td>186</td>\n",
       "      <td>46600</td>\n",
       "      <td>7400</td>\n",
       "      <td>61</td>\n",
       "      <td>52</td>\n",
       "      <td>16</td>\n",
       "      <td>19</td>\n",
       "      <td>2842600</td>\n",
       "      <td>384800</td>\n",
       "      <td>0</td>\n",
       "    </tr>\n",
       "    <tr>\n",
       "      <th>5</th>\n",
       "      <td>5</td>\n",
       "      <td>F</td>\n",
       "      <td>68</td>\n",
       "      <td>147</td>\n",
       "      <td>187</td>\n",
       "      <td>3400</td>\n",
       "      <td>10100</td>\n",
       "      <td>82</td>\n",
       "      <td>53</td>\n",
       "      <td>15</td>\n",
       "      <td>19</td>\n",
       "      <td>278800</td>\n",
       "      <td>535300</td>\n",
       "      <td>1</td>\n",
       "    </tr>\n",
       "    <tr>\n",
       "      <th>...</th>\n",
       "      <td>...</td>\n",
       "      <td>...</td>\n",
       "      <td>...</td>\n",
       "      <td>...</td>\n",
       "      <td>...</td>\n",
       "      <td>...</td>\n",
       "      <td>...</td>\n",
       "      <td>...</td>\n",
       "      <td>...</td>\n",
       "      <td>...</td>\n",
       "      <td>...</td>\n",
       "      <td>...</td>\n",
       "      <td>...</td>\n",
       "      <td>...</td>\n",
       "    </tr>\n",
       "    <tr>\n",
       "      <th>996</th>\n",
       "      <td>996</td>\n",
       "      <td>M</td>\n",
       "      <td>24</td>\n",
       "      <td>159</td>\n",
       "      <td>192</td>\n",
       "      <td>2500</td>\n",
       "      <td>8100</td>\n",
       "      <td>18</td>\n",
       "      <td>44</td>\n",
       "      <td>20</td>\n",
       "      <td>13</td>\n",
       "      <td>45000</td>\n",
       "      <td>356400</td>\n",
       "      <td>1</td>\n",
       "    </tr>\n",
       "    <tr>\n",
       "      <th>997</th>\n",
       "      <td>997</td>\n",
       "      <td>M</td>\n",
       "      <td>53</td>\n",
       "      <td>218</td>\n",
       "      <td>203</td>\n",
       "      <td>48200</td>\n",
       "      <td>34300</td>\n",
       "      <td>97</td>\n",
       "      <td>96</td>\n",
       "      <td>15</td>\n",
       "      <td>16</td>\n",
       "      <td>4675400</td>\n",
       "      <td>3292800</td>\n",
       "      <td>0</td>\n",
       "    </tr>\n",
       "    <tr>\n",
       "      <th>998</th>\n",
       "      <td>998</td>\n",
       "      <td>M</td>\n",
       "      <td>24</td>\n",
       "      <td>114</td>\n",
       "      <td>189</td>\n",
       "      <td>5900</td>\n",
       "      <td>18600</td>\n",
       "      <td>97</td>\n",
       "      <td>22</td>\n",
       "      <td>14</td>\n",
       "      <td>10</td>\n",
       "      <td>572300</td>\n",
       "      <td>409200</td>\n",
       "      <td>0</td>\n",
       "    </tr>\n",
       "    <tr>\n",
       "      <th>999</th>\n",
       "      <td>999</td>\n",
       "      <td>F</td>\n",
       "      <td>73</td>\n",
       "      <td>175</td>\n",
       "      <td>167</td>\n",
       "      <td>4000</td>\n",
       "      <td>11500</td>\n",
       "      <td>12</td>\n",
       "      <td>14</td>\n",
       "      <td>1</td>\n",
       "      <td>11</td>\n",
       "      <td>48000</td>\n",
       "      <td>161000</td>\n",
       "      <td>1</td>\n",
       "    </tr>\n",
       "    <tr>\n",
       "      <th>1000</th>\n",
       "      <td>1000</td>\n",
       "      <td>M</td>\n",
       "      <td>42</td>\n",
       "      <td>148</td>\n",
       "      <td>117</td>\n",
       "      <td>7800</td>\n",
       "      <td>37900</td>\n",
       "      <td>43</td>\n",
       "      <td>72</td>\n",
       "      <td>21</td>\n",
       "      <td>16</td>\n",
       "      <td>335400</td>\n",
       "      <td>2728800</td>\n",
       "      <td>1</td>\n",
       "    </tr>\n",
       "  </tbody>\n",
       "</table>\n",
       "<p>1000 rows × 14 columns</p>\n",
       "</div>"
      ],
      "text/plain": [
       "        id gender  age  product_19  product_20  price_19  price_20  \\\n",
       "1        1      M   40         220         150     30900     31800   \n",
       "2        2      F   29         171         123     38300     24600   \n",
       "3        3      F   25         158         195     26600     40800   \n",
       "4        4      M   19         126         186     46600      7400   \n",
       "5        5      F   68         147         187      3400     10100   \n",
       "...    ...    ...  ...         ...         ...       ...       ...   \n",
       "996    996      M   24         159         192      2500      8100   \n",
       "997    997      M   53         218         203     48200     34300   \n",
       "998    998      M   24         114         189      5900     18600   \n",
       "999    999      F   73         175         167      4000     11500   \n",
       "1000  1000      M   42         148         117      7800     37900   \n",
       "\n",
       "      quantity_19  quantity_20  time_19  time_20  amount_19  amount_20  sales  \n",
       "1              81           71       14        5    2502900    2257800      0  \n",
       "2              18           83       19        1     689400    2041800      1  \n",
       "3              41           34       19        5    1090600    1387200      1  \n",
       "4              61           52       16       19    2842600     384800      0  \n",
       "5              82           53       15       19     278800     535300      1  \n",
       "...           ...          ...      ...      ...        ...        ...    ...  \n",
       "996            18           44       20       13      45000     356400      1  \n",
       "997            97           96       15       16    4675400    3292800      0  \n",
       "998            97           22       14       10     572300     409200      0  \n",
       "999            12           14        1       11      48000     161000      1  \n",
       "1000           43           72       21       16     335400    2728800      1  \n",
       "\n",
       "[1000 rows x 14 columns]"
      ]
     },
     "execution_count": 27,
     "metadata": {},
     "output_type": "execute_result"
    }
   ],
   "source": [
    "import warnings\n",
    "warnings.filterwarnings('ignore')\n",
    "import numpy as np\n",
    "import pandas as pd\n",
    "\n",
    "customer = 1000\n",
    "\n",
    "array = np.zeros((customer,14),dtype = int)\n",
    "df = pd.DataFrame(array,(np.arange(1,customer+1)),columns = ['id','gender','age','product_19','product_20','price_19','price_20','quantity_19','quantity_20','time_19','time_20','amount_19','amount_20','sales'])\n",
    "np.random.seed(0)\n",
    "df.id = np.arange(1,customer+1)\n",
    "df.gender = np.random.choice(['M','F'],customer)\n",
    "df.age = np.random.randint(1,81,size=customer)\n",
    "df.product_19 = np.random.randint(111,222,size = customer)\n",
    "df.product_20 = np.random.randint(111,222,size = customer)\n",
    "\n",
    "pricearray= np.random.randint(10,500,size = 1000)*100\n",
    "\n",
    "for i in range(1,customer+1):\n",
    "    df.price_19[i] = pricearray[df.product_19[i]]\n",
    "    df.price_20[i] = pricearray[df.product_20[i]]\n",
    "\n",
    "df.quantity_19 = np.random.randint(1,101,size = customer)\n",
    "df.quantity_20 = np.random.randint(1,101,size = customer)\n",
    "\n",
    "df.time_19 = np.random.randint(1,25,size = customer)\n",
    "df.time_20 = np.random.randint(1,25,size = customer)\n",
    "\n",
    "df.amount_19 = df.price_19*df.quantity_19\n",
    "df.amount_20 = df.price_20*df.quantity_20\n",
    "\n",
    "for i in range(1,customer+1):\n",
    "    if df.amount_20[i]>df.amount_19[i]:\n",
    "        df.sales[i] = 1\n",
    "    else:\n",
    "        df.sales[i] = 0\n",
    "\n",
    "df"
   ]
  },
  {
   "cell_type": "code",
   "execution_count": 29,
   "id": "1a359d80",
   "metadata": {},
   "outputs": [
    {
     "data": {
      "text/html": [
       "<div>\n",
       "<style scoped>\n",
       "    .dataframe tbody tr th:only-of-type {\n",
       "        vertical-align: middle;\n",
       "    }\n",
       "\n",
       "    .dataframe tbody tr th {\n",
       "        vertical-align: top;\n",
       "    }\n",
       "\n",
       "    .dataframe thead th {\n",
       "        text-align: right;\n",
       "    }\n",
       "</style>\n",
       "<table border=\"1\" class=\"dataframe\">\n",
       "  <thead>\n",
       "    <tr style=\"text-align: right;\">\n",
       "      <th></th>\n",
       "      <th>id</th>\n",
       "      <th>gender</th>\n",
       "      <th>age</th>\n",
       "      <th>product_19</th>\n",
       "      <th>product_20</th>\n",
       "      <th>price_19</th>\n",
       "      <th>price_20</th>\n",
       "      <th>quantity_19</th>\n",
       "      <th>quantity_20</th>\n",
       "      <th>time_19</th>\n",
       "      <th>time_20</th>\n",
       "      <th>amount_19</th>\n",
       "      <th>amount_20</th>\n",
       "      <th>sales</th>\n",
       "    </tr>\n",
       "  </thead>\n",
       "  <tbody>\n",
       "    <tr>\n",
       "      <th>1</th>\n",
       "      <td>1</td>\n",
       "      <td>M</td>\n",
       "      <td>40</td>\n",
       "      <td>220</td>\n",
       "      <td>150</td>\n",
       "      <td>30900</td>\n",
       "      <td>31800</td>\n",
       "      <td>81</td>\n",
       "      <td>71</td>\n",
       "      <td>14</td>\n",
       "      <td>5</td>\n",
       "      <td>2502900</td>\n",
       "      <td>2257800</td>\n",
       "      <td>0</td>\n",
       "    </tr>\n",
       "    <tr>\n",
       "      <th>4</th>\n",
       "      <td>4</td>\n",
       "      <td>M</td>\n",
       "      <td>19</td>\n",
       "      <td>126</td>\n",
       "      <td>186</td>\n",
       "      <td>46600</td>\n",
       "      <td>7400</td>\n",
       "      <td>61</td>\n",
       "      <td>52</td>\n",
       "      <td>16</td>\n",
       "      <td>19</td>\n",
       "      <td>2842600</td>\n",
       "      <td>384800</td>\n",
       "      <td>0</td>\n",
       "    </tr>\n",
       "    <tr>\n",
       "      <th>8</th>\n",
       "      <td>8</td>\n",
       "      <td>F</td>\n",
       "      <td>55</td>\n",
       "      <td>212</td>\n",
       "      <td>168</td>\n",
       "      <td>32800</td>\n",
       "      <td>18500</td>\n",
       "      <td>77</td>\n",
       "      <td>55</td>\n",
       "      <td>20</td>\n",
       "      <td>23</td>\n",
       "      <td>2525600</td>\n",
       "      <td>1017500</td>\n",
       "      <td>0</td>\n",
       "    </tr>\n",
       "    <tr>\n",
       "      <th>9</th>\n",
       "      <td>9</td>\n",
       "      <td>F</td>\n",
       "      <td>1</td>\n",
       "      <td>153</td>\n",
       "      <td>132</td>\n",
       "      <td>47900</td>\n",
       "      <td>43600</td>\n",
       "      <td>71</td>\n",
       "      <td>11</td>\n",
       "      <td>19</td>\n",
       "      <td>3</td>\n",
       "      <td>3400900</td>\n",
       "      <td>479600</td>\n",
       "      <td>0</td>\n",
       "    </tr>\n",
       "    <tr>\n",
       "      <th>11</th>\n",
       "      <td>11</td>\n",
       "      <td>F</td>\n",
       "      <td>68</td>\n",
       "      <td>194</td>\n",
       "      <td>123</td>\n",
       "      <td>48900</td>\n",
       "      <td>24600</td>\n",
       "      <td>34</td>\n",
       "      <td>42</td>\n",
       "      <td>8</td>\n",
       "      <td>2</td>\n",
       "      <td>1662600</td>\n",
       "      <td>1033200</td>\n",
       "      <td>0</td>\n",
       "    </tr>\n",
       "    <tr>\n",
       "      <th>...</th>\n",
       "      <td>...</td>\n",
       "      <td>...</td>\n",
       "      <td>...</td>\n",
       "      <td>...</td>\n",
       "      <td>...</td>\n",
       "      <td>...</td>\n",
       "      <td>...</td>\n",
       "      <td>...</td>\n",
       "      <td>...</td>\n",
       "      <td>...</td>\n",
       "      <td>...</td>\n",
       "      <td>...</td>\n",
       "      <td>...</td>\n",
       "      <td>...</td>\n",
       "    </tr>\n",
       "    <tr>\n",
       "      <th>992</th>\n",
       "      <td>992</td>\n",
       "      <td>M</td>\n",
       "      <td>22</td>\n",
       "      <td>138</td>\n",
       "      <td>157</td>\n",
       "      <td>9200</td>\n",
       "      <td>21600</td>\n",
       "      <td>45</td>\n",
       "      <td>11</td>\n",
       "      <td>10</td>\n",
       "      <td>16</td>\n",
       "      <td>414000</td>\n",
       "      <td>237600</td>\n",
       "      <td>0</td>\n",
       "    </tr>\n",
       "    <tr>\n",
       "      <th>993</th>\n",
       "      <td>993</td>\n",
       "      <td>M</td>\n",
       "      <td>62</td>\n",
       "      <td>167</td>\n",
       "      <td>116</td>\n",
       "      <td>11500</td>\n",
       "      <td>14800</td>\n",
       "      <td>49</td>\n",
       "      <td>7</td>\n",
       "      <td>24</td>\n",
       "      <td>4</td>\n",
       "      <td>563500</td>\n",
       "      <td>103600</td>\n",
       "      <td>0</td>\n",
       "    </tr>\n",
       "    <tr>\n",
       "      <th>995</th>\n",
       "      <td>995</td>\n",
       "      <td>M</td>\n",
       "      <td>42</td>\n",
       "      <td>142</td>\n",
       "      <td>119</td>\n",
       "      <td>18700</td>\n",
       "      <td>4400</td>\n",
       "      <td>60</td>\n",
       "      <td>32</td>\n",
       "      <td>23</td>\n",
       "      <td>13</td>\n",
       "      <td>1122000</td>\n",
       "      <td>140800</td>\n",
       "      <td>0</td>\n",
       "    </tr>\n",
       "    <tr>\n",
       "      <th>997</th>\n",
       "      <td>997</td>\n",
       "      <td>M</td>\n",
       "      <td>53</td>\n",
       "      <td>218</td>\n",
       "      <td>203</td>\n",
       "      <td>48200</td>\n",
       "      <td>34300</td>\n",
       "      <td>97</td>\n",
       "      <td>96</td>\n",
       "      <td>15</td>\n",
       "      <td>16</td>\n",
       "      <td>4675400</td>\n",
       "      <td>3292800</td>\n",
       "      <td>0</td>\n",
       "    </tr>\n",
       "    <tr>\n",
       "      <th>998</th>\n",
       "      <td>998</td>\n",
       "      <td>M</td>\n",
       "      <td>24</td>\n",
       "      <td>114</td>\n",
       "      <td>189</td>\n",
       "      <td>5900</td>\n",
       "      <td>18600</td>\n",
       "      <td>97</td>\n",
       "      <td>22</td>\n",
       "      <td>14</td>\n",
       "      <td>10</td>\n",
       "      <td>572300</td>\n",
       "      <td>409200</td>\n",
       "      <td>0</td>\n",
       "    </tr>\n",
       "  </tbody>\n",
       "</table>\n",
       "<p>512 rows × 14 columns</p>\n",
       "</div>"
      ],
      "text/plain": [
       "      id gender  age  product_19  product_20  price_19  price_20  quantity_19  \\\n",
       "1      1      M   40         220         150     30900     31800           81   \n",
       "4      4      M   19         126         186     46600      7400           61   \n",
       "8      8      F   55         212         168     32800     18500           77   \n",
       "9      9      F    1         153         132     47900     43600           71   \n",
       "11    11      F   68         194         123     48900     24600           34   \n",
       "..   ...    ...  ...         ...         ...       ...       ...          ...   \n",
       "992  992      M   22         138         157      9200     21600           45   \n",
       "993  993      M   62         167         116     11500     14800           49   \n",
       "995  995      M   42         142         119     18700      4400           60   \n",
       "997  997      M   53         218         203     48200     34300           97   \n",
       "998  998      M   24         114         189      5900     18600           97   \n",
       "\n",
       "     quantity_20  time_19  time_20  amount_19  amount_20  sales  \n",
       "1             71       14        5    2502900    2257800      0  \n",
       "4             52       16       19    2842600     384800      0  \n",
       "8             55       20       23    2525600    1017500      0  \n",
       "9             11       19        3    3400900     479600      0  \n",
       "11            42        8        2    1662600    1033200      0  \n",
       "..           ...      ...      ...        ...        ...    ...  \n",
       "992           11       10       16     414000     237600      0  \n",
       "993            7       24        4     563500     103600      0  \n",
       "995           32       23       13    1122000     140800      0  \n",
       "997           96       15       16    4675400    3292800      0  \n",
       "998           22       14       10     572300     409200      0  \n",
       "\n",
       "[512 rows x 14 columns]"
      ]
     },
     "execution_count": 29,
     "metadata": {},
     "output_type": "execute_result"
    }
   ],
   "source": [
    "df[df.sales==0]"
   ]
  }
 ],
 "metadata": {
  "kernelspec": {
   "display_name": "Python 3 (ipykernel)",
   "language": "python",
   "name": "python3"
  },
  "language_info": {
   "codemirror_mode": {
    "name": "ipython",
    "version": 3
   },
   "file_extension": ".py",
   "mimetype": "text/x-python",
   "name": "python",
   "nbconvert_exporter": "python",
   "pygments_lexer": "ipython3",
   "version": "3.8.12"
  }
 },
 "nbformat": 4,
 "nbformat_minor": 5
}
