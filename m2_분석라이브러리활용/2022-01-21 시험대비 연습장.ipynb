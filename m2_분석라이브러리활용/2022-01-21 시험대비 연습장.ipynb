{
 "cells": [
  {
   "cell_type": "markdown",
   "id": "5b1344d1",
   "metadata": {},
   "source": [
    "### numpy - basic \n",
    "- 배열 랜덤생성한 후\n",
    " - 자료형 차원구하기\n",
    " - 차원별로 배열 생성하기\n",
    " - 불린인덱싱으로 공배수 조건들에 맞는 것을 출력\n",
    " - 차원 변환하기\n",
    " - 인덱싱\n",
    " - zeros-like 등 \n",
    "### numpy - 응용\n",
    " - 랜덤배열에서 차원바꾸기 - (0,1,2)(3차원,2차원,1차원) 고정에서 (1,2,0) 등으로 바꾸는거 \n",
    "                 \n",
    "\n",
    "\n",
    "### pandas - 데이터처리\n",
    "                 \n",
    "### 그 외\n",
    "- nan값 개수구하기\n",
    "- 사용자함수 범주화하기\n",
    "- 칼럼-칼럼 연결해서 새로운 칼럼을 만들고 칼럼의 이름 지정하기 join\n",
    "- agg transform apply filter\n",
    "- 단위기준을 변경해서 다른 칼럼으로 변환하기\n",
    "- 년월일 분리하고 다시 합치고 인덱스로 셋팅하고\n",
    "- 그룹화해서 다양하게 연산하기\n",
    "- 데이터 전처리하기\n",
    "- 시각화 - 탐색하는 문제(dataset 주어지고 시각화해서 탐색하기)"
   ]
  },
  {
   "cell_type": "code",
   "execution_count": 1,
   "id": "4c038d8d",
   "metadata": {},
   "outputs": [],
   "source": [
    "import numpy as np\n",
    "import pandas as pd\n",
    "import seaborn as sns"
   ]
  },
  {
   "cell_type": "code",
   "execution_count": 2,
   "id": "f48225ff",
   "metadata": {},
   "outputs": [],
   "source": [
    "# 배열을 랜덤으로 생성하기"
   ]
  },
  {
   "cell_type": "code",
   "execution_count": 3,
   "id": "0f058026",
   "metadata": {},
   "outputs": [
    {
     "data": {
      "text/plain": [
       "array([0, 1, 2, 3, 4, 5, 6, 7, 8, 9])"
      ]
     },
     "execution_count": 3,
     "metadata": {},
     "output_type": "execute_result"
    }
   ],
   "source": [
    "ar = np.arange(10)\n",
    "ar"
   ]
  },
  {
   "cell_type": "code",
   "execution_count": 4,
   "id": "f1fec50c",
   "metadata": {},
   "outputs": [
    {
     "name": "stdout",
     "output_type": "stream",
     "text": [
      "1\n"
     ]
    }
   ],
   "source": [
    "# 자료형 차원구하기\n",
    "print(ar.ndim)"
   ]
  },
  {
   "cell_type": "code",
   "execution_count": 5,
   "id": "3ab446a7",
   "metadata": {},
   "outputs": [
    {
     "name": "stdout",
     "output_type": "stream",
     "text": [
      "[1 2 3] 1\n",
      "[[1 2 3]\n",
      " [4 5 6]] 2\n",
      "[[[1 2 3]\n",
      "  [4 5 6]]\n",
      "\n",
      " [[1 2 3]\n",
      "  [4 5 6]]\n",
      "\n",
      " [[1 2 3]\n",
      "  [4 5 6]]] 3\n"
     ]
    }
   ],
   "source": [
    "# 차원별로 배열 생성하기\n",
    "# 1차원\n",
    "data1 = np.array([1,2,3])\n",
    "print(data1,data1.ndim)\n",
    "# 2차원\n",
    "data2 = np.array([[1,2,3],[4,5,6]])\n",
    "print(data2,data2.ndim)\n",
    "# 3차원\n",
    "data3 = np.array([[[1,2,3],[4,5,6]],\n",
    "                [[1,2,3],[4,5,6]],\n",
    "                [[1,2,3],[4,5,6]]])\n",
    "print(data3,data3.ndim)"
   ]
  },
  {
   "cell_type": "code",
   "execution_count": 6,
   "id": "3cd5a765",
   "metadata": {},
   "outputs": [],
   "source": [
    "# 불린인덱싱으로 조건에 맞는 것을 출력하기"
   ]
  },
  {
   "cell_type": "code",
   "execution_count": 7,
   "id": "11acac61",
   "metadata": {},
   "outputs": [],
   "source": [
    "# 예상문제. 1~1000까지의 숫자배열을 생성하고 3과5의 공배수들을 불린인덱싱으로 출력하세요."
   ]
  },
  {
   "cell_type": "code",
   "execution_count": 8,
   "id": "4ac22808",
   "metadata": {},
   "outputs": [
    {
     "name": "stdout",
     "output_type": "stream",
     "text": [
      "[ 15  30  45  60  75  90 105 120 135 150 165 180 195 210 225 240 255 270\n",
      " 285 300 315 330 345 360 375 390 405 420 435 450 465 480 495 510 525 540\n",
      " 555 570 585 600 615 630 645 660 675 690 705 720 735 750 765 780 795 810\n",
      " 825 840 855 870 885 900 915 930 945 960 975 990]\n",
      "153045607590105120135150165180195210225240255270285300315330345360375390405420435450465480495510525540555570585600615630645660675690705720735750765780795810825840855870885900915930945960975990"
     ]
    }
   ],
   "source": [
    "ar = np.arange(1,1001)\n",
    "ar1 = ar[ar%15==0]\n",
    "print(ar1)\n",
    "\n",
    "for i in range(1,1001):\n",
    "    if i % 15 == 0:\n",
    "        print(i,end=\"\")"
   ]
  },
  {
   "cell_type": "code",
   "execution_count": 9,
   "id": "bda33765",
   "metadata": {},
   "outputs": [
    {
     "name": "stdout",
     "output_type": "stream",
     "text": [
      "[[[0 1 2]\n",
      "  [3 4 5]]] (1, 2, 3) \n",
      "\n"
     ]
    }
   ],
   "source": [
    "# 차원 변환하기\n",
    "# 아래 주어진 배열에서 3차원과 2차원을 바꾸세요.\n",
    "a = np.arange(6).reshape(1,2,3)\n",
    "print(a,a.shape,'\\n')"
   ]
  },
  {
   "cell_type": "code",
   "execution_count": 10,
   "id": "406e539f",
   "metadata": {},
   "outputs": [
    {
     "name": "stdout",
     "output_type": "stream",
     "text": [
      "[[[0 1 2]]\n",
      "\n",
      " [[3 4 5]]] (2, 1, 3)\n"
     ]
    }
   ],
   "source": [
    "a1 = np.transpose(a,(1,0,2))\n",
    "print(a1,a1.shape)"
   ]
  },
  {
   "cell_type": "code",
   "execution_count": 11,
   "id": "e4f03d64",
   "metadata": {},
   "outputs": [
    {
     "data": {
      "text/plain": [
       "[0, 1, 2, 3, 4, 5, 6, 7, 8, 9]"
      ]
     },
     "execution_count": 11,
     "metadata": {},
     "output_type": "execute_result"
    }
   ],
   "source": [
    "# 인덱싱을 이용하여 아래 배열을 내림차순으로 정렬하세요.\n",
    "[0,1,2,3,4,5,6,7,8,9]"
   ]
  },
  {
   "cell_type": "code",
   "execution_count": 12,
   "id": "4df36e25",
   "metadata": {},
   "outputs": [
    {
     "data": {
      "text/plain": [
       "array([9, 8, 7, 6, 5, 4, 3, 2, 1, 0])"
      ]
     },
     "execution_count": 12,
     "metadata": {},
     "output_type": "execute_result"
    }
   ],
   "source": [
    "a = np.array([0,1,2,3,4,5,6,7,8,9])\n",
    "np.sort(a)[::-1]"
   ]
  },
  {
   "cell_type": "code",
   "execution_count": 13,
   "id": "cf8f785c",
   "metadata": {},
   "outputs": [],
   "source": [
    "# zeros_like , ones_like, full_like 를 사용하세요."
   ]
  },
  {
   "cell_type": "code",
   "execution_count": 14,
   "id": "6ceb3e51",
   "metadata": {},
   "outputs": [],
   "source": [
    "# NAN 값의 갯수 구하기"
   ]
  },
  {
   "cell_type": "code",
   "execution_count": null,
   "id": "59c92945",
   "metadata": {},
   "outputs": [],
   "source": [
    "def findn(a):\n",
    "    return a.isnull()\n",
    "def sumnan(a):\n",
    "    return a.isnull().sum()\n",
    "def sumnanall(a):\n",
    "    return a.isnull().sum().sum()\n",
    "\n",
    "df2 = df.copy()\n",
    "display(df2.pipe(findn).tail(5))\n",
    "print(df2.pipe(sumnan),'\\n')\n",
    "print(df2.pipe(sumnanall))"
   ]
  },
  {
   "cell_type": "code",
   "execution_count": 17,
   "id": "9a2dcd85",
   "metadata": {},
   "outputs": [
    {
     "name": "stdout",
     "output_type": "stream",
     "text": [
      "0\n"
     ]
    },
    {
     "data": {
      "text/plain": [
       "0"
      ]
     },
     "execution_count": 17,
     "metadata": {},
     "output_type": "execute_result"
    }
   ],
   "source": [
    "df1 = pd.read_csv('C:\\cakd5\\workspace\\m2_분석라이브러리활용\\pandas\\dataset/auto-mpg.csv')\n",
    "print(df1.horsepower.isnull().sum())\n",
    "df1.dropna(subset=['horsepower'],axis=0,inplace=True)\n",
    "df1.horsepower.isnull().sum()"
   ]
  },
  {
   "cell_type": "code",
   "execution_count": null,
   "id": "133e222f",
   "metadata": {},
   "outputs": [],
   "source": [
    "# 사용자함수 범주화하기"
   ]
  },
  {
   "cell_type": "code",
   "execution_count": null,
   "id": "c36d8b49",
   "metadata": {},
   "outputs": [],
   "source": [
    "# age카테고리를 범주화해서 출력하세요."
   ]
  },
  {
   "cell_type": "code",
   "execution_count": 20,
   "id": "c8234042",
   "metadata": {},
   "outputs": [
    {
     "data": {
      "text/html": [
       "<div>\n",
       "<style scoped>\n",
       "    .dataframe tbody tr th:only-of-type {\n",
       "        vertical-align: middle;\n",
       "    }\n",
       "\n",
       "    .dataframe tbody tr th {\n",
       "        vertical-align: top;\n",
       "    }\n",
       "\n",
       "    .dataframe thead th {\n",
       "        text-align: right;\n",
       "    }\n",
       "</style>\n",
       "<table border=\"1\" class=\"dataframe\">\n",
       "  <thead>\n",
       "    <tr style=\"text-align: right;\">\n",
       "      <th></th>\n",
       "      <th>survived</th>\n",
       "      <th>pclass</th>\n",
       "      <th>sex</th>\n",
       "      <th>age</th>\n",
       "      <th>sibsp</th>\n",
       "      <th>parch</th>\n",
       "      <th>fare</th>\n",
       "      <th>embarked</th>\n",
       "      <th>class</th>\n",
       "      <th>who</th>\n",
       "      <th>adult_male</th>\n",
       "      <th>deck</th>\n",
       "      <th>embark_town</th>\n",
       "      <th>alive</th>\n",
       "      <th>alone</th>\n",
       "    </tr>\n",
       "  </thead>\n",
       "  <tbody>\n",
       "    <tr>\n",
       "      <th>0</th>\n",
       "      <td>0</td>\n",
       "      <td>3</td>\n",
       "      <td>male</td>\n",
       "      <td>22.0</td>\n",
       "      <td>1</td>\n",
       "      <td>0</td>\n",
       "      <td>7.2500</td>\n",
       "      <td>S</td>\n",
       "      <td>Third</td>\n",
       "      <td>man</td>\n",
       "      <td>True</td>\n",
       "      <td>NaN</td>\n",
       "      <td>Southampton</td>\n",
       "      <td>no</td>\n",
       "      <td>False</td>\n",
       "    </tr>\n",
       "    <tr>\n",
       "      <th>1</th>\n",
       "      <td>1</td>\n",
       "      <td>1</td>\n",
       "      <td>female</td>\n",
       "      <td>38.0</td>\n",
       "      <td>1</td>\n",
       "      <td>0</td>\n",
       "      <td>71.2833</td>\n",
       "      <td>C</td>\n",
       "      <td>First</td>\n",
       "      <td>woman</td>\n",
       "      <td>False</td>\n",
       "      <td>C</td>\n",
       "      <td>Cherbourg</td>\n",
       "      <td>yes</td>\n",
       "      <td>False</td>\n",
       "    </tr>\n",
       "    <tr>\n",
       "      <th>2</th>\n",
       "      <td>1</td>\n",
       "      <td>3</td>\n",
       "      <td>female</td>\n",
       "      <td>26.0</td>\n",
       "      <td>0</td>\n",
       "      <td>0</td>\n",
       "      <td>7.9250</td>\n",
       "      <td>S</td>\n",
       "      <td>Third</td>\n",
       "      <td>woman</td>\n",
       "      <td>False</td>\n",
       "      <td>NaN</td>\n",
       "      <td>Southampton</td>\n",
       "      <td>yes</td>\n",
       "      <td>True</td>\n",
       "    </tr>\n",
       "    <tr>\n",
       "      <th>3</th>\n",
       "      <td>1</td>\n",
       "      <td>1</td>\n",
       "      <td>female</td>\n",
       "      <td>35.0</td>\n",
       "      <td>1</td>\n",
       "      <td>0</td>\n",
       "      <td>53.1000</td>\n",
       "      <td>S</td>\n",
       "      <td>First</td>\n",
       "      <td>woman</td>\n",
       "      <td>False</td>\n",
       "      <td>C</td>\n",
       "      <td>Southampton</td>\n",
       "      <td>yes</td>\n",
       "      <td>False</td>\n",
       "    </tr>\n",
       "    <tr>\n",
       "      <th>4</th>\n",
       "      <td>0</td>\n",
       "      <td>3</td>\n",
       "      <td>male</td>\n",
       "      <td>35.0</td>\n",
       "      <td>0</td>\n",
       "      <td>0</td>\n",
       "      <td>8.0500</td>\n",
       "      <td>S</td>\n",
       "      <td>Third</td>\n",
       "      <td>man</td>\n",
       "      <td>True</td>\n",
       "      <td>NaN</td>\n",
       "      <td>Southampton</td>\n",
       "      <td>no</td>\n",
       "      <td>True</td>\n",
       "    </tr>\n",
       "  </tbody>\n",
       "</table>\n",
       "</div>"
      ],
      "text/plain": [
       "   survived  pclass     sex   age  sibsp  parch     fare embarked  class  \\\n",
       "0         0       3    male  22.0      1      0   7.2500        S  Third   \n",
       "1         1       1  female  38.0      1      0  71.2833        C  First   \n",
       "2         1       3  female  26.0      0      0   7.9250        S  Third   \n",
       "3         1       1  female  35.0      1      0  53.1000        S  First   \n",
       "4         0       3    male  35.0      0      0   8.0500        S  Third   \n",
       "\n",
       "     who  adult_male deck  embark_town alive  alone  \n",
       "0    man        True  NaN  Southampton    no  False  \n",
       "1  woman       False    C    Cherbourg   yes  False  \n",
       "2  woman       False  NaN  Southampton   yes   True  \n",
       "3  woman       False    C  Southampton   yes  False  \n",
       "4    man        True  NaN  Southampton    no   True  "
      ]
     },
     "execution_count": 20,
     "metadata": {},
     "output_type": "execute_result"
    }
   ],
   "source": [
    "t1=sns.load_dataset('titanic')\n",
    "t1.head()"
   ]
  },
  {
   "cell_type": "code",
   "execution_count": 21,
   "id": "41761562",
   "metadata": {},
   "outputs": [
    {
     "data": {
      "text/html": [
       "<div>\n",
       "<style scoped>\n",
       "    .dataframe tbody tr th:only-of-type {\n",
       "        vertical-align: middle;\n",
       "    }\n",
       "\n",
       "    .dataframe tbody tr th {\n",
       "        vertical-align: top;\n",
       "    }\n",
       "\n",
       "    .dataframe thead th {\n",
       "        text-align: right;\n",
       "    }\n",
       "</style>\n",
       "<table border=\"1\" class=\"dataframe\">\n",
       "  <thead>\n",
       "    <tr style=\"text-align: right;\">\n",
       "      <th></th>\n",
       "      <th>age</th>\n",
       "      <th>age_cat</th>\n",
       "    </tr>\n",
       "  </thead>\n",
       "  <tbody>\n",
       "    <tr>\n",
       "      <th>0</th>\n",
       "      <td>22.0</td>\n",
       "      <td>Young Adult</td>\n",
       "    </tr>\n",
       "    <tr>\n",
       "      <th>1</th>\n",
       "      <td>38.0</td>\n",
       "      <td>Adult</td>\n",
       "    </tr>\n",
       "    <tr>\n",
       "      <th>2</th>\n",
       "      <td>26.0</td>\n",
       "      <td>Young Adult</td>\n",
       "    </tr>\n",
       "    <tr>\n",
       "      <th>3</th>\n",
       "      <td>35.0</td>\n",
       "      <td>Young Adult</td>\n",
       "    </tr>\n",
       "    <tr>\n",
       "      <th>4</th>\n",
       "      <td>35.0</td>\n",
       "      <td>Young Adult</td>\n",
       "    </tr>\n",
       "  </tbody>\n",
       "</table>\n",
       "</div>"
      ],
      "text/plain": [
       "    age      age_cat\n",
       "0  22.0  Young Adult\n",
       "1  38.0        Adult\n",
       "2  26.0  Young Adult\n",
       "3  35.0  Young Adult\n",
       "4  35.0  Young Adult"
      ]
     },
     "execution_count": 21,
     "metadata": {},
     "output_type": "execute_result"
    }
   ],
   "source": [
    "def get_category(age):\n",
    "    cat=''\n",
    "    if age <= 5: cat = 'Baby'\n",
    "    elif age <= 12: cat = 'Child'\n",
    "    elif age <= 19: cat = 'Teenager'\n",
    "    elif age <= 35: cat = 'Young Adult'\n",
    "    elif age <= 60: cat = 'Adult'\n",
    "    else:\n",
    "        cat = 'Elderly'\n",
    "    return cat\n",
    "t1['age_cat'] = t1.age.apply(lambda x: get_category(x))\n",
    "t1[['age','age_cat']].head()"
   ]
  },
  {
   "cell_type": "code",
   "execution_count": null,
   "id": "b74c1823",
   "metadata": {},
   "outputs": [],
   "source": [
    "# 칼럼-칼럼 연결해서 새로운 칼럼을 만들고 칼럼의 이름 지정하기 (join함수)"
   ]
  },
  {
   "cell_type": "code",
   "execution_count": null,
   "id": "dc3830fb",
   "metadata": {},
   "outputs": [],
   "source": [
    "df1['ind'] = [1,2,3,4]\n",
    "df2['ind'] = [1,2,3,4,5]\n",
    "df1.set_index('ind').join(df2.set_index('ind'),lsuffix='_a',rsuffix='_b')  "
   ]
  },
  {
   "cell_type": "code",
   "execution_count": null,
   "id": "e9f8c291",
   "metadata": {},
   "outputs": [],
   "source": [
    "df1.join(df2,lsuffix='_a',rsuffix='_b',how='inner')  # 교집합\n",
    "df1.join(df2,lsuffix='_a',rsuffix='_b',how='outer')  # 합집합"
   ]
  },
  {
   "cell_type": "code",
   "execution_count": null,
   "id": "df160c05",
   "metadata": {},
   "outputs": [],
   "source": [
    "data = np.arange(1000,5000,1000)\n",
    "obj = pd.Series(data)\n",
    "state = ['Califonia','Ohio','Oregon','Texas']\n",
    "obj.name = 'population'\n",
    "obj.index = state  \n",
    "obj.index.name = 'state'  # 인덱스 이름 설정하기\n",
    "obj"
   ]
  },
  {
   "cell_type": "code",
   "execution_count": null,
   "id": "54323322",
   "metadata": {},
   "outputs": [],
   "source": [
    "# agg transform apply filter"
   ]
  },
  {
   "cell_type": "code",
   "execution_count": null,
   "id": "de6877d4",
   "metadata": {},
   "outputs": [],
   "source": [
    "titanic = sns.load_dataset('titanic')\n",
    "df = titanic.loc[:,['age','sex','class','fare','survived']]\n",
    "grouped = df.groupby(['class'])\n",
    "grouped.head()\n",
    "\n",
    "agg_all = grouped.agg(['min','max'])\n",
    "agg_all.head()\n",
    "agg_sep = grouped.agg({'age':'mean','fare':['min','max']})\n",
    "agg_sep\n",
    "grouped_filter = grouped.filter(lambda x: len(x)>=200).head()\n",
    "print(grouped_filter,'\\n')\n",
    "grouped_filter.value_counts('class')\n",
    "agg_grouped = grouped.apply(lambda x: x.describe())\n",
    "agg_grouped\n",
    "grouped.age.transform(z_score)[:3]"
   ]
  },
  {
   "cell_type": "code",
   "execution_count": null,
   "id": "1d8aceb4",
   "metadata": {},
   "outputs": [],
   "source": [
    "# 그룹화해서 다양하게 연산하기"
   ]
  },
  {
   "cell_type": "code",
   "execution_count": null,
   "id": "889f0b64",
   "metadata": {},
   "outputs": [],
   "source": [
    "group3 = grouped.get_group('Third')\n",
    "grouped = df.groupby(['class'])\n",
    "list(grouped)"
   ]
  },
  {
   "cell_type": "code",
   "execution_count": 22,
   "id": "a588669e",
   "metadata": {},
   "outputs": [
    {
     "name": "stdout",
     "output_type": "stream",
     "text": [
      "2000-01    0.959027\n",
      "2000-02   -1.233195\n",
      "2000-03   -1.546111\n",
      "Freq: M, dtype: float64 \n",
      "\n"
     ]
    },
    {
     "data": {
      "text/plain": [
       "2000-01-31 23:59:59.999999999    0.959027\n",
       "2000-02-29 23:59:59.999999999   -1.233195\n",
       "2000-03-31 23:59:59.999999999   -1.546111\n",
       "dtype: float64"
      ]
     },
     "execution_count": 22,
     "metadata": {},
     "output_type": "execute_result"
    }
   ],
   "source": [
    "import numpy as np\n",
    "rng = pd.period_range('2000-01-01',periods=3, freq='M')\n",
    "ts = pd.Series(np.random.randn(3),index=rng)\n",
    "print(ts,'\\n')\n",
    "ts.to_timestamp(how='end')"
   ]
  },
  {
   "cell_type": "code",
   "execution_count": 24,
   "id": "10e4161e",
   "metadata": {},
   "outputs": [
    {
     "data": {
      "text/plain": [
       "2001-12-31     0\n",
       "2002-12-31     1\n",
       "2003-12-31     2\n",
       "2004-12-31     3\n",
       "2005-12-31     4\n",
       "2006-12-31     5\n",
       "2007-12-31     6\n",
       "2008-12-31     7\n",
       "2009-12-31     8\n",
       "2010-12-31     9\n",
       "2011-12-31    10\n",
       "2012-12-31    11\n",
       "Freq: A-DEC, dtype: int32"
      ]
     },
     "execution_count": 24,
     "metadata": {},
     "output_type": "execute_result"
    }
   ],
   "source": [
    "rng = pd.date_range('2001-01-01',periods=12,freq='Y')\n",
    "ts = pd.Series(np.arange(12),index=rng)\n",
    "ts"
   ]
  }
 ],
 "metadata": {
  "kernelspec": {
   "display_name": "Python 3 (ipykernel)",
   "language": "python",
   "name": "python3"
  },
  "language_info": {
   "codemirror_mode": {
    "name": "ipython",
    "version": 3
   },
   "file_extension": ".py",
   "mimetype": "text/x-python",
   "name": "python",
   "nbconvert_exporter": "python",
   "pygments_lexer": "ipython3",
   "version": "3.8.12"
  }
 },
 "nbformat": 4,
 "nbformat_minor": 5
}
