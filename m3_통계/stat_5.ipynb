{
 "cells": [
  {
   "cell_type": "code",
   "execution_count": 5,
   "id": "357c37ae",
   "metadata": {},
   "outputs": [],
   "source": [
    "import numpy as np\n",
    "import pandas as pd\n",
    "import seaborn as sns\n",
    "import matplotlib.pyplot as plt\n",
    "from scipy import stats, integrate\n",
    "import scipy as sp\n",
    "from scipy import stats"
   ]
  },
  {
   "cell_type": "code",
   "execution_count": 24,
   "id": "30896465",
   "metadata": {},
   "outputs": [
    {
     "data": {
      "text/html": [
       "<div>\n",
       "<style scoped>\n",
       "    .dataframe tbody tr th:only-of-type {\n",
       "        vertical-align: middle;\n",
       "    }\n",
       "\n",
       "    .dataframe tbody tr th {\n",
       "        vertical-align: top;\n",
       "    }\n",
       "\n",
       "    .dataframe thead th {\n",
       "        text-align: right;\n",
       "    }\n",
       "</style>\n",
       "<table border=\"1\" class=\"dataframe\">\n",
       "  <thead>\n",
       "    <tr style=\"text-align: right;\">\n",
       "      <th></th>\n",
       "      <th>score</th>\n",
       "    </tr>\n",
       "  </thead>\n",
       "  <tbody>\n",
       "    <tr>\n",
       "      <th>0</th>\n",
       "      <td>76</td>\n",
       "    </tr>\n",
       "    <tr>\n",
       "      <th>1</th>\n",
       "      <td>55</td>\n",
       "    </tr>\n",
       "    <tr>\n",
       "      <th>2</th>\n",
       "      <td>80</td>\n",
       "    </tr>\n",
       "    <tr>\n",
       "      <th>3</th>\n",
       "      <td>80</td>\n",
       "    </tr>\n",
       "    <tr>\n",
       "      <th>4</th>\n",
       "      <td>74</td>\n",
       "    </tr>\n",
       "  </tbody>\n",
       "</table>\n",
       "</div>"
      ],
      "text/plain": [
       "   score\n",
       "0     76\n",
       "1     55\n",
       "2     80\n",
       "3     80\n",
       "4     74"
      ]
     },
     "metadata": {},
     "output_type": "display_data"
    },
    {
     "name": "stdout",
     "output_type": "stream",
     "text": [
      "모평균, 모분산: 69.53 206.6691\n"
     ]
    },
    {
     "data": {
      "image/png": "[encoded data removed]",
      "text/plain": [
       "<Figure size 720x432 with 1 Axes>"
      ]
     },
     "metadata": {
      "needs_background": "light"
     },
     "output_type": "display_data"
    },
    {
     "name": "stdout",
     "output_type": "stream",
     "text": [
      "모평균: 69.53 \n",
      " 표본평균의 기댓값: 69.53799999999998\n"
     ]
    },
    {
     "data": {
      "text/plain": [
       "69.542954"
      ]
     },
     "execution_count": 24,
     "metadata": {},
     "output_type": "execute_result"
    }
   ],
   "source": [
    "# 시험점수 데이터 불러오기\n",
    "import numpy as np\n",
    "import pandas as pd\n",
    "import matplotlib.pyplot as plt\n",
    "from scipy import stats\n",
    "\n",
    "df = pd.read_csv('data/ch4_scores400.csv')\n",
    "scores = np.array(df['score'])\n",
    "display(df.head())\n",
    "\n",
    "# 모평균과 모분산 \n",
    "p_mean = np.mean(scores)\n",
    "p_var = np.var(scores)\n",
    "print('모평균, 모분산:', p_mean, p_var)\n",
    "\n",
    "# 시험점수 모집단(전교생 시험점수)이 정규분포를 따른다고 가정 \n",
    "plt.figure(figsize=(10,6))\n",
    "xs = np.arange(101)\n",
    "rv = stats.norm(p_mean, np.sqrt(p_var))\n",
    "plt.plot(xs, rv.pdf(xs), color='gray')\n",
    "plt.hist(scores, bins=100, range=(0,100), density=True) # 전체 시험점수 히스토그램\n",
    "plt.show()\n",
    "\n",
    "n = 20\n",
    "# 표본 크기가 20인 표본 데이터 1만 개 추출\n",
    "# (표본으로 평균과 분산을 어느 저옫의 정확도로 추출할 수 있는지 시뮬레이션)\n",
    "np.random.seed(1111)\n",
    "n_samples = 10000\n",
    "samples = np.random.choice(scores, (n_samples, n))\n",
    "\n",
    "## 대수의 법칙을 사용하여 기댓값이 모평균인 것을 확인\n",
    "sample_means = np.mean(samples, axis=1) # 준비해둔 1만 개의 표본 데이터(n=20) 각각의 표본평균을 구하고\n",
    "s_means = np.mean(sample_means)         # 그 표본평균들의 평균(기댓값) 계산\n",
    "print('모평균:', p_mean, '\\n', \n",
    "      '표본평균의 기댓값:', s_means)\n",
    "## 표본크기 n을 백만까지 키웠을 때의 표본평균\n",
    "np.mean(np.random.choice(scores, int(1e6)))"
   ]
  },
  {
   "cell_type": "code",
   "execution_count": 25,
   "id": "19b20d1a",
   "metadata": {},
   "outputs": [
    {
     "name": "stdout",
     "output_type": "stream",
     "text": [
      "모분산: 206.6691 \n",
      " 표본분산: 196.34417850000003 \n",
      " 불편분산: 206.67808263157895\n"
     ]
    }
   ],
   "source": [
    "## 표본분산이 모분산의 불편추정량이 되는지 대수의 법칙으로 확인\n",
    "sample_vars = np.var(samples, axis=1) # 준비해둔 1만 개의 표본 데이터 각각의 표본분산 구하고\n",
    "s_vars = np.mean(sample_vars)         # 표본분산의 평균 \n",
    "## 불편분산이 모분산의 불편추정량이 되는지 확인\n",
    "sample_u_vars = np.var(samples, axis=1, ddof=1)\n",
    "u_vars = np.mean(sample_u_vars)\n",
    "print('모분산:', p_var, '\\n', \n",
    "      '표본분산:', s_vars, '\\n', \n",
    "     '불편분산:', u_vars)"
   ]
  },
  {
   "cell_type": "code",
   "execution_count": 26,
   "id": "909d36cb",
   "metadata": {},
   "outputs": [
    {
     "data": {
      "text/plain": [
       "(126.58633934254858, 130.31508922888)"
      ]
     },
     "execution_count": 26,
     "metadata": {},
     "output_type": "execute_result"
    }
   ],
   "source": [
    "s_mean = np.mean(sample)\n",
    "u_var = np.var(sample, ddof=1)\n",
    "\n",
    "rv = stats.t(df=n-1)\n",
    "lcl = s_mean - rv.isf(0.025) * np.sqrt(u_var/n)\n",
    "ucl = s_mean - rv.isf(0.975) * np.sqrt(u_var/n)\n",
    "lcl,ucl"
   ]
  },
  {
   "cell_type": "code",
   "execution_count": 27,
   "id": "d1d6cb35",
   "metadata": {
    "scrolled": true
   },
   "outputs": [
    {
     "name": "stdout",
     "output_type": "stream",
     "text": [
      "72 \n",
      "    access number\n",
      "0             10\n",
      "1             11\n",
      "2              9\n",
      "3              9\n",
      "4             18 \n",
      "\n"
     ]
    },
    {
     "data": {
      "text/plain": [
       "(9.697953549598202, 11.190935339290688)"
      ]
     },
     "execution_count": 27,
     "metadata": {},
     "output_type": "execute_result"
    }
   ],
   "source": [
    "# 1시간당 액세스 수\n",
    "n_access_df = pd.read_csv('data/ch10_access.csv')\n",
    "print(len(n_access_df),'\\n', n_access_df.head(),'\\n')\n",
    "n_access = np.array(n_access_df['access number'])\n",
    "n = len(n_access)\n",
    "n_access[:10]\n",
    "\n",
    "s_mean = n_access.mean()\n",
    "s_mean\n",
    "\n",
    "rv = stats.norm\n",
    "lcl = s_mean - rv.isf(0.025) * np.sqrt(s_mean/n)\n",
    "ucl = s_mean - rv.isf(0.975) * np.sqrt(s_mean/n)\n",
    "lcl,ucl"
   ]
  },
  {
   "cell_type": "code",
   "execution_count": 28,
   "id": "33dab46f",
   "metadata": {
    "scrolled": true
   },
   "outputs": [
    {
     "name": "stdout",
     "output_type": "stream",
     "text": [
      "-1.932298779026813 \n",
      "\n"
     ]
    },
    {
     "data": {
      "text/plain": [
       "-1.6448536269514722"
      ]
     },
     "execution_count": 28,
     "metadata": {},
     "output_type": "execute_result"
    }
   ],
   "source": [
    "# 검정통계량이 임곗값보다 작으므로 귀무가설을 기각한다.\n",
    "df = pd.read_csv('./data/ch11_potato.csv')\n",
    "sample = df.무게\n",
    "\n",
    "# 검정통계량\n",
    "s_mean = np.mean(sample)\n",
    "z = (s_mean - 130) / np.sqrt(9/14)\n",
    "print(z,'\\n')\n",
    "\n",
    "# 임곗값\n",
    "rv = stats.norm()\n",
    "rv.isf(0.95)"
   ]
  },
  {
   "cell_type": "code",
   "execution_count": 29,
   "id": "c75e5188",
   "metadata": {},
   "outputs": [
    {
     "data": {
      "text/plain": [
       "0.026661319523126635"
      ]
     },
     "execution_count": 29,
     "metadata": {},
     "output_type": "execute_result"
    }
   ],
   "source": [
    "# p값이 유의수준 0.05 보다 작으므로 귀무가설을 기각한다. \n",
    "# \"모평균은 130g이다\"라는 결론이 되는 것은 아니다.\n",
    "p_value = rv.cdf(z)\n",
    "p_value"
   ]
  },
  {
   "cell_type": "code",
   "execution_count": 30,
   "id": "103810b8",
   "metadata": {},
   "outputs": [
    {
     "ename": "AttributeError",
     "evalue": "'AxesSubplot' object has no attribute 'vline'",
     "output_type": "error",
     "traceback": [
      "\u001b[1;31m---------------------------------------------------------------------------\u001b[0m",
      "\u001b[1;31mAttributeError\u001b[0m                            Traceback (most recent call last)",
      "\u001b[1;32m~\\AppData\\Local\\Temp/ipykernel_10324/1230048158.py\u001b[0m in \u001b[0;36m<module>\u001b[1;34m\u001b[0m\n\u001b[0;32m      5\u001b[0m \u001b[0max1\u001b[0m\u001b[1;33m.\u001b[0m\u001b[0mplot\u001b[0m\u001b[1;33m(\u001b[0m\u001b[0mxs\u001b[0m\u001b[1;33m,\u001b[0m\u001b[0mrv\u001b[0m\u001b[1;33m.\u001b[0m\u001b[0mpdf\u001b[0m\u001b[1;33m(\u001b[0m\u001b[0mxs\u001b[0m\u001b[1;33m)\u001b[0m\u001b[1;33m)\u001b[0m\u001b[1;33m\u001b[0m\u001b[1;33m\u001b[0m\u001b[0m\n\u001b[0;32m      6\u001b[0m \u001b[0max2\u001b[0m\u001b[1;33m.\u001b[0m\u001b[0mplot\u001b[0m\u001b[1;33m(\u001b[0m\u001b[0mxs\u001b[0m\u001b[1;33m,\u001b[0m\u001b[0mrv\u001b[0m\u001b[1;33m.\u001b[0m\u001b[0mcdf\u001b[0m\u001b[1;33m(\u001b[0m\u001b[0mxs\u001b[0m\u001b[1;33m)\u001b[0m\u001b[1;33m,\u001b[0m \u001b[0mcolor\u001b[0m\u001b[1;33m=\u001b[0m\u001b[1;34m'black'\u001b[0m\u001b[1;33m)\u001b[0m\u001b[1;33m\u001b[0m\u001b[1;33m\u001b[0m\u001b[0m\n\u001b[1;32m----> 7\u001b[1;33m \u001b[0max1\u001b[0m\u001b[1;33m.\u001b[0m\u001b[0mvline\u001b[0m\u001b[1;33m(\u001b[0m\u001b[0mrv\u001b[0m\u001b[1;33m.\u001b[0m\u001b[0mppf\u001b[0m\u001b[1;33m(\u001b[0m\u001b[1;36m0.05\u001b[0m\u001b[1;33m)\u001b[0m\u001b[1;33m,\u001b[0m \u001b[1;36m0\u001b[0m\u001b[1;33m,\u001b[0m\u001b[1;36m0.5\u001b[0m\u001b[1;33m,\u001b[0m\u001b[0mcolor\u001b[0m\u001b[1;33m=\u001b[0m\u001b[1;34m'gray'\u001b[0m\u001b[1;33m,\u001b[0m\u001b[0mls\u001b[0m\u001b[1;33m=\u001b[0m\u001b[1;34m'--'\u001b[0m\u001b[1;33m)\u001b[0m\u001b[1;33m\u001b[0m\u001b[1;33m\u001b[0m\u001b[0m\n\u001b[0m\u001b[0;32m      8\u001b[0m \u001b[0max1\u001b[0m\u001b[1;33m.\u001b[0m\u001b[0mset_xlabel\u001b[0m\u001b[1;33m(\u001b[0m\u001b[1;34m'x'\u001b[0m\u001b[1;33m,\u001b[0m\u001b[0mfontsize\u001b[0m\u001b[1;33m=\u001b[0m\u001b[1;36m20\u001b[0m\u001b[1;33m)\u001b[0m\u001b[1;33m\u001b[0m\u001b[1;33m\u001b[0m\u001b[0m\n\u001b[0;32m      9\u001b[0m \u001b[0max1\u001b[0m\u001b[1;33m.\u001b[0m\u001b[0mset_ylabel\u001b[0m\u001b[1;33m(\u001b[0m\u001b[1;34m'pdf'\u001b[0m\u001b[1;33m,\u001b[0m\u001b[0mrotation\u001b[0m\u001b[1;33m=\u001b[0m\u001b[1;36m0\u001b[0m\u001b[1;33m,\u001b[0m\u001b[0mfontsize\u001b[0m\u001b[1;33m=\u001b[0m\u001b[1;36m20\u001b[0m\u001b[1;33m)\u001b[0m\u001b[1;33m\u001b[0m\u001b[1;33m\u001b[0m\u001b[0m\n",
      "\u001b[1;31mAttributeError\u001b[0m: 'AxesSubplot' object has no attribute 'vline'"
     ]
    },
    {
     "data": {
      "image/png": "[encoded data removed]",
      "text/plain": [
       "<Figure size 720x432 with 2 Axes>"
      ]
     },
     "metadata": {
      "needs_background": "light"
     },
     "output_type": "display_data"
    }
   ],
   "source": [
    "fig = plt.figure(figsize=(10,6))\n",
    "ax1 = fig.add_subplot(111)\n",
    "ax2 = ax1.twinx()\n",
    "xs = np.linspace(127,133,60)\n",
    "ax1.plot(xs,rv.pdf(xs))\n",
    "ax2.plot(xs,rv.cdf(xs), color='black')\n",
    "ax1.vline(rv.ppf(0.05), 0,0.5,color='gray',ls='--')\n",
    "ax1.set_xlabel('x',fontsize=20)\n",
    "ax1.set_ylabel('pdf',rotation=0,fontsize=20)\n",
    "ax2.set_ylabel('cdf',rotation=0,fontsize=20)\n"
   ]
  },
  {
   "cell_type": "code",
   "execution_count": 31,
   "id": "1148df74",
   "metadata": {},
   "outputs": [
    {
     "data": {
      "text/plain": [
       "-1.932298779026813"
      ]
     },
     "execution_count": 31,
     "metadata": {},
     "output_type": "execute_result"
    }
   ],
   "source": [
    "# 양측검정\n",
    "z = (s_mean-130) / np.sqrt(9/14)\n",
    "z"
   ]
  },
  {
   "cell_type": "code",
   "execution_count": 32,
   "id": "4be29b13",
   "metadata": {},
   "outputs": [
    {
     "data": {
      "text/plain": [
       "(-1.959963984540054, 1.959963984540054)"
      ]
     },
     "execution_count": 32,
     "metadata": {},
     "output_type": "execute_result"
    }
   ],
   "source": [
    "rv = stats.norm()\n",
    "rv.interval(0.95)"
   ]
  },
  {
   "cell_type": "code",
   "execution_count": 33,
   "id": "379d7f74",
   "metadata": {},
   "outputs": [
    {
     "data": {
      "text/plain": [
       "0.05332263904625327"
      ]
     },
     "execution_count": 33,
     "metadata": {},
     "output_type": "execute_result"
    }
   ],
   "source": [
    "# 양측검정의 p값은 상단과 하단의 양쪽 면적을 고려해야 하므로 누적밀도함수의 2배로 한다.\n",
    "# p값이 0.05보다 크므로 귀무가설은 기각되지 않는다. '감자튀김 무게는 130g이 아니다' 라고 말할 수 없다.\n",
    "rv.cdf(z) * 2"
   ]
  },
  {
   "cell_type": "markdown",
   "id": "5df40288",
   "metadata": {},
   "source": [
    "#### 가설검정에서의 두가지 오류\n",
    "- 제 1종 오류 : 귀무가설이 옳을 때 귀무가설을 기각하는 오류\n",
    "  - 실제로 평균이 130g인데도 '모평균은 130g 보다 작다'라는 결론을 내리는 상황\n",
    "- 제 2종 오류 : 대립가설이 옳을 때 귀무가설을 채택하는 오류\n",
    "  - 모평균은 130g 보다 작다인데도 '모평균은 130g 보다 작다' 라는 결론을 얻을 수 없는 비율\n",
    "- 통계적 가설검정에서는 제 1종 오류는 제어할 수 있지만 제 2종 오류는 제어할 수 없는 비대칭성이 있다.\n"
   ]
  },
  {
   "cell_type": "code",
   "execution_count": 50,
   "id": "168ab02f",
   "metadata": {},
   "outputs": [
    {
     "data": {
      "text/plain": [
       "0.0521"
      ]
     },
     "execution_count": 50,
     "metadata": {},
     "output_type": "execute_result"
    }
   ],
   "source": [
    "# 제 1종 오류를 범할 비율 : 위험률, 유의수준(𝛼), 분석가가 제어할 수 있는 확률\n",
    "rv = stats.norm(130,3)\n",
    "c = stats.norm().isf(0.95)\n",
    "n_samples = 10000\n",
    "cnt = 0\n",
    "for _ in range(n_samples):\n",
    "    sample_ = np.round(rv.rvs(14),2)\n",
    "    s_mean_ = np.mean(sample_)\n",
    "    z = (s_mean_ - 130)/ np.sqrt(9/14)\n",
    "    if z < c :\n",
    "        cnt += 1\n",
    "cnt / n_samples"
   ]
  },
  {
   "cell_type": "code",
   "execution_count": 51,
   "id": "b046e643",
   "metadata": {},
   "outputs": [],
   "source": [
    "# 제 2종 오류를 범하는 비율 : 1 - 𝛽 , 검정력, 분석가가 제어할 수 없는 확률\n",
    "# [과제] 감자튀김 사례로 2종 오류를 범하는 비율을 구하세요.(감자튀김 평균이 128g으로 설정되어 있는 것을 알고 있다고 가정))"
   ]
  },
  {
   "cell_type": "markdown",
   "id": "412f77bc",
   "metadata": {},
   "source": [
    "정규분포의 모평균에 대한 검정(모분산을 알고 있음)"
   ]
  },
  {
   "cell_type": "code",
   "execution_count": null,
   "id": "d61c323c",
   "metadata": {},
   "outputs": [],
   "source": [
    "# [과제] 모평균에 대한 검정을 사용자 함수 pmean_test()를 작성하여 감자튀김 사례에 대하여 양측검정으로 수행하세요."
   ]
  },
  {
   "cell_type": "code",
   "execution_count": 52,
   "id": "66b2dc56",
   "metadata": {},
   "outputs": [],
   "source": [
    "# 정규분포의 모분산에 대한 검정\n",
    "def pvar_test(sample,var0,alpha=0.05):\n",
    "    u_var = np.var(sample,ddof=1)\n",
    "    n = len(sample)\n",
    "    rv = stats.chi2(df=n-1)\n",
    "    interval = rv.interval(1-alpha)\n",
    "    \n",
    "    y = (n-1) * u_var / var0 # 검정 통계량\n",
    "    if interval[0] <= y <= interval[1]:\n",
    "        print('귀무가설을 채택')\n",
    "    else:\n",
    "        print('귀무가설을 기각')\n",
    "        \n",
    "    if y < rv.isf(0.5):\n",
    "        p = rv.cdf(y) * 2\n",
    "    else:\n",
    "        p = (1 - rv.cdf(y)) * 2\n",
    "    print(f'p값은 {p:.3f}')\n",
    "        "
   ]
  },
  {
   "cell_type": "code",
   "execution_count": 53,
   "id": "56335315",
   "metadata": {},
   "outputs": [
    {
     "name": "stdout",
     "output_type": "stream",
     "text": [
      "귀무가설을 채택\n",
      "p값은 0.085\n"
     ]
    }
   ],
   "source": [
    "pvar_test(sample, 9)"
   ]
  },
  {
   "cell_type": "markdown",
   "id": "8e3da6af",
   "metadata": {},
   "source": [
    "정규분포의 모평균에 대한 검정(모분산을 알지 못함)"
   ]
  },
  {
   "cell_type": "code",
   "execution_count": 56,
   "id": "edd5209c",
   "metadata": {},
   "outputs": [],
   "source": [
    "def pmean_test(sample,mean0,alpha=0.05):\n",
    "    s_mean = np.mean(sample)\n",
    "    u_var = np.var(sample,ddof=1)\n",
    "    n = len(sample)\n",
    "    rv = stats.t(df=n-1)\n",
    "    interval = rv.interval(1-alpha)\n",
    "\n",
    "    t = (s_mean - mean0) / np.sqrt(u_var/n)\n",
    "    if interval[0] <= t <= interval[1]:\n",
    "        print('귀무가설을 채택')\n",
    "    else:\n",
    "        print('귀무가설을 기각')\n",
    "    if t < 0:\n",
    "        p = rv.cdf(t) * 2\n",
    "    else:\n",
    "        p = (1-rv.cdf(t)) * 2\n",
    "    print(f'p값은 {p:.3f}')\n"
   ]
  },
  {
   "cell_type": "markdown",
   "id": "9cf4c52d",
   "metadata": {},
   "source": [
    "[과제] 대응표본, 독립표본에 대하여 정규분포를 가정하는 경우와 가정할 수 없는 경우의 4가지 유형의 각 사례를 작성하세요."
   ]
  },
  {
   "cell_type": "code",
   "execution_count": 1,
   "id": "8020f0d5",
   "metadata": {},
   "outputs": [],
   "source": [
    "# 정규분포를 가정\n",
    "# 대응표본 t검정 - ex) 같은 시간에 수영을 하는 아침반 사람들이 수영을 한달 한 뒤 체중의 변화가 있는지를 검정?\n",
    "# 독립표본 t검정 - ex) 아침반 사람들은 초보자이고 오후반 사람들은 선수반인데 수영을 한달 한 뒤 두반의 체중의 변화가 있는지를 검정?\n",
    "# 정규분포를 가정할 수 없는 경우\n",
    "# 대응표본 - 윌콕슨의 부호순위검정\n",
    "# 독립표본 - 만 위트니의 U검정"
   ]
  },
  {
   "cell_type": "code",
   "execution_count": 3,
   "id": "20e65dc2",
   "metadata": {},
   "outputs": [
    {
     "name": "stdout",
     "output_type": "stream",
     "text": [
      "(20, 3) \n",
      "     전   후  gap\n",
      "0  59  41  -18\n",
      "1  52  63   11\n",
      "2  55  68   13\n",
      "3  61  59   -2\n",
      "4  59  84   25\n"
     ]
    }
   ],
   "source": [
    "import pandas as pd\n",
    "# 대응표본 t검정\n",
    "data = pd.read_csv('./data/ch11_training_rel.csv')\n",
    "data['gap'] = data['후'] - data['전']\n",
    "print(data.shape, '\\n', data.head())"
   ]
  },
  {
   "cell_type": "code",
   "execution_count": 6,
   "id": "7bc1282a",
   "metadata": {},
   "outputs": [
    {
     "data": {
      "text/plain": [
       "0.04004419061842953"
      ]
     },
     "execution_count": 6,
     "metadata": {},
     "output_type": "execute_result"
    }
   ],
   "source": [
    "#  p값이 유의수준 0.05 보다 작으므로 귀무가설을 기각하며 '근력운동은 집중력에 유의한 차이를 가져온다'라고 할 수 있다. \n",
    "t, p = stats.ttest_1samp(data.gap, 0)\n",
    "p"
   ]
  },
  {
   "cell_type": "code",
   "execution_count": 7,
   "id": "73ca5a99",
   "metadata": {},
   "outputs": [
    {
     "name": "stdout",
     "output_type": "stream",
     "text": [
      "    A   B\n",
      "0  47  49\n",
      "1  50  52\n",
      "2  37  54\n",
      "3  60  48\n",
      "4  39  51\n"
     ]
    }
   ],
   "source": [
    "# 독립표본 t검정\n",
    "data = pd.read_csv('./data/ch11_training_ind.csv')\n",
    "print(data.head())"
   ]
  },
  {
   "cell_type": "code",
   "execution_count": 8,
   "id": "6c944750",
   "metadata": {},
   "outputs": [
    {
     "data": {
      "text/plain": [
       "0.08695731107259362"
      ]
     },
     "execution_count": 8,
     "metadata": {},
     "output_type": "execute_result"
    }
   ],
   "source": [
    "# p값이 0.05 보다 크므로 귀무가설을 채택하며 'A 학생의 학급과 B 학생의 학급사이에는 평균 점수에 유의한 차이가 있다고 말할 수 없다.'\n",
    "t,p = stats.ttest_ind(data.A, data.B, equal_var=False)\n",
    "p"
   ]
  },
  {
   "cell_type": "code",
   "execution_count": 9,
   "id": "e4056a5f",
   "metadata": {},
   "outputs": [],
   "source": [
    "# [과제] 정규분포를 가정할 수 없는 경우 대응표본에 대한 가설검정을 수행하세요.\n",
    "data = pd.read_csv('./data/ch11_training_rel.csv')\n",
    "data1 = data[:6].copy()"
   ]
  },
  {
   "cell_type": "code",
   "execution_count": 10,
   "id": "e55906b6",
   "metadata": {},
   "outputs": [],
   "source": [
    "# [과제] 정규분포를 가정할 수 없는 경우 독립표본에 대한 가설검정을 수행하세요.\n",
    "data = pd.read_csv('./data/ch11_training_ind.csv')\n",
    "data2 = data[:5].copy()"
   ]
  },
  {
   "cell_type": "code",
   "execution_count": null,
   "id": "f28a7fc0",
   "metadata": {},
   "outputs": [],
   "source": []
  }
 ],
 "metadata": {
  "kernelspec": {
   "display_name": "Python 3 (ipykernel)",
   "language": "python",
   "name": "python3"
  },
  "language_info": {
   "codemirror_mode": {
    "name": "ipython",
    "version": 3
   },
   "file_extension": ".py",
   "mimetype": "text/x-python",
   "name": "python",
   "nbconvert_exporter": "python",
   "pygments_lexer": "ipython3",
   "version": "3.8.12"
  }
 },
 "nbformat": 4,
 "nbformat_minor": 5
}
